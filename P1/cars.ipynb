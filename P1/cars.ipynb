{
 "cells": [
  {
   "cell_type": "code",
   "execution_count": 2,
   "id": "dc3eb876",
   "metadata": {},
   "outputs": [],
   "source": [
    "import pandas as pd\n",
    "import numpy as np\n",
    "from time import time\n",
    "from IPython.display import display\n",
    "import seaborn as sns\n",
    "import visuals as vs\n",
    "import matplotlib.pyplot as pl\n",
    "import matplotlib.patches as mpatches\n",
    "\n",
    "# Pretty display for notebooks\n",
    "%matplotlib inline"
   ]
  },
  {
   "cell_type": "markdown",
   "id": "edfe791c",
   "metadata": {},
   "source": [
    "# Data Upload and Cleaning"
   ]
  },
  {
   "cell_type": "code",
   "execution_count": 3,
   "id": "eaf2a007",
   "metadata": {},
   "outputs": [],
   "source": [
    "data = pd.read_csv(\"..\\Datasets\\car\\car.data\")"
   ]
  },
  {
   "cell_type": "code",
   "execution_count": 4,
   "id": "e5f999c2",
   "metadata": {},
   "outputs": [
    {
     "data": {
      "text/html": [
       "<div>\n",
       "<style scoped>\n",
       "    .dataframe tbody tr th:only-of-type {\n",
       "        vertical-align: middle;\n",
       "    }\n",
       "\n",
       "    .dataframe tbody tr th {\n",
       "        vertical-align: top;\n",
       "    }\n",
       "\n",
       "    .dataframe thead th {\n",
       "        text-align: right;\n",
       "    }\n",
       "</style>\n",
       "<table border=\"1\" class=\"dataframe\">\n",
       "  <thead>\n",
       "    <tr style=\"text-align: right;\">\n",
       "      <th></th>\n",
       "      <th>vhigh</th>\n",
       "      <th>vhigh.1</th>\n",
       "      <th>2</th>\n",
       "      <th>2.1</th>\n",
       "      <th>small</th>\n",
       "      <th>low</th>\n",
       "      <th>unacc</th>\n",
       "    </tr>\n",
       "  </thead>\n",
       "  <tbody>\n",
       "    <tr>\n",
       "      <th>0</th>\n",
       "      <td>vhigh</td>\n",
       "      <td>vhigh</td>\n",
       "      <td>2</td>\n",
       "      <td>2</td>\n",
       "      <td>small</td>\n",
       "      <td>med</td>\n",
       "      <td>unacc</td>\n",
       "    </tr>\n",
       "    <tr>\n",
       "      <th>1</th>\n",
       "      <td>vhigh</td>\n",
       "      <td>vhigh</td>\n",
       "      <td>2</td>\n",
       "      <td>2</td>\n",
       "      <td>small</td>\n",
       "      <td>high</td>\n",
       "      <td>unacc</td>\n",
       "    </tr>\n",
       "    <tr>\n",
       "      <th>2</th>\n",
       "      <td>vhigh</td>\n",
       "      <td>vhigh</td>\n",
       "      <td>2</td>\n",
       "      <td>2</td>\n",
       "      <td>med</td>\n",
       "      <td>low</td>\n",
       "      <td>unacc</td>\n",
       "    </tr>\n",
       "    <tr>\n",
       "      <th>3</th>\n",
       "      <td>vhigh</td>\n",
       "      <td>vhigh</td>\n",
       "      <td>2</td>\n",
       "      <td>2</td>\n",
       "      <td>med</td>\n",
       "      <td>med</td>\n",
       "      <td>unacc</td>\n",
       "    </tr>\n",
       "    <tr>\n",
       "      <th>4</th>\n",
       "      <td>vhigh</td>\n",
       "      <td>vhigh</td>\n",
       "      <td>2</td>\n",
       "      <td>2</td>\n",
       "      <td>med</td>\n",
       "      <td>high</td>\n",
       "      <td>unacc</td>\n",
       "    </tr>\n",
       "    <tr>\n",
       "      <th>5</th>\n",
       "      <td>vhigh</td>\n",
       "      <td>vhigh</td>\n",
       "      <td>2</td>\n",
       "      <td>2</td>\n",
       "      <td>big</td>\n",
       "      <td>low</td>\n",
       "      <td>unacc</td>\n",
       "    </tr>\n",
       "    <tr>\n",
       "      <th>6</th>\n",
       "      <td>vhigh</td>\n",
       "      <td>vhigh</td>\n",
       "      <td>2</td>\n",
       "      <td>2</td>\n",
       "      <td>big</td>\n",
       "      <td>med</td>\n",
       "      <td>unacc</td>\n",
       "    </tr>\n",
       "    <tr>\n",
       "      <th>7</th>\n",
       "      <td>vhigh</td>\n",
       "      <td>vhigh</td>\n",
       "      <td>2</td>\n",
       "      <td>2</td>\n",
       "      <td>big</td>\n",
       "      <td>high</td>\n",
       "      <td>unacc</td>\n",
       "    </tr>\n",
       "    <tr>\n",
       "      <th>8</th>\n",
       "      <td>vhigh</td>\n",
       "      <td>vhigh</td>\n",
       "      <td>2</td>\n",
       "      <td>4</td>\n",
       "      <td>small</td>\n",
       "      <td>low</td>\n",
       "      <td>unacc</td>\n",
       "    </tr>\n",
       "    <tr>\n",
       "      <th>9</th>\n",
       "      <td>vhigh</td>\n",
       "      <td>vhigh</td>\n",
       "      <td>2</td>\n",
       "      <td>4</td>\n",
       "      <td>small</td>\n",
       "      <td>med</td>\n",
       "      <td>unacc</td>\n",
       "    </tr>\n",
       "  </tbody>\n",
       "</table>\n",
       "</div>"
      ],
      "text/plain": [
       "   vhigh vhigh.1  2 2.1  small   low  unacc\n",
       "0  vhigh   vhigh  2   2  small   med  unacc\n",
       "1  vhigh   vhigh  2   2  small  high  unacc\n",
       "2  vhigh   vhigh  2   2    med   low  unacc\n",
       "3  vhigh   vhigh  2   2    med   med  unacc\n",
       "4  vhigh   vhigh  2   2    med  high  unacc\n",
       "5  vhigh   vhigh  2   2    big   low  unacc\n",
       "6  vhigh   vhigh  2   2    big   med  unacc\n",
       "7  vhigh   vhigh  2   2    big  high  unacc\n",
       "8  vhigh   vhigh  2   4  small   low  unacc\n",
       "9  vhigh   vhigh  2   4  small   med  unacc"
      ]
     },
     "metadata": {},
     "output_type": "display_data"
    }
   ],
   "source": [
    "display(data.head(n=10))"
   ]
  },
  {
   "cell_type": "code",
   "execution_count": 5,
   "id": "aa90e85a",
   "metadata": {},
   "outputs": [
    {
     "name": "stdout",
     "output_type": "stream",
     "text": [
      "0\n",
      "0\n"
     ]
    },
    {
     "data": {
      "text/plain": [
       "(1727, 7)"
      ]
     },
     "execution_count": 5,
     "metadata": {},
     "output_type": "execute_result"
    }
   ],
   "source": [
    "print(data.isna().sum().sum())\n",
    "print(data.isnull().sum().sum())\n",
    "data.shape"
   ]
  },
  {
   "cell_type": "code",
   "execution_count": 6,
   "id": "42000321",
   "metadata": {},
   "outputs": [],
   "source": [
    "datanum = pd.DataFrame(columns = data.columns)"
   ]
  },
  {
   "cell_type": "code",
   "execution_count": 7,
   "id": "0d108493",
   "metadata": {},
   "outputs": [],
   "source": [
    "categorical = ['vhigh', 'vhigh.1', 'small', 'low', 'unacc']\n",
    "datanum['vhigh'] = data['vhigh'].replace(['low', 'med', 'high', 'vhigh'],\n",
    "                        [0, 1, 2, 3])\n",
    "datanum['vhigh.1'] = data['vhigh.1'].replace(['low', 'med', 'high', 'vhigh'],\n",
    "                        [0, 1, 2, 3])\n",
    "datanum['small'] = data['small'].replace(['small', 'med', 'big'], [0, 1, 2])\n",
    "datanum['low'] = data['low'].replace(['low', 'med', 'high'], [0, 1, 2])\n",
    "datanum['unacc'] = data['unacc'].replace(['unacc', 'acc', 'good', 'vgood'], [0, 1, 2, 3])\n",
    "datanum['2'] = data['2'].replace('5more',5)\n",
    "datanum['2.1'] = data['2.1'].replace('more',5)\n",
    "#datanum = datanum.astype('object').astype('int64')"
   ]
  },
  {
   "cell_type": "code",
   "execution_count": 8,
   "id": "6f022529",
   "metadata": {},
   "outputs": [
    {
     "data": {
      "text/html": [
       "<div>\n",
       "<style scoped>\n",
       "    .dataframe tbody tr th:only-of-type {\n",
       "        vertical-align: middle;\n",
       "    }\n",
       "\n",
       "    .dataframe tbody tr th {\n",
       "        vertical-align: top;\n",
       "    }\n",
       "\n",
       "    .dataframe thead th {\n",
       "        text-align: right;\n",
       "    }\n",
       "</style>\n",
       "<table border=\"1\" class=\"dataframe\">\n",
       "  <thead>\n",
       "    <tr style=\"text-align: right;\">\n",
       "      <th></th>\n",
       "      <th>vhigh</th>\n",
       "      <th>vhigh.1</th>\n",
       "      <th>2</th>\n",
       "      <th>2.1</th>\n",
       "      <th>small</th>\n",
       "      <th>low</th>\n",
       "      <th>unacc</th>\n",
       "    </tr>\n",
       "  </thead>\n",
       "  <tbody>\n",
       "    <tr>\n",
       "      <th>0</th>\n",
       "      <td>3</td>\n",
       "      <td>3</td>\n",
       "      <td>2</td>\n",
       "      <td>2</td>\n",
       "      <td>0</td>\n",
       "      <td>1</td>\n",
       "      <td>0</td>\n",
       "    </tr>\n",
       "    <tr>\n",
       "      <th>1</th>\n",
       "      <td>3</td>\n",
       "      <td>3</td>\n",
       "      <td>2</td>\n",
       "      <td>2</td>\n",
       "      <td>0</td>\n",
       "      <td>2</td>\n",
       "      <td>0</td>\n",
       "    </tr>\n",
       "    <tr>\n",
       "      <th>2</th>\n",
       "      <td>3</td>\n",
       "      <td>3</td>\n",
       "      <td>2</td>\n",
       "      <td>2</td>\n",
       "      <td>1</td>\n",
       "      <td>0</td>\n",
       "      <td>0</td>\n",
       "    </tr>\n",
       "    <tr>\n",
       "      <th>3</th>\n",
       "      <td>3</td>\n",
       "      <td>3</td>\n",
       "      <td>2</td>\n",
       "      <td>2</td>\n",
       "      <td>1</td>\n",
       "      <td>1</td>\n",
       "      <td>0</td>\n",
       "    </tr>\n",
       "    <tr>\n",
       "      <th>4</th>\n",
       "      <td>3</td>\n",
       "      <td>3</td>\n",
       "      <td>2</td>\n",
       "      <td>2</td>\n",
       "      <td>1</td>\n",
       "      <td>2</td>\n",
       "      <td>0</td>\n",
       "    </tr>\n",
       "  </tbody>\n",
       "</table>\n",
       "</div>"
      ],
      "text/plain": [
       "   vhigh  vhigh.1  2 2.1  small  low  unacc\n",
       "0      3        3  2   2      0    1      0\n",
       "1      3        3  2   2      0    2      0\n",
       "2      3        3  2   2      1    0      0\n",
       "3      3        3  2   2      1    1      0\n",
       "4      3        3  2   2      1    2      0"
      ]
     },
     "execution_count": 8,
     "metadata": {},
     "output_type": "execute_result"
    }
   ],
   "source": [
    "datanum.head()"
   ]
  },
  {
   "cell_type": "code",
   "execution_count": 9,
   "id": "1214c6e6",
   "metadata": {},
   "outputs": [
    {
     "data": {
      "text/plain": [
       "array([3, 2, 1, 0], dtype=int64)"
      ]
     },
     "execution_count": 9,
     "metadata": {},
     "output_type": "execute_result"
    }
   ],
   "source": [
    "datanum.describe()\n",
    "datanum['vhigh'].unique()"
   ]
  },
  {
   "cell_type": "markdown",
   "id": "7f6832a9",
   "metadata": {},
   "source": [
    "We can see that output data is skewed because there are very few 2 and 3 types."
   ]
  },
  {
   "cell_type": "code",
   "execution_count": 10,
   "id": "8f344ed5",
   "metadata": {},
   "outputs": [
    {
     "name": "stderr",
     "output_type": "stream",
     "text": [
      "C:\\Users\\segor\\miniconda3\\envs\\ml4t\\lib\\site-packages\\seaborn\\_decorators.py:43: FutureWarning: Pass the following variable as a keyword arg: x. From version 0.12, the only valid positional argument will be `data`, and passing other arguments without an explicit keyword will result in an error or misinterpretation.\n",
      "  FutureWarning\n"
     ]
    },
    {
     "data": {
      "image/png": "[encoded data removed]",
      "text/plain": [
       "<Figure size 432x288 with 1 Axes>"
      ]
     },
     "metadata": {
      "needs_background": "light"
     },
     "output_type": "display_data"
    }
   ],
   "source": [
    "plt = sns.countplot(datanum['unacc'])"
   ]
  },
  {
   "cell_type": "code",
   "execution_count": 11,
   "id": "5c350dba",
   "metadata": {},
   "outputs": [],
   "source": [
    "#import matplotlib.pyplot as plt\n",
    "#plt.figure(figsize=(10,8))\n",
    "#plt = sns.heatmap(correlation, annot=True)"
   ]
  },
  {
   "cell_type": "markdown",
   "id": "cfd2e308",
   "metadata": {},
   "source": [
    "Separate X and Y data."
   ]
  },
  {
   "cell_type": "code",
   "execution_count": 12,
   "id": "fd98ee9f",
   "metadata": {},
   "outputs": [],
   "source": [
    "output = datanum[['unacc']]\n",
    "features = datanum.drop(columns='unacc')\n"
   ]
  },
  {
   "cell_type": "code",
   "execution_count": 13,
   "id": "e07f758f",
   "metadata": {},
   "outputs": [
    {
     "name": "stdout",
     "output_type": "stream",
     "text": [
      "Training set has 1381 samples.\n",
      "Testing set has 346 samples.\n"
     ]
    }
   ],
   "source": [
    "# Import train_test_split\n",
    "# Split into training, validation and testing.\n",
    "from sklearn.model_selection import train_test_split\n",
    "# Split the 'features' and 'income' data into training and testing sets\n",
    "X_train, X_test, y_train, y_test = train_test_split(features, output, \n",
    "                                                    test_size = 0.2, \n",
    "                                                    random_state = 0)\n",
    "\n",
    "print(\"Training set has {} samples.\".format(X_train.shape[0]))\n",
    "print(\"Testing set has {} samples.\".format(X_test.shape[0]))"
   ]
  },
  {
   "cell_type": "code",
   "execution_count": 14,
   "id": "a9176e97",
   "metadata": {},
   "outputs": [
    {
     "name": "stdout",
     "output_type": "stream",
     "text": [
      "Training set has 1104 samples.\n",
      "Validation set has 277 samples.\n",
      "Testing set has 346 samples.\n"
     ]
    }
   ],
   "source": [
    "X_train, X_val, y_train, y_val = train_test_split(X_train, y_train, \n",
    "                                                    test_size = 0.2, \n",
    "                                                    random_state = 0)\n",
    "\n",
    "# Show the results of the split\n",
    "print(\"Training set has {} samples.\".format(X_train.shape[0]))\n",
    "print(\"Validation set has {} samples.\".format(X_val.shape[0]))\n",
    "print(\"Testing set has {} samples.\".format(X_test.shape[0]))"
   ]
  },
  {
   "cell_type": "code",
   "execution_count": 15,
   "id": "0c49c266",
   "metadata": {},
   "outputs": [],
   "source": [
    "from sklearn.preprocessing import MinMaxScaler\n",
    "\n",
    "scaler = MinMaxScaler() # default=(0, 1)\n",
    "# Do scaling on training. Apply the same transformation to validation and testing.\n",
    "X_train_np = scaler.fit_transform(X_train)\n",
    "X_train_std = pd.DataFrame(data=X_train_np,columns=X_train.columns)\n",
    "X_val_np = scaler.transform(X_val)\n",
    "X_val_std = pd.DataFrame(data=X_val_np,columns=X_train.columns)\n",
    "X_test_np = scaler.transform(X_test)\n",
    "X_test_std = pd.DataFrame(data=X_test_np,columns=X_train.columns)\n"
   ]
  },
  {
   "cell_type": "markdown",
   "id": "9adc435b",
   "metadata": {},
   "source": [
    "Plots below show that both training and testing data are representative i.e. divided well."
   ]
  },
  {
   "cell_type": "code",
   "execution_count": 16,
   "id": "7d809e14",
   "metadata": {},
   "outputs": [
    {
     "name": "stderr",
     "output_type": "stream",
     "text": [
      "C:\\Users\\segor\\miniconda3\\envs\\ml4t\\lib\\site-packages\\seaborn\\_decorators.py:43: FutureWarning: Pass the following variable as a keyword arg: x. From version 0.12, the only valid positional argument will be `data`, and passing other arguments without an explicit keyword will result in an error or misinterpretation.\n",
      "  FutureWarning\n"
     ]
    },
    {
     "data": {
      "image/png": "[encoded data removed]",
      "text/plain": [
       "<Figure size 432x288 with 1 Axes>"
      ]
     },
     "metadata": {
      "needs_background": "light"
     },
     "output_type": "display_data"
    }
   ],
   "source": [
    "y_train.describe()\n",
    "plt = sns.countplot(y_train['unacc'])\n"
   ]
  },
  {
   "cell_type": "code",
   "execution_count": 17,
   "id": "60ae186f",
   "metadata": {},
   "outputs": [
    {
     "name": "stderr",
     "output_type": "stream",
     "text": [
      "C:\\Users\\segor\\miniconda3\\envs\\ml4t\\lib\\site-packages\\seaborn\\_decorators.py:43: FutureWarning: Pass the following variable as a keyword arg: x. From version 0.12, the only valid positional argument will be `data`, and passing other arguments without an explicit keyword will result in an error or misinterpretation.\n",
      "  FutureWarning\n"
     ]
    },
    {
     "data": {
      "image/png": "[encoded data removed]",
      "text/plain": [
       "<Figure size 432x288 with 1 Axes>"
      ]
     },
     "metadata": {
      "needs_background": "light"
     },
     "output_type": "display_data"
    }
   ],
   "source": [
    "plt = sns.countplot(y_test['unacc'])\n"
   ]
  },
  {
   "cell_type": "markdown",
   "id": "cb95b27b",
   "metadata": {},
   "source": [
    "# Training and Validation"
   ]
  },
  {
   "cell_type": "markdown",
   "id": "ee30fa2a",
   "metadata": {},
   "source": [
    "Create a function to train and predict the selected learner."
   ]
  },
  {
   "cell_type": "code",
   "execution_count": 18,
   "id": "b86075b2",
   "metadata": {},
   "outputs": [],
   "source": [
    "# TODO: Import two metrics from sklearn - fbeta_score and accuracy_score\n",
    "from sklearn.metrics import fbeta_score\n",
    "from sklearn.metrics import accuracy_score\n",
    "\n",
    "def train_predict(learner, sample_size, X_train, y_train, X_test, y_test): \n",
    "    '''\n",
    "    inputs:\n",
    "       - learner: the learning algorithm to be trained and predicted on\n",
    "       - sample_size: the size of samples (number) to be drawn from training set\n",
    "       - X_train: features training set\n",
    "       - y_train: income training set\n",
    "       - X_test: features testing set\n",
    "       - y_test: income testing set\n",
    "    '''\n",
    "    \n",
    "    results = {}\n",
    "    \n",
    "    # TODO: Fit the learner to the training data using slicing with 'sample_size' using .fit(training_features[:], training_labels[:])\n",
    "    start = time() # Get start time\n",
    "    learner = learner.fit(X_train[0:sample_size],y_train[0:sample_size])\n",
    "    end = time() # Get end time\n",
    "    \n",
    "    # TODO: Calculate the training time\n",
    "    results['train_time'] = end - start\n",
    "        \n",
    "    # TODO: Get the predictions on the test set(X_test),\n",
    "    #       then get predictions on the training samples(X_train) using .predict()\n",
    "    start = time() # Get start time\n",
    "    predictions_test = learner.predict(X_test)\n",
    "    predictions_train = learner.predict(X_train[0:sample_size])\n",
    "    end = time() # Get end time\n",
    "    \n",
    "    # TODO: Calculate the total prediction time\n",
    "    results['pred_time'] = end-start\n",
    "            \n",
    "    # TODO: Compute accuracy on the training samples which is y_train\n",
    "    results['acc_train'] = accuracy_score(y_train[0:sample_size],predictions_train)\n",
    "    \n",
    "     # TODO: Compute accuracy on test set using accuracy_score()\n",
    "    results['acc_test'] = accuracy_score(y_test,predictions_test)\n",
    "    \n",
    "    # TODO: Compute F-score on the the training samples using fbeta_score()\n",
    "    results['f_train'] = fbeta_score(y_train[0:sample_size],predictions_train,beta=1.,average='macro')\n",
    "        \n",
    "    # TODO: Compute F-score on the test set which is y_test\n",
    "    results['f_test'] = fbeta_score(y_test,predictions_test,beta=1.,average='macro')\n",
    "       \n",
    "    # Success\n",
    "    print(\"{} trained on {} samples.\".format(learner.__class__.__name__, sample_size))\n",
    "        \n",
    "    # Return the results\n",
    "    return results\n",
    "\n"
   ]
  },
  {
   "cell_type": "markdown",
   "id": "903c9ef5",
   "metadata": {},
   "source": [
    "The dimensions are reduced from (n,) to (n)."
   ]
  },
  {
   "cell_type": "code",
   "execution_count": 19,
   "id": "665f0126",
   "metadata": {},
   "outputs": [],
   "source": [
    "y_train = y_train.squeeze()\n",
    "y_val = y_val.squeeze()\n",
    "y_test = y_test.squeeze()"
   ]
  },
  {
   "cell_type": "markdown",
   "id": "2bbade04",
   "metadata": {},
   "source": [
    "Classifiers want the X values as object type."
   ]
  },
  {
   "cell_type": "code",
   "execution_count": 20,
   "id": "db960a87",
   "metadata": {},
   "outputs": [],
   "source": [
    "X_train_std = X_train_std.astype('object')\n",
    "X_val_std = X_val_std.astype('object')\n",
    "X_test_std = X_test_std.astype('object')"
   ]
  },
  {
   "cell_type": "markdown",
   "id": "3fc0e5b5",
   "metadata": {},
   "source": [
    "#Check if cross validation helps"
   ]
  },
  {
   "cell_type": "code",
   "execution_count": 21,
   "id": "e3f9c451",
   "metadata": {},
   "outputs": [
    {
     "data": {
      "text/plain": [
       "array([0.87782805, 0.88235294, 0.85067873, 0.83710407, 0.85      ])"
      ]
     },
     "execution_count": 21,
     "metadata": {},
     "output_type": "execute_result"
    }
   ],
   "source": [
    "from sklearn import tree\n",
    "from sklearn.model_selection import cross_validate\n",
    "cv = tree.DecisionTreeClassifier(criterion='gini', max_depth=5, min_samples_split = 5, random_state=42)\n",
    "cv_results = cross_validate(cv, X_train, y_train, cv=5)\n",
    "sorted(cv_results.keys())\n",
    "cv_results['test_score']"
   ]
  },
  {
   "cell_type": "code",
   "execution_count": 22,
   "id": "47da364d",
   "metadata": {},
   "outputs": [
    {
     "name": "stdout",
     "output_type": "stream",
     "text": [
      "DecisionTreeClassifier trained on 11 samples.\n",
      "DecisionTreeClassifier trained on 110 samples.\n",
      "DecisionTreeClassifier trained on 1104 samples.\n",
      "MLPClassifier trained on 11 samples.\n",
      "102\n",
      "MLPClassifier trained on 110 samples.\n",
      "142\n",
      "MLPClassifier trained on 1104 samples.\n",
      "401\n",
      "AdaBoostClassifier trained on 11 samples.\n",
      "AdaBoostClassifier trained on 110 samples.\n",
      "AdaBoostClassifier trained on 1104 samples.\n",
      "SVC trained on 11 samples.\n",
      "SVC trained on 110 samples.\n",
      "SVC trained on 1104 samples.\n",
      "KNeighborsClassifier trained on 11 samples.\n",
      "KNeighborsClassifier trained on 110 samples.\n",
      "KNeighborsClassifier trained on 1104 samples.\n"
     ]
    }
   ],
   "source": [
    "# TODO: Import the three supervised learning models from sklearn\n",
    "from sklearn import tree\n",
    "from sklearn.neural_network import MLPClassifier\n",
    "from sklearn.ensemble import AdaBoostClassifier\n",
    "from sklearn import svm\n",
    "from sklearn.neighbors import KNeighborsClassifier\n",
    "\n",
    "\n",
    "\n",
    "# TODO: Initialize the three models\n",
    "clf_1 = tree.DecisionTreeClassifier(criterion='gini', max_depth=5, min_samples_split = 5, random_state=42)\n",
    "clf_2 = MLPClassifier(hidden_layer_sizes=(10, 10, 10), max_iter = 10000, random_state=42, activation = 'tanh',\n",
    "                      early_stopping = True, n_iter_no_change = 100)\n",
    "clf_3 = AdaBoostClassifier(random_state=42)\n",
    "clf_4 = svm.SVC(random_state=42,gamma=50,kernel='rbf')\n",
    "clf_5 = KNeighborsClassifier(n_neighbors=5)\n",
    "\n",
    "# TODO: Calculate the number of samples for 1%, 10%, and 100% of the training data\n",
    "# HINT: samples_100 is the entire training set i.e. len(y_train)\n",
    "# HINT: samples_10 is 10% of samples_100 (ensure to set the count of the values to be `int` and not `float`)\n",
    "# HINT: samples_1 is 1% of samples_100 (ensure to set the count of the values to be `int` and not `float`)\n",
    "samples_100 = len(y_train)\n",
    "samples_10 = int(0.1*samples_100)\n",
    "samples_1 = int(0.01*samples_100)\n",
    "\n",
    "# Collect results on the learners\n",
    "results = {}\n",
    "for clf in [clf_1, clf_2, clf_3, clf_4, clf_5]:\n",
    "    clf_name = clf.__class__.__name__\n",
    "    results[clf_name] = {}\n",
    "    for i, samples in enumerate([samples_1, samples_10, samples_100]):\n",
    "        results[clf_name][i] = \\\n",
    "        train_predict(clf, samples, X_train_std, y_train, X_test_std, y_test)\n",
    "        if clf==clf_2:\n",
    "            print(clf.n_iter_)\n",
    "\n",
    "# Run metrics visualization for the three supervised learning models chosen\n"
   ]
  },
  {
   "cell_type": "code",
   "execution_count": 23,
   "id": "e8d0e08c",
   "metadata": {},
   "outputs": [
    {
     "name": "stderr",
     "output_type": "stream",
     "text": [
      "C:\\Users\\segor\\miniconda3\\envs\\ml4t\\lib\\site-packages\\seaborn\\_decorators.py:43: FutureWarning: Pass the following variable as a keyword arg: x. From version 0.12, the only valid positional argument will be `data`, and passing other arguments without an explicit keyword will result in an error or misinterpretation.\n",
      "  FutureWarning\n"
     ]
    },
    {
     "data": {
      "text/plain": [
       "<matplotlib.axes._subplots.AxesSubplot at 0x26482e3b860>"
      ]
     },
     "execution_count": 23,
     "metadata": {},
     "output_type": "execute_result"
    },
    {
     "data": {
      "image/png": "[encoded data removed]",
      "text/plain": [
       "<Figure size 432x288 with 1 Axes>"
      ]
     },
     "metadata": {
      "needs_background": "light"
     },
     "output_type": "display_data"
    }
   ],
   "source": [
    "estimate = clf_2.predict(X_test_std)\n",
    "sns.countplot(estimate)"
   ]
  },
  {
   "cell_type": "code",
   "execution_count": 24,
   "id": "f97a0764",
   "metadata": {},
   "outputs": [
    {
     "data": {
      "image/png": "[encoded data removed]",
      "text/plain": [
       "<Figure size 792x576 with 6 Axes>"
      ]
     },
     "metadata": {
      "needs_background": "light"
     },
     "output_type": "display_data"
    }
   ],
   "source": [
    "def evaluate(results):\n",
    "    \"\"\"\n",
    "    Visualization code to display results of various learners.\n",
    "    \n",
    "    inputs:\n",
    "      - learners: a list of supervised learners\n",
    "      - stats: a list of dictionaries of the statistic results from 'train_predict()'\n",
    "      - accuracy: The score for the naive predictor\n",
    "      - f1: The score for the naive predictor\n",
    "    \"\"\"\n",
    "  \n",
    "    # Create figure\n",
    "    fig, ax = pl.subplots(2, 3, figsize = (11,8))\n",
    "\n",
    "    # Constants\n",
    "    bar_width = 0.16\n",
    "    colors = ['green','red','blue', 'brown', 'yellow']\n",
    "    \n",
    "    # Super loop to plot four panels of data\n",
    "    for k, learner in enumerate(results.keys()):\n",
    "        for j, metric in enumerate(['train_time', 'acc_train', 'f_train', 'pred_time', 'acc_test', 'f_test']):\n",
    "            for i in np.arange(3):\n",
    "                \n",
    "                # Creative plot code\n",
    "                ax[j//3, j%3].bar(i+k*bar_width, results[learner][i][metric], width = bar_width, color = colors[k])\n",
    "                ax[j//3, j%3].set_xticks([0.45, 1.45, 2.45])\n",
    "                ax[j//3, j%3].set_xticklabels([\"1%\", \"10%\", \"100%\"])\n",
    "                ax[j//3, j%3].set_xlabel(\"Training Set Size\")\n",
    "                ax[j//3, j%3].set_xlim((-0.1, 3.0))\n",
    "    \n",
    "    # Add unique y-labels\n",
    "    ax[0, 0].set_ylabel(\"Time (in seconds)\")\n",
    "    ax[0, 1].set_ylabel(\"Accuracy Score\")\n",
    "    ax[0, 2].set_ylabel(\"F-score\")\n",
    "    ax[1, 0].set_ylabel(\"Time (in seconds)\")\n",
    "    ax[1, 1].set_ylabel(\"Accuracy Score\")\n",
    "    ax[1, 2].set_ylabel(\"F-score\")\n",
    "    \n",
    "    # Add titles\n",
    "    ax[0, 0].set_title(\"a. Training Time\")\n",
    "    ax[0, 1].set_title(\"b. Accuracy Score on Training Subset\")\n",
    "    ax[0, 2].set_title(\"c. F-score on Training Subset\")\n",
    "    ax[1, 0].set_title(\"d. Prediction/Validation Time\")\n",
    "    ax[1, 1].set_title(\"e. Accuracy Score on Validation Set\")\n",
    "    ax[1, 2].set_title(\"f. F-score on Validation Set\")\n",
    "    \n",
    "    # Set y-limits for score panels\n",
    "    ax[0, 1].set_ylim((0, 1))\n",
    "    ax[0, 2].set_ylim((0, 1))\n",
    "    ax[1, 1].set_ylim((0, 1))\n",
    "    ax[1, 2].set_ylim((0, 1))\n",
    "\n",
    "    # Create patches for the legend\n",
    "    patches = []\n",
    "    for i, learner in enumerate(results.keys()):\n",
    "        patches.append(mpatches.Patch(color = colors[i], label = learner))\n",
    "    pl.legend(handles = patches, bbox_to_anchor = (-.80, 2.7), \\\n",
    "               loc = 'upper center', borderaxespad = 0., ncol = 3, fontsize = 'x-large')\n",
    "    \n",
    "    # Aesthetics\n",
    "    pl.suptitle(\"Performance Metrics for Five Supervised Learning Models\", fontsize = 16, x = 0.63, y = 1.1)\n",
    "    # Tune the subplot layout\n",
    "    # Refer - https://matplotlib.org/3.1.1/api/_as_gen/matplotlib.pyplot.subplots_adjust.html for more details on the arguments\n",
    "    pl.subplots_adjust(left = 0.125, right = 1.2, bottom = 0.1, top = 0.9, wspace = 0.2, hspace = 0.3)    \n",
    "    pl.tight_layout()\n",
    "    pl.show()\n",
    "evaluate(results)"
   ]
  },
  {
   "cell_type": "markdown",
   "id": "ddcf94fc",
   "metadata": {},
   "source": [
    "# Decision Tree Hyperparameter Optimization"
   ]
  },
  {
   "cell_type": "code",
   "execution_count": 25,
   "id": "c7f716aa",
   "metadata": {},
   "outputs": [
    {
     "name": "stdout",
     "output_type": "stream",
     "text": [
      "Fitting 5 folds for each of 72 candidates, totalling 360 fits\n",
      "Unoptimized model\n",
      "------\n",
      "Accuracy score on validation data: 0.9675\n",
      "F-score on validation data: 0.9500\n",
      "\n",
      "Optimized Model\n",
      "------\n",
      "Final accuracy score on the validation data: 0.9567\n",
      "Final F-score on the validation data: 0.8846\n"
     ]
    }
   ],
   "source": [
    "# TODO: Import 'GridSearchCV', 'make_scorer', and any other necessary libraries\n",
    "from sklearn.model_selection import GridSearchCV\n",
    "from sklearn.metrics import make_scorer\n",
    "\n",
    "# TODO: Initialize the classifier\n",
    "clf = tree.DecisionTreeClassifier(random_state=42, criterion = \"gini\")\n",
    "\n",
    "# TODO: Create the parameters list you wish to tune, using a dictionary if needed.\n",
    "# HINT: parameters = {'parameter_1': [value1, value2], 'parameter_2': [value1, value2]}\n",
    "parameters = {'min_samples_leaf': [2, 4, 6],\n",
    "              'min_samples_split': [2, 5, 10],\n",
    "              'max_depth': [3,5,7,9,10,12,15,20]}\n",
    "\n",
    "# TODO: Make an fbeta_score scoring object using make_scorer()\n",
    "scorer = make_scorer(fbeta_score,beta=1.,average='macro')\n",
    "\n",
    "# TODO: Perform grid search on the classifier using 'scorer' as the scoring method using GridSearchCV()\n",
    "grid_obj = GridSearchCV(estimator=clf,param_grid=parameters,scoring=scorer,n_jobs=4,verbose=3)\n",
    "\n",
    "# TODO: Fit the grid search object to the training data and find the optimal parameters using fit()\n",
    "grid_fit = grid_obj.fit(X_train_std,y_train)\n",
    "\n",
    "# Get the estimator\n",
    "best_clf = grid_fit.best_estimator_\n",
    "\n",
    "# Make predictions using the unoptimized and model\n",
    "predictions = (clf.fit(X_train_std, y_train)).predict(X_val_std)\n",
    "best_predictions = best_clf.predict(X_val_std)\n",
    "\n",
    "# Report the before-and-afterscores\n",
    "print(\"Unoptimized model\\n------\")\n",
    "print(\"Accuracy score on validation data: {:.4f}\".format(accuracy_score(y_val, predictions)))\n",
    "print(\"F-score on validation data: {:.4f}\".format(fbeta_score(y_val, predictions, beta = 1., average =\"macro\")))\n",
    "print(\"\\nOptimized Model\\n------\")\n",
    "print(\"Final accuracy score on the validation data: {:.4f}\".format(accuracy_score(y_val, best_predictions)))\n",
    "print(\"Final F-score on the validation data: {:.4f}\".format(fbeta_score(y_val, best_predictions, beta = 1., average =\"macro\")))"
   ]
  },
  {
   "cell_type": "code",
   "execution_count": 26,
   "id": "bfc07a8b",
   "metadata": {},
   "outputs": [
    {
     "data": {
      "text/plain": [
       "{'ccp_alpha': 0.0,\n",
       " 'class_weight': None,\n",
       " 'criterion': 'gini',\n",
       " 'max_depth': 12,\n",
       " 'max_features': None,\n",
       " 'max_leaf_nodes': None,\n",
       " 'min_impurity_decrease': 0.0,\n",
       " 'min_impurity_split': None,\n",
       " 'min_samples_leaf': 2,\n",
       " 'min_samples_split': 2,\n",
       " 'min_weight_fraction_leaf': 0.0,\n",
       " 'random_state': 42,\n",
       " 'splitter': 'best'}"
      ]
     },
     "execution_count": 26,
     "metadata": {},
     "output_type": "execute_result"
    }
   ],
   "source": [
    "best_clf.get_params()"
   ]
  },
  {
   "cell_type": "code",
   "execution_count": 27,
   "id": "a9336973",
   "metadata": {
    "scrolled": true
   },
   "outputs": [],
   "source": [
    "#max_depth validation curve\n",
    "from copy import deepcopy\n",
    "learner = deepcopy(best_clf)\n",
    "results = {}\n",
    "results[\"X\"] = []\n",
    "results[\"f_train\"] = []\n",
    "results[\"f_val\"] = []\n",
    "for i, depth in enumerate(list(range(2,22,2))):\n",
    "    learner = learner.set_params(max_depth=depth)\n",
    "    learner = learner.fit(X_train_std,y_train)\n",
    "    predictions_train = learner.predict(X_train_std)\n",
    "    predictions_val = learner.predict(X_val_std)\n",
    "    results[\"X\"].append(depth)\n",
    "    results[\"f_train\"].append(fbeta_score(y_train,predictions_train,beta=1.,average='macro'))\n",
    "    results[\"f_val\"].append(fbeta_score(y_val,predictions_val,beta=1.,average='macro'))\n",
    "    \n",
    "#min_samples_leaf validation curve\n",
    "learner = deepcopy(best_clf)\n",
    "results2 = {}\n",
    "results2[\"X\"] = []\n",
    "results2[\"f_train\"] = []\n",
    "results2[\"f_val\"] = []\n",
    "for i, param in enumerate(list(range(1,20))):\n",
    "    learner = learner.set_params(min_samples_leaf=param)\n",
    "    learner = learner.fit(X_train_std,y_train)\n",
    "    predictions_train = learner.predict(X_train_std)\n",
    "    predictions_val = learner.predict(X_val_std)\n",
    "    results2[\"X\"].append(param)\n",
    "    results2[\"f_train\"].append(fbeta_score(y_train,predictions_train,beta=1,average='macro'))\n",
    "    results2[\"f_val\"].append(fbeta_score(y_val,predictions_val,beta=1.,average='macro'))\n",
    "    \n",
    "    "
   ]
  },
  {
   "cell_type": "code",
   "execution_count": 28,
   "id": "eddce55b",
   "metadata": {},
   "outputs": [
    {
     "data": {
      "image/png": "[encoded data removed]",
      "text/plain": [
       "<Figure size 792x288 with 2 Axes>"
      ]
     },
     "metadata": {
      "needs_background": "light"
     },
     "output_type": "display_data"
    }
   ],
   "source": [
    "\n",
    "# Create figure\n",
    "fig, ax = pl.subplots(ncols = 2, figsize = (11,4))\n",
    "\n",
    "# max_depth\n",
    "ax[0].plot(results[\"X\"],results[\"f_train\"],color=\"red\",label='Training')\n",
    "ax[0].plot(results[\"X\"],results[\"f_val\"],color=\"blue\", label = 'Validation')\n",
    "ax[0].set_xticks(results[\"X\"])\n",
    "ax[0].legend()\n",
    "ax[0].set_xlabel(\"Max Depth\")\n",
    "ax[0].set_ylabel(\"F-score\")\n",
    "ax[0].set_ylim((0, 1))\n",
    "ax[0].set_xlim((2, 20))\n",
    "    \n",
    "# max_leaf_size\n",
    "ax[1].plot(results2[\"X\"],results2[\"f_train\"],color=\"red\",label='Training')\n",
    "ax[1].plot(results2[\"X\"],results2[\"f_val\"],color=\"blue\", label = 'Validation')\n",
    "ax[1].set_xticks(list(range(1, 20, 3)))\n",
    "ax[1].legend()\n",
    "ax[1].set_xlabel(\"Min Leaf Size\")\n",
    "ax[1].set_ylabel(\"F-score\")\n",
    "ax[1].set_ylim((0, 1))\n",
    "ax[1].set_xlim((1, 20))\n",
    "\n",
    "\n",
    "# Aesthetics\n",
    "pl.suptitle(\"Validation Curves for Decision Tree\", fontsize = 16, x = 0.5, y = 1.1)\n",
    "pl.subplots_adjust(left = 0.125, right = 1.2, bottom = 0.1, top = 0.9, wspace = 0.2, hspace = 0.3)    \n",
    "pl.tight_layout()\n",
    "pl.show()\n",
    "    "
   ]
  },
  {
   "cell_type": "code",
   "execution_count": 29,
   "id": "0f8b2de3",
   "metadata": {
    "scrolled": true
   },
   "outputs": [
    {
     "name": "stdout",
     "output_type": "stream",
     "text": [
      "{'ccp_alpha': 0.0, 'class_weight': None, 'criterion': 'gini', 'max_depth': 8, 'max_features': None, 'max_leaf_nodes': None, 'min_impurity_decrease': 0.0, 'min_impurity_split': None, 'min_samples_leaf': 1, 'min_samples_split': 2, 'min_weight_fraction_leaf': 0.0, 'random_state': 42, 'splitter': 'best'}\n",
      "\n",
      "Final F-score on the testing data: 0.8706\n"
     ]
    }
   ],
   "source": [
    "final_tree_learner = deepcopy(best_clf)\n",
    "final_tree_learner.set_params(max_depth = 8, min_samples_leaf = 1)\n",
    "final_tree_learner = final_tree_learner.fit(X_train_std,y_train)\n",
    "print(final_tree_learner.get_params())\n",
    "\n",
    "final_predictions = final_tree_learner.predict(X_test_std)\n",
    "\n",
    "print(\"\")\n",
    "print(\"Final F-score on the testing data: {:.4f}\".format(fbeta_score(y_test, final_predictions, beta = 1., average =\"macro\")))"
   ]
  },
  {
   "cell_type": "markdown",
   "id": "c3ecae23",
   "metadata": {},
   "source": [
    "# Neural Network Hyper Parameter Optimization"
   ]
  },
  {
   "cell_type": "code",
   "execution_count": 30,
   "id": "cdd096ab",
   "metadata": {},
   "outputs": [
    {
     "name": "stdout",
     "output_type": "stream",
     "text": [
      "Fitting 5 folds for each of 45 candidates, totalling 225 fits\n",
      "Unoptimized model\n",
      "------\n",
      "Accuracy score on validation data: 0.9242\n",
      "F-score on validation data: 0.8594\n",
      "\n",
      "Optimized Model\n",
      "------\n",
      "Final accuracy score on the validation data: 0.9134\n",
      "Final F-score on the validation data: 0.8242\n"
     ]
    }
   ],
   "source": [
    "# TODO: Initialize the classifier\n",
    "clf = MLPClassifier(hidden_layer_sizes=(10, 10, 10), max_iter = 10000, random_state=42, activation = 'tanh',\n",
    "                      early_stopping = True, n_iter_no_change = 100)\n",
    "\n",
    "# TODO: Create the parameters list you wish to tune, using a dictionary if needed.\n",
    "# HINT: parameters = {'parameter_1': [value1, value2], 'parameter_2': [value1, value2]}\n",
    "parameters = {'hidden_layer_sizes': [(3), (5), (10), (15), (20),\n",
    "                                     (3, 3), (5, 5), (10, 10), (15, 15), (20, 20),\n",
    "                                     (3, 3, 3), (5, 5, 5), (10, 10, 10), (15, 15, 15), (20, 20, 20)],\n",
    "              'max_iter': [1000, 10000, 20000]}\n",
    "# 'activation': ['identity', 'logistic', 'tanh', 'relu']\n",
    "# TODO: Make an fbeta_score scoring object using make_scorer()\n",
    "scorer = make_scorer(fbeta_score, beta=1., average='macro')\n",
    "\n",
    "# TODO: Perform grid search on the classifier using 'scorer' as the scoring method using GridSearchCV()\n",
    "grid_obj = GridSearchCV(estimator=clf,param_grid=parameters,scoring=scorer,n_jobs=4,verbose=3)\n",
    "\n",
    "# TODO: Fit the grid search object to the training data and find the optimal parameters using fit()\n",
    "grid_fit = grid_obj.fit(X_train_std,y_train)\n",
    "\n",
    "# Get the estimator\n",
    "best_clf = grid_fit.best_estimator_\n",
    "\n",
    "# Make predictions using the unoptimized and model\n",
    "predictions = (clf.fit(X_train_std, y_train)).predict(X_val_std)\n",
    "best_predictions = best_clf.predict(X_val_std)\n",
    "\n",
    "# Report the before-and-afterscores\n",
    "print(\"Unoptimized model\\n------\")\n",
    "print(\"Accuracy score on validation data: {:.4f}\".format(accuracy_score(y_val, predictions)))\n",
    "print(\"F-score on validation data: {:.4f}\".format(fbeta_score(y_val, predictions, beta = 1., average =\"macro\")))\n",
    "print(\"\\nOptimized Model\\n------\")\n",
    "print(\"Final accuracy score on the validation data: {:.4f}\".format(accuracy_score(y_val, best_predictions)))\n",
    "print(\"Final F-score on the validation data: {:.4f}\".format(fbeta_score(y_val, best_predictions, beta = 1., average =\"macro\")))"
   ]
  },
  {
   "cell_type": "code",
   "execution_count": 31,
   "id": "ca7fb7f7",
   "metadata": {},
   "outputs": [
    {
     "data": {
      "text/plain": [
       "{'activation': 'tanh',\n",
       " 'alpha': 0.0001,\n",
       " 'batch_size': 'auto',\n",
       " 'beta_1': 0.9,\n",
       " 'beta_2': 0.999,\n",
       " 'early_stopping': True,\n",
       " 'epsilon': 1e-08,\n",
       " 'hidden_layer_sizes': (20, 20, 20),\n",
       " 'learning_rate': 'constant',\n",
       " 'learning_rate_init': 0.001,\n",
       " 'max_fun': 15000,\n",
       " 'max_iter': 1000,\n",
       " 'momentum': 0.9,\n",
       " 'n_iter_no_change': 100,\n",
       " 'nesterovs_momentum': True,\n",
       " 'power_t': 0.5,\n",
       " 'random_state': 42,\n",
       " 'shuffle': True,\n",
       " 'solver': 'adam',\n",
       " 'tol': 0.0001,\n",
       " 'validation_fraction': 0.1,\n",
       " 'verbose': False,\n",
       " 'warm_start': False}"
      ]
     },
     "execution_count": 31,
     "metadata": {},
     "output_type": "execute_result"
    }
   ],
   "source": [
    "best_clf.get_params()"
   ]
  },
  {
   "cell_type": "code",
   "execution_count": 32,
   "id": "a53ca263",
   "metadata": {},
   "outputs": [],
   "source": [
    "#no of layers\n",
    "learner = deepcopy(best_clf)\n",
    "results = {}\n",
    "results[\"X\"] = []\n",
    "results[\"f_train\"] = []\n",
    "results[\"f_val\"] = []\n",
    "l = [(20), (20, 20), (20, 20, 20), (20, 20, 20, 20), (20, 20, 20, 20, 20), (20, 20, 20, 20, 20, 20)\n",
    "     , (20, 20, 20, 20, 20, 20, 20)]\n",
    "for i, param in enumerate(l):\n",
    "    learner = learner.set_params(hidden_layer_sizes = param)\n",
    "    learner = learner.fit(X_train_std,y_train)\n",
    "    predictions_train = learner.predict(X_train_std)\n",
    "    predictions_val = learner.predict(X_val_std)\n",
    "    results[\"X\"].append(i+1)\n",
    "    results[\"f_train\"].append(fbeta_score(y_train,predictions_train,beta=1.,average='macro'))\n",
    "    results[\"f_val\"].append(fbeta_score(y_val,predictions_val,beta=1.,average='macro'))\n",
    "    \n",
    "#no of neurons\n",
    "#learner = deepcopy(best_clf)\n",
    "results2 = {}\n",
    "results2[\"X\"] = []\n",
    "results2[\"f_train\"] = []\n",
    "results2[\"f_val\"] = []\n",
    "l = [(1,1,1,1), (3,3,3,3), (5,5,5,5), (10, 10, 10,10), (15, 15, 15,15), (20,20,20,20), (25,25,25,25), (30, 30, 30,30)]\n",
    "for i, param in enumerate(l):\n",
    "    learner = learner.set_params(hidden_layer_sizes=param)\n",
    "    learner = learner.fit(X_train_std,y_train)\n",
    "    predictions_train = learner.predict(X_train_std)\n",
    "    predictions_val = learner.predict(X_val_std)\n",
    "    results2[\"X\"].append(param[0])\n",
    "    results2[\"f_train\"].append(fbeta_score(y_train,predictions_train,beta=1.,average='macro'))\n",
    "    results2[\"f_val\"].append(fbeta_score(y_val,predictions_val,beta=1.,average='macro'))\n",
    "    \n",
    "    "
   ]
  },
  {
   "cell_type": "code",
   "execution_count": 33,
   "id": "77410976",
   "metadata": {},
   "outputs": [
    {
     "data": {
      "image/png": "[encoded data removed]",
      "text/plain": [
       "<Figure size 792x288 with 2 Axes>"
      ]
     },
     "metadata": {
      "needs_background": "light"
     },
     "output_type": "display_data"
    }
   ],
   "source": [
    "# Create figure\n",
    "fig, ax = pl.subplots(ncols = 2, figsize = (11,4))\n",
    "\n",
    "# max_depth\n",
    "ax[0].plot(results[\"X\"],results[\"f_train\"],color=\"red\",label='Training')\n",
    "ax[0].plot(results[\"X\"],results[\"f_val\"],color=\"blue\", label = 'Validation')\n",
    "ax[0].set_xticks(results[\"X\"])\n",
    "ax[0].legend()\n",
    "ax[0].set_xlabel(\"No of Layers\")\n",
    "ax[0].set_ylabel(\"F-score\")\n",
    "ax[0].set_ylim((0, 1))\n",
    "ax[0].set_xlim((1, 7))\n",
    "    \n",
    "# max_leaf_size\n",
    "ax[1].plot(results2[\"X\"],results2[\"f_train\"],color=\"red\",label='Training')\n",
    "ax[1].plot(results2[\"X\"],results2[\"f_val\"],color=\"blue\", label = 'Validation')\n",
    "ax[1].set_xticks(list(range(1, 30, 4)))\n",
    "ax[1].legend()\n",
    "ax[1].set_xlabel(\"No of Neurons per Layer\")\n",
    "ax[1].set_ylabel(\"F-score\")\n",
    "ax[1].set_ylim((0, 1))\n",
    "ax[1].set_xlim((1, 30))\n",
    "\n",
    "\n",
    "# Aesthetics\n",
    "pl.suptitle(\"Validation Curves for Neural Network\", fontsize = 16, x = 0.5, y = 1.1)\n",
    "pl.subplots_adjust(left = 0.125, right = 1.2, bottom = 0.1, top = 0.9, wspace = 0.2, hspace = 0.3)    \n",
    "pl.tight_layout()\n",
    "pl.show()"
   ]
  },
  {
   "cell_type": "code",
   "execution_count": 35,
   "id": "8f324ed5",
   "metadata": {},
   "outputs": [
    {
     "name": "stdout",
     "output_type": "stream",
     "text": [
      "time 2.351435899734497\n",
      "{'activation': 'tanh', 'alpha': 0.0001, 'batch_size': 'auto', 'beta_1': 0.9, 'beta_2': 0.999, 'early_stopping': True, 'epsilon': 1e-08, 'hidden_layer_sizes': (20, 20, 20, 20), 'learning_rate': 'constant', 'learning_rate_init': 0.001, 'max_fun': 15000, 'max_iter': 1000, 'momentum': 0.9, 'n_iter_no_change': 100, 'nesterovs_momentum': True, 'power_t': 0.5, 'random_state': 42, 'shuffle': True, 'solver': 'adam', 'tol': 0.0001, 'validation_fraction': 0.1, 'verbose': False, 'warm_start': False}\n",
      "\n",
      "Final F-score on the training data: 0.9524\n",
      "Final F-score on the testing data: 0.8414\n"
     ]
    }
   ],
   "source": [
    "final_nn = deepcopy(best_clf)\n",
    "final_nn.set_params(hidden_layer_sizes = ((20,20,20,20))) # 4 layers, 10 neurons each\n",
    "start = time()\n",
    "final_nn = final_nn.fit(X_train_std,y_train)\n",
    "end = time()\n",
    "print(\"time\",end-start)\n",
    "print(final_nn.get_params())\n",
    "\n",
    "train_predictions = final_nn.predict(X_train_std)\n",
    "final_predictions = final_nn.predict(X_test_std)\n",
    "\n",
    "print(\"\")\n",
    "print(\"Final F-score on the training data: {:.4f}\".format(fbeta_score(y_train, train_predictions, beta = 1., average =\"macro\")))\n",
    "print(\"Final F-score on the testing data: {:.4f}\".format(fbeta_score(y_test, final_predictions, beta = 1., average =\"macro\")))"
   ]
  },
  {
   "cell_type": "code",
   "execution_count": 36,
   "id": "e08e02ec",
   "metadata": {},
   "outputs": [
    {
     "data": {
      "text/plain": [
       "369"
      ]
     },
     "execution_count": 36,
     "metadata": {},
     "output_type": "execute_result"
    }
   ],
   "source": [
    "final_nn.n_iter_"
   ]
  },
  {
   "cell_type": "markdown",
   "id": "0024f649",
   "metadata": {},
   "source": [
    "# Optimization of Boosting Hyperparameters"
   ]
  },
  {
   "cell_type": "code",
   "execution_count": 95,
   "id": "52e134ba",
   "metadata": {},
   "outputs": [
    {
     "name": "stdout",
     "output_type": "stream",
     "text": [
      "Fitting 5 folds for each of 18 candidates, totalling 90 fits\n",
      "Unoptimized model\n",
      "------\n",
      "Accuracy score on validation data: 0.8412\n",
      "F-score on validation data: 0.7952\n",
      "\n",
      "Optimized Model\n",
      "------\n",
      "Final accuracy score on the validation data: 0.8628\n",
      "Final F-score on the validation data: 0.8179\n"
     ]
    }
   ],
   "source": [
    "# TODO: Initialize the classifier\n",
    "\n",
    "clf = AdaBoostClassifier(random_state=42)\n",
    "base = [tree.DecisionTreeClassifier(max_depth=1)]\n",
    "# TODO: Create the parameters list you wish to tune, using a dictionary if needed.\n",
    "# HINT: parameters = {'parameter_1': [value1, value2], 'parameter_2': [value1, value2]}\n",
    "parameters = {'base_estimator': base,\n",
    "              'n_estimators': list(range(10,100,5))}\n",
    "\n",
    "# TODO: Make an fbeta_score scoring object using make_scorer()\n",
    "scorer = make_scorer(fbeta_score, beta=1., average='macro')\n",
    "\n",
    "# TODO: Perform grid search on the classifier using 'scorer' as the scoring method using GridSearchCV()\n",
    "grid_obj = GridSearchCV(estimator=clf,param_grid=parameters,scoring=scorer,n_jobs=4,verbose=3)\n",
    "\n",
    "# TODO: Fit the grid search object to the training data and find the optimal parameters using fit()\n",
    "grid_fit = grid_obj.fit(X_train_std,y_train)\n",
    "\n",
    "# Get the estimator\n",
    "best_clf = grid_fit.best_estimator_\n",
    "\n",
    "# Make predictions using the unoptimized and model\n",
    "predictions = (clf.fit(X_train_std, y_train)).predict(X_val_std)\n",
    "best_predictions = best_clf.predict(X_val_std)\n",
    "\n",
    "# Report the before-and-afterscores\n",
    "print(\"Unoptimized model\\n------\")\n",
    "print(\"Accuracy score on validation data: {:.4f}\".format(accuracy_score(y_val, predictions)))\n",
    "print(\"F-score on validation data: {:.4f}\".format(fbeta_score(y_val, predictions, beta = 1., average =\"macro\")))\n",
    "print(\"\\nOptimized Model\\n------\")\n",
    "print(\"Final accuracy score on the validation data: {:.4f}\".format(accuracy_score(y_val, best_predictions)))\n",
    "print(\"Final F-score on the validation data: {:.4f}\".format(fbeta_score(y_val, best_predictions, beta = 1., average =\"macro\")))"
   ]
  },
  {
   "cell_type": "code",
   "execution_count": 96,
   "id": "2066fac0",
   "metadata": {},
   "outputs": [
    {
     "data": {
      "text/plain": [
       "{'algorithm': 'SAMME.R',\n",
       " 'base_estimator__ccp_alpha': 0.0,\n",
       " 'base_estimator__class_weight': None,\n",
       " 'base_estimator__criterion': 'gini',\n",
       " 'base_estimator__max_depth': 1,\n",
       " 'base_estimator__max_features': None,\n",
       " 'base_estimator__max_leaf_nodes': None,\n",
       " 'base_estimator__min_impurity_decrease': 0.0,\n",
       " 'base_estimator__min_impurity_split': None,\n",
       " 'base_estimator__min_samples_leaf': 1,\n",
       " 'base_estimator__min_samples_split': 2,\n",
       " 'base_estimator__min_weight_fraction_leaf': 0.0,\n",
       " 'base_estimator__random_state': None,\n",
       " 'base_estimator__splitter': 'best',\n",
       " 'base_estimator': DecisionTreeClassifier(max_depth=1),\n",
       " 'learning_rate': 1.0,\n",
       " 'n_estimators': 30,\n",
       " 'random_state': 42}"
      ]
     },
     "execution_count": 96,
     "metadata": {},
     "output_type": "execute_result"
    }
   ],
   "source": [
    "best_clf.get_params()"
   ]
  },
  {
   "cell_type": "code",
   "execution_count": 97,
   "id": "570320ad",
   "metadata": {},
   "outputs": [],
   "source": [
    "#no of layers\n",
    "learner = deepcopy(best_clf)\n",
    "results = {}\n",
    "results[\"X\"] = []\n",
    "results[\"f_train\"] = []\n",
    "results[\"f_val\"] = []\n",
    "for i, param in enumerate(list(range(1,100))):\n",
    "    learner = learner.set_params(n_estimators = param)\n",
    "    learner = learner.fit(X_train_std,y_train)\n",
    "    predictions_train = learner.predict(X_train_std)\n",
    "    predictions_val = learner.predict(X_val_std)\n",
    "    results[\"X\"].append(param)\n",
    "    results[\"f_train\"].append(fbeta_score(y_train,predictions_train,beta=1.,average='macro'))\n",
    "    results[\"f_val\"].append(fbeta_score(y_val,predictions_val,beta=1.,average='macro'))\n",
    "    \n",
    "#no of neurons\n",
    "learner = deepcopy(best_clf)\n",
    "results2 = {}\n",
    "results2[\"X\"] = []\n",
    "results2[\"f_train\"] = []\n",
    "results2[\"f_val\"] = []\n",
    "for i, param in enumerate(list(range(1,15))):\n",
    "    learner = learner.set_params(base_estimator__max_depth=param)\n",
    "    learner = learner.fit(X_train_std,y_train)\n",
    "    predictions_train = learner.predict(X_train_std)\n",
    "    predictions_val = learner.predict(X_val_std)\n",
    "    results2[\"X\"].append(param)\n",
    "    results2[\"f_train\"].append(fbeta_score(y_train,predictions_train,beta=1.,average='macro'))\n",
    "    results2[\"f_val\"].append(fbeta_score(y_val,predictions_val,beta=1.,average='macro'))\n",
    "    \n",
    "    "
   ]
  },
  {
   "cell_type": "code",
   "execution_count": 98,
   "id": "cbf61550",
   "metadata": {},
   "outputs": [
    {
     "data": {
      "image/png": "[encoded data removed]",
      "text/plain": [
       "<Figure size 792x288 with 2 Axes>"
      ]
     },
     "metadata": {
      "needs_background": "light"
     },
     "output_type": "display_data"
    }
   ],
   "source": [
    "# Create figure\n",
    "fig, ax = pl.subplots(ncols = 2, figsize = (11,4))\n",
    "\n",
    "# max_depth\n",
    "ax[0].plot(results[\"X\"],results[\"f_train\"],color=\"red\",label='Training')\n",
    "ax[0].plot(results[\"X\"],results[\"f_val\"],color=\"blue\", label = 'Validation')\n",
    "ax[0].set_xticks(list(range(1, 100, 10)))\n",
    "ax[0].legend()\n",
    "ax[0].set_xlabel(\"No of Weak Learners\")\n",
    "ax[0].set_ylabel(\"F-score\")\n",
    "ax[0].set_ylim((0, 1))\n",
    "ax[0].set_xlim((1, 100))\n",
    "    \n",
    "# max_leaf_size\n",
    "ax[1].plot(results2[\"X\"],results2[\"f_train\"],color=\"red\",label='Training')\n",
    "ax[1].plot(results2[\"X\"],results2[\"f_val\"],color=\"blue\", label = 'Validation')\n",
    "ax[1].set_xticks(list(range(1, 15, 3)))\n",
    "ax[1].legend()\n",
    "ax[1].set_xlabel(\"Max Depth of Weak Learner\")\n",
    "ax[1].set_ylabel(\"F-score\")\n",
    "ax[1].set_ylim((0, 1))\n",
    "ax[1].set_xlim((1, 15))\n",
    "\n",
    "\n",
    "# Aesthetics\n",
    "pl.suptitle(\"Validation Curves for AdaBoost\", fontsize = 16, x = 0.5, y = 1.1)\n",
    "pl.subplots_adjust(left = 0.125, right = 1.2, bottom = 0.1, top = 0.9, wspace = 0.2, hspace = 0.3)    \n",
    "pl.tight_layout()\n",
    "pl.show()"
   ]
  },
  {
   "cell_type": "code",
   "execution_count": 99,
   "id": "85aa7d40",
   "metadata": {},
   "outputs": [
    {
     "name": "stdout",
     "output_type": "stream",
     "text": [
      "{'algorithm': 'SAMME.R', 'base_estimator__ccp_alpha': 0.0, 'base_estimator__class_weight': None, 'base_estimator__criterion': 'gini', 'base_estimator__max_depth': 5, 'base_estimator__max_features': None, 'base_estimator__max_leaf_nodes': None, 'base_estimator__min_impurity_decrease': 0.0, 'base_estimator__min_impurity_split': None, 'base_estimator__min_samples_leaf': 1, 'base_estimator__min_samples_split': 2, 'base_estimator__min_weight_fraction_leaf': 0.0, 'base_estimator__random_state': None, 'base_estimator__splitter': 'best', 'base_estimator': DecisionTreeClassifier(max_depth=5), 'learning_rate': 1.0, 'n_estimators': 26, 'random_state': 42}\n",
      "\n",
      "Final F-score on the validation data: 0.9552\n"
     ]
    }
   ],
   "source": [
    "final_ADB = deepcopy(best_clf)\n",
    "final_ADB.set_params(n_estimators=26,base_estimator__max_depth=5)\n",
    "final_ADB = final_ADB.fit(X_train_std,y_train)\n",
    "print(final_ADB.get_params())\n",
    "\n",
    "final_predictions = final_ADB.predict(X_val_std)\n",
    "\n",
    "print(\"\")\n",
    "print(\"Final F-score on the validation data: {:.4f}\".format(fbeta_score(y_val, final_predictions, beta = 1., average =\"macro\")))"
   ]
  },
  {
   "cell_type": "code",
   "execution_count": 100,
   "id": "70ae4439",
   "metadata": {},
   "outputs": [
    {
     "name": "stdout",
     "output_type": "stream",
     "text": [
      "\n",
      "Final F-score on the testing data: 0.9160\n"
     ]
    }
   ],
   "source": [
    "final_predictions = final_ADB.predict(X_test_std)\n",
    "\n",
    "print(\"\")\n",
    "print(\"Final F-score on the testing data: {:.4f}\".format(fbeta_score(y_test, final_predictions, beta = 1., average =\"macro\")))"
   ]
  },
  {
   "cell_type": "markdown",
   "id": "a0444d86",
   "metadata": {},
   "source": [
    "# SVC Hyperparameter Optimization"
   ]
  },
  {
   "cell_type": "code",
   "execution_count": 77,
   "id": "ac0fe5b8",
   "metadata": {},
   "outputs": [],
   "source": [
    "#no of layers\n",
    "learner = svm.SVC(random_state=42, kernel = 'poly', C = 1, gamma = 1)\n",
    "results = {}\n",
    "results[\"X\"] = []\n",
    "results[\"f_train\"] = []\n",
    "results[\"f_val\"] = []\n",
    "l = [0.01, 0.1, 1, 10]\n",
    "for i, param in enumerate(l):\n",
    "    learner = learner.set_params(C = param)\n",
    "    learner = learner.fit(X_train_std,y_train)\n",
    "    predictions_train = learner.predict(X_train_std)\n",
    "    predictions_val = learner.predict(X_val_std)\n",
    "    results[\"X\"].append(param)\n",
    "    results[\"f_train\"].append(fbeta_score(y_train,predictions_train,beta=1.,average='macro'))\n",
    "    results[\"f_val\"].append(fbeta_score(y_val,predictions_val,beta=1.,average='macro'))\n",
    "    \n",
    "#no of neurons\n",
    "learner = svm.SVC(random_state=42, kernel = 'poly', C = 1, gamma = 1)\n",
    "results2 = {}\n",
    "results2[\"X\"] = []\n",
    "results2[\"f_train\"] = []\n",
    "results2[\"f_val\"] = []\n",
    "for i, param in enumerate(l):\n",
    "    learner = learner.set_params(gamma  = param)\n",
    "    learner = learner.fit(X_train_std,y_train)\n",
    "    predictions_train = learner.predict(X_train_std)\n",
    "    predictions_val = learner.predict(X_val_std)\n",
    "    results2[\"X\"].append(param)\n",
    "    results2[\"f_train\"].append(fbeta_score(y_train,predictions_train,beta=1.,average='macro'))\n",
    "    results2[\"f_val\"].append(fbeta_score(y_val,predictions_val,beta=1.,average='macro'))\n",
    "    \n",
    "    "
   ]
  },
  {
   "cell_type": "code",
   "execution_count": 78,
   "id": "f1fc093c",
   "metadata": {},
   "outputs": [
    {
     "data": {
      "image/png": "[encoded data removed]",
      "text/plain": [
       "<Figure size 792x288 with 2 Axes>"
      ]
     },
     "metadata": {
      "needs_background": "light"
     },
     "output_type": "display_data"
    }
   ],
   "source": [
    "# Create figure\n",
    "fig, ax = pl.subplots(ncols = 2, figsize = (11,4))\n",
    "\n",
    "# max_depth\n",
    "ax[0].plot(results[\"X\"],results[\"f_train\"],color=\"red\",label='Training')\n",
    "ax[0].plot(results[\"X\"],results[\"f_val\"],color=\"blue\", label = 'Validation')\n",
    "ax[0].set_xticks(list(range(1, 100, 10)))\n",
    "ax[0].legend()\n",
    "ax[0].set_xlabel(\"C\")\n",
    "ax[0].set_ylabel(\"F-score\")\n",
    "ax[0].set_ylim((0, 1))\n",
    "ax[0].set_xlim((0.01, 10))\n",
    "ax[0].set_xscale(\"log\")\n",
    "    \n",
    "# max_leaf_size\n",
    "ax[1].plot(results2[\"X\"],results2[\"f_train\"],color=\"red\",label='Training')\n",
    "ax[1].plot(results2[\"X\"],results2[\"f_val\"],color=\"blue\", label = 'Validation')\n",
    "ax[1].set_xticks(list(range(1, 100, 10)))\n",
    "ax[1].legend()\n",
    "ax[1].set_xlabel(\"Gamma\")\n",
    "ax[1].set_ylabel(\"F-score\")\n",
    "ax[1].set_ylim((0, 1))\n",
    "ax[1].set_xlim((0.01, 10))\n",
    "ax[1].set_xscale(\"log\")\n",
    "\n",
    "\n",
    "# Aesthetics\n",
    "pl.suptitle(\"Validation Curves for SVM - poly\", fontsize = 16, x = 0.5, y = 1.1)\n",
    "pl.subplots_adjust(left = 0.125, right = 1.2, bottom = 0.1, top = 0.9, wspace = 0.2, hspace = 0.3)    \n",
    "pl.tight_layout()\n",
    "pl.show()"
   ]
  },
  {
   "cell_type": "code",
   "execution_count": 101,
   "id": "fae45393",
   "metadata": {},
   "outputs": [],
   "source": [
    "#no of layers\n",
    "learner = svm.SVC(random_state=42, kernel = 'rbf', C = 1, gamma = 1)\n",
    "results = {}\n",
    "results[\"X\"] = []\n",
    "results[\"f_train\"] = []\n",
    "results[\"f_val\"] = []\n",
    "l = [0.01, 0.1, 1, 10, 100]\n",
    "for i, param in enumerate(l):\n",
    "    learner = learner.set_params(C = param)\n",
    "    learner = learner.fit(X_train_std,y_train)\n",
    "    predictions_train = learner.predict(X_train_std)\n",
    "    predictions_val = learner.predict(X_val_std)\n",
    "    results[\"X\"].append(param)\n",
    "    results[\"f_train\"].append(fbeta_score(y_train,predictions_train,beta=1.,average='macro'))\n",
    "    results[\"f_val\"].append(fbeta_score(y_val,predictions_val,beta=1.,average='macro'))\n",
    "    \n",
    "#no of neurons\n",
    "learner = svm.SVC(random_state=42, kernel = 'rbf', C = 100, gamma = 1)\n",
    "results2 = {}\n",
    "results2[\"X\"] = []\n",
    "results2[\"f_train\"] = []\n",
    "results2[\"f_val\"] = []\n",
    "for i, param in enumerate(l):\n",
    "    learner = learner.set_params(gamma  = param)\n",
    "    learner = learner.fit(X_train_std,y_train)\n",
    "    predictions_train = learner.predict(X_train_std)\n",
    "    predictions_val = learner.predict(X_val_std)\n",
    "    results2[\"X\"].append(param)\n",
    "    results2[\"f_train\"].append(fbeta_score(y_train,predictions_train,beta=1.,average='macro'))\n",
    "    results2[\"f_val\"].append(fbeta_score(y_val,predictions_val,beta=1.,average='macro'))\n",
    "    \n",
    "    "
   ]
  },
  {
   "cell_type": "code",
   "execution_count": 102,
   "id": "1b1c3b29",
   "metadata": {},
   "outputs": [
    {
     "data": {
      "image/png": "[encoded data removed]",
      "text/plain": [
       "<Figure size 792x288 with 2 Axes>"
      ]
     },
     "metadata": {
      "needs_background": "light"
     },
     "output_type": "display_data"
    }
   ],
   "source": [
    "# Create figure\n",
    "fig, ax = pl.subplots(ncols = 2, figsize = (11,4))\n",
    "\n",
    "# max_depth\n",
    "ax[0].plot(results[\"X\"],results[\"f_train\"],color=\"red\",label='Training')\n",
    "ax[0].plot(results[\"X\"],results[\"f_val\"],color=\"blue\", label = 'Validation')\n",
    "ax[0].set_xticks(list(range(1, 100, 10)))\n",
    "ax[0].legend()\n",
    "ax[0].set_xlabel(\"C\")\n",
    "ax[0].set_ylabel(\"F-score\")\n",
    "ax[0].set_ylim((0, 1))\n",
    "ax[0].set_xlim((0.01, 100))\n",
    "ax[0].set_xscale(\"log\")\n",
    "    \n",
    "# max_leaf_size\n",
    "ax[1].plot(results2[\"X\"],results2[\"f_train\"],color=\"red\",label='Training')\n",
    "ax[1].plot(results2[\"X\"],results2[\"f_val\"],color=\"blue\", label = 'Validation')\n",
    "ax[1].set_xticks(list(range(1, 100, 10)))\n",
    "ax[1].legend()\n",
    "ax[1].set_xlabel(\"Gamma\")\n",
    "ax[1].set_ylabel(\"F-score\")\n",
    "ax[1].set_ylim((0, 1))\n",
    "ax[1].set_xlim((0.01, 100))\n",
    "ax[1].set_xscale(\"log\")\n",
    "\n",
    "\n",
    "# Aesthetics\n",
    "pl.suptitle(\"Validation Curves for SVM-rbf\", fontsize = 16, x = 0.5, y = 1.1)\n",
    "pl.subplots_adjust(left = 0.125, right = 1.2, bottom = 0.1, top = 0.9, wspace = 0.2, hspace = 0.3)    \n",
    "pl.tight_layout()\n",
    "pl.show()"
   ]
  },
  {
   "cell_type": "code",
   "execution_count": 103,
   "id": "b9f1876b",
   "metadata": {},
   "outputs": [],
   "source": [
    "#Kernel type\n",
    "learner = svm.SVC(random_state=42, kernel = 'rbf', C = 100, gamma = 1)\n",
    "results = {}\n",
    "results[\"X\"] = []\n",
    "results[\"f_train\"] = []\n",
    "results[\"f_val\"] = []\n",
    "kernel = {\"linear\", \"poly\", \"rbf\", \"sigmoid\"}\n",
    "for i, param in enumerate(kernel):\n",
    "    learner = learner.set_params(kernel = param)\n",
    "    learner = learner.fit(X_train_std,y_train)\n",
    "    predictions_train = learner.predict(X_train_std)\n",
    "    predictions_val = learner.predict(X_val_std)\n",
    "    results[\"X\"].append(param)\n",
    "    results[\"f_train\"].append(fbeta_score(y_train,predictions_train,beta=1.,average='macro'))\n",
    "    results[\"f_val\"].append(fbeta_score(y_val,predictions_val,beta=1.,average='macro'))\n",
    "    \n",
    "# degree of poly  \n",
    "learner = svm.SVC(random_state=42, kernel = 'poly', C = 1, gamma = 1)\n",
    "results2 = {}\n",
    "results2[\"X\"] = []\n",
    "results2[\"f_train\"] = []\n",
    "results2[\"f_val\"] = []\n",
    "degree = [1, 2, 3, 4, 5]\n",
    "for i, param in enumerate(degree):\n",
    "    learner = learner.set_params(degree  = param)\n",
    "    learner = learner.fit(X_train_std,y_train)\n",
    "    predictions_train = learner.predict(X_train_std)\n",
    "    predictions_val = learner.predict(X_val_std)\n",
    "    results2[\"X\"].append(param)\n",
    "    results2[\"f_train\"].append(fbeta_score(y_train,predictions_train,beta=1.,average='macro'))\n",
    "    results2[\"f_val\"].append(fbeta_score(y_val,predictions_val,beta=1.,average='macro'))"
   ]
  },
  {
   "cell_type": "code",
   "execution_count": 104,
   "id": "e48b772f",
   "metadata": {},
   "outputs": [
    {
     "data": {
      "image/png": "[encoded data removed]",
      "text/plain": [
       "<Figure size 792x288 with 2 Axes>"
      ]
     },
     "metadata": {
      "needs_background": "light"
     },
     "output_type": "display_data"
    }
   ],
   "source": [
    "# Create figure\n",
    "fig, ax = pl.subplots(ncols = 2, figsize = (11,4))\n",
    "\n",
    "# max_depth\n",
    "ax[0].plot(results[\"X\"],results[\"f_train\"],color=\"red\",label='Training')\n",
    "ax[0].plot(results[\"X\"],results[\"f_val\"],color=\"blue\", label = 'Validation')\n",
    "#ax[0].set_xticks(list(range(1, 100, 10)))\n",
    "ax[0].legend()\n",
    "ax[0].set_xlabel(\"Kernel Type\")\n",
    "ax[0].set_ylabel(\"F-score\")\n",
    "ax[0].set_ylim((0, 1))\n",
    "#ax[0].set_xlim((0.01, 100))\n",
    "#ax[0].set_xscale(\"log\")\n",
    "    \n",
    "# max_leaf_size\n",
    "ax[1].plot(results2[\"X\"],results2[\"f_train\"],color=\"red\",label='Training')\n",
    "ax[1].plot(results2[\"X\"],results2[\"f_val\"],color=\"blue\", label = 'Validation')\n",
    "ax[1].set_xticks(list(range(1, 5)))\n",
    "ax[1].legend()\n",
    "ax[1].set_xlabel(\"Poly degree\")\n",
    "ax[1].set_ylabel(\"F-score\")\n",
    "ax[1].set_ylim((0, 1))\n",
    "ax[1].set_xlim((1, 5))\n",
    "#ax[1].set_xscale(\"log\")\n",
    "\n",
    "\n",
    "# Aesthetics\n",
    "pl.suptitle(\"Validation Curves for SVM-rbf\", fontsize = 16, x = 0.5, y = 1.1)\n",
    "pl.subplots_adjust(left = 0.125, right = 1.2, bottom = 0.1, top = 0.9, wspace = 0.2, hspace = 0.3)    \n",
    "pl.tight_layout()\n",
    "pl.show()"
   ]
  },
  {
   "cell_type": "code",
   "execution_count": 107,
   "id": "7e5fc1b4",
   "metadata": {},
   "outputs": [
    {
     "name": "stdout",
     "output_type": "stream",
     "text": [
      "Final F-score on the testing data: 0.9978\n"
     ]
    }
   ],
   "source": [
    "final_svm = svm.SVC(random_state=42,  kernel = 'rbf', C = 100, gamma = 1)\n",
    "final_svm = final_svm.fit(X_train_std, y_train)\n",
    "final_predictions = final_svm.predict(X_test_std)\n",
    "print(\"Final F-score on the testing data: {:.4f}\".format(fbeta_score(y_test, final_predictions, beta = 1., average =\"macro\")))"
   ]
  },
  {
   "cell_type": "markdown",
   "id": "179977f5",
   "metadata": {},
   "source": [
    "# KNN Hyperparameter Optimization"
   ]
  },
  {
   "cell_type": "code",
   "execution_count": 84,
   "id": "18e3ee29",
   "metadata": {},
   "outputs": [],
   "source": [
    "#no of layers\n",
    "learner = KNeighborsClassifier(n_neighbors=1)\n",
    "results = {}\n",
    "results[\"X\"] = []\n",
    "results[\"f_train\"] = []\n",
    "results[\"f_val\"] = []\n",
    "l = list(range(1,100))\n",
    "for i, param in enumerate(l):\n",
    "    learner = learner.set_params(n_neighbors = param)\n",
    "    learner = learner.fit(X_train_std,y_train)\n",
    "    predictions_train = learner.predict(X_train_std)\n",
    "    predictions_val = learner.predict(X_val_std)\n",
    "    results[\"X\"].append(param)\n",
    "    results[\"f_train\"].append(fbeta_score(y_train,predictions_train,beta=1.,average='macro'))\n",
    "    results[\"f_val\"].append(fbeta_score(y_val,predictions_val,beta=1.,average='macro'))\n",
    "    \n",
    "#no of neurons\n",
    "learner = KNeighborsClassifier(n_neighbors=1)\n",
    "results2 = {}\n",
    "results2[\"X\"] = []\n",
    "results2[\"f_train\"] = []\n",
    "results2[\"f_val\"] = []\n",
    "l = [\"uniform\", \"distance\"]\n",
    "for i, param in enumerate(l):\n",
    "    learner = learner.set_params(weights  = param)\n",
    "    learner = learner.fit(X_train_std,y_train)\n",
    "    predictions_train = learner.predict(X_train_std)\n",
    "    predictions_val = learner.predict(X_val_std)\n",
    "    results2[\"X\"].append(param)\n",
    "    results2[\"f_train\"].append(fbeta_score(y_train,predictions_train,beta=1.,average='macro'))\n",
    "    results2[\"f_val\"].append(fbeta_score(y_val,predictions_val,beta=1.,average='macro'))\n",
    "    \n",
    "    "
   ]
  },
  {
   "cell_type": "code",
   "execution_count": 85,
   "id": "e165147c",
   "metadata": {},
   "outputs": [
    {
     "data": {
      "image/png": "[encoded data removed]",
      "text/plain": [
       "<Figure size 792x288 with 2 Axes>"
      ]
     },
     "metadata": {
      "needs_background": "light"
     },
     "output_type": "display_data"
    }
   ],
   "source": [
    "# Create figure\n",
    "fig, ax = pl.subplots(ncols = 2, figsize = (11,4))\n",
    "\n",
    "# max_depth\n",
    "ax[0].plot(results[\"X\"],results[\"f_train\"],color=\"red\",label='Training')\n",
    "ax[0].plot(results[\"X\"],results[\"f_val\"],color=\"blue\", label = 'Validation')\n",
    "ax[0].set_xticks(list(range(1, 100, 10)))\n",
    "ax[0].legend()\n",
    "ax[0].set_xlabel(\"Number of neighbors\")\n",
    "ax[0].set_ylabel(\"F-score\")\n",
    "ax[0].set_ylim((0, 1))\n",
    "ax[0].set_xlim((1, 100))\n",
    "    \n",
    "# max_leaf_size\n",
    "ax[1].plot(results2[\"X\"],results2[\"f_train\"],color=\"red\",label='Training')\n",
    "ax[1].plot(results2[\"X\"],results2[\"f_val\"],color=\"blue\", label = 'Validation')\n",
    "#ax[1].set_xticks(list(range(1, 100, 10)))\n",
    "ax[1].legend()\n",
    "ax[1].set_xlabel(\"Weights\")\n",
    "ax[1].set_ylabel(\"F-score\")\n",
    "ax[1].set_ylim((0, 1))\n",
    "#ax[1].set_xlim((0.01, 10))\n",
    "\n",
    "\n",
    "# Aesthetics\n",
    "pl.suptitle(\"Validation Curves for SVM - poly\", fontsize = 16, x = 0.5, y = 1.1)\n",
    "pl.subplots_adjust(left = 0.125, right = 1.2, bottom = 0.1, top = 0.9, wspace = 0.2, hspace = 0.3)    \n",
    "pl.tight_layout()\n",
    "pl.show()"
   ]
  },
  {
   "cell_type": "code",
   "execution_count": 109,
   "id": "8b24b614",
   "metadata": {},
   "outputs": [
    {
     "name": "stdout",
     "output_type": "stream",
     "text": [
      "Final F-score on the testing data: 0.9978\n"
     ]
    }
   ],
   "source": [
    "final_knn = KNeighborsClassifier(n_neighbors=1)\n",
    "final_knn = final_knn.fit(X_train_std, y_train)\n",
    "final_predictions = final_svm.predict(X_test_std)\n",
    "print(\"Final F-score on the testing data: {:.4f}\".format(fbeta_score(y_test, final_predictions, beta = 1., average =\"macro\")))"
   ]
  }
 ],
 "metadata": {
  "kernelspec": {
   "display_name": "Python 3",
   "language": "python",
   "name": "python3"
  },
  "language_info": {
   "codemirror_mode": {
    "name": "ipython",
    "version": 3
   },
   "file_extension": ".py",
   "mimetype": "text/x-python",
   "name": "python",
   "nbconvert_exporter": "python",
   "pygments_lexer": "ipython3",
   "version": "3.6.13"
  }
 },
 "nbformat": 4,
 "nbformat_minor": 5
}
