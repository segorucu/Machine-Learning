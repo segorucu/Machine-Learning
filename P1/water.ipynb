{
 "cells": [
  {
   "cell_type": "code",
   "execution_count": 1,
   "id": "eef77504",
   "metadata": {},
   "outputs": [],
   "source": [
    "import pandas as pd\n",
    "import numpy as np\n",
    "from time import time\n",
    "from IPython.display import display\n",
    "import seaborn as sns\n",
    "import visuals as vs\n",
    "import matplotlib.pyplot as pl\n",
    "import matplotlib.patches as mpatches\n",
    "\n",
    "# Pretty display for notebooks\n",
    "%matplotlib inline"
   ]
  },
  {
   "cell_type": "code",
   "execution_count": 2,
   "id": "6d400dd9",
   "metadata": {},
   "outputs": [],
   "source": [
    "data = pd.read_csv(\"..\\Datasets\\water\\water_potability.csv\")"
   ]
  },
  {
   "cell_type": "code",
   "execution_count": 3,
   "id": "ec3658c0",
   "metadata": {},
   "outputs": [
    {
     "data": {
      "text/html": [
       "<div>\n",
       "<style scoped>\n",
       "    .dataframe tbody tr th:only-of-type {\n",
       "        vertical-align: middle;\n",
       "    }\n",
       "\n",
       "    .dataframe tbody tr th {\n",
       "        vertical-align: top;\n",
       "    }\n",
       "\n",
       "    .dataframe thead th {\n",
       "        text-align: right;\n",
       "    }\n",
       "</style>\n",
       "<table border=\"1\" class=\"dataframe\">\n",
       "  <thead>\n",
       "    <tr style=\"text-align: right;\">\n",
       "      <th></th>\n",
       "      <th>ph</th>\n",
       "      <th>Hardness</th>\n",
       "      <th>Solids</th>\n",
       "      <th>Chloramines</th>\n",
       "      <th>Sulfate</th>\n",
       "      <th>Conductivity</th>\n",
       "      <th>Organic_carbon</th>\n",
       "      <th>Trihalomethanes</th>\n",
       "      <th>Turbidity</th>\n",
       "      <th>Potability</th>\n",
       "    </tr>\n",
       "  </thead>\n",
       "  <tbody>\n",
       "    <tr>\n",
       "      <th>0</th>\n",
       "      <td>NaN</td>\n",
       "      <td>204.890455</td>\n",
       "      <td>20791.318981</td>\n",
       "      <td>7.300212</td>\n",
       "      <td>368.516441</td>\n",
       "      <td>564.308654</td>\n",
       "      <td>10.379783</td>\n",
       "      <td>86.990970</td>\n",
       "      <td>2.963135</td>\n",
       "      <td>0</td>\n",
       "    </tr>\n",
       "    <tr>\n",
       "      <th>1</th>\n",
       "      <td>3.716080</td>\n",
       "      <td>129.422921</td>\n",
       "      <td>18630.057858</td>\n",
       "      <td>6.635246</td>\n",
       "      <td>NaN</td>\n",
       "      <td>592.885359</td>\n",
       "      <td>15.180013</td>\n",
       "      <td>56.329076</td>\n",
       "      <td>4.500656</td>\n",
       "      <td>0</td>\n",
       "    </tr>\n",
       "    <tr>\n",
       "      <th>2</th>\n",
       "      <td>8.099124</td>\n",
       "      <td>224.236259</td>\n",
       "      <td>19909.541732</td>\n",
       "      <td>9.275884</td>\n",
       "      <td>NaN</td>\n",
       "      <td>418.606213</td>\n",
       "      <td>16.868637</td>\n",
       "      <td>66.420093</td>\n",
       "      <td>3.055934</td>\n",
       "      <td>0</td>\n",
       "    </tr>\n",
       "    <tr>\n",
       "      <th>3</th>\n",
       "      <td>8.316766</td>\n",
       "      <td>214.373394</td>\n",
       "      <td>22018.417441</td>\n",
       "      <td>8.059332</td>\n",
       "      <td>356.886136</td>\n",
       "      <td>363.266516</td>\n",
       "      <td>18.436524</td>\n",
       "      <td>100.341674</td>\n",
       "      <td>4.628771</td>\n",
       "      <td>0</td>\n",
       "    </tr>\n",
       "    <tr>\n",
       "      <th>4</th>\n",
       "      <td>9.092223</td>\n",
       "      <td>181.101509</td>\n",
       "      <td>17978.986339</td>\n",
       "      <td>6.546600</td>\n",
       "      <td>310.135738</td>\n",
       "      <td>398.410813</td>\n",
       "      <td>11.558279</td>\n",
       "      <td>31.997993</td>\n",
       "      <td>4.075075</td>\n",
       "      <td>0</td>\n",
       "    </tr>\n",
       "    <tr>\n",
       "      <th>5</th>\n",
       "      <td>5.584087</td>\n",
       "      <td>188.313324</td>\n",
       "      <td>28748.687739</td>\n",
       "      <td>7.544869</td>\n",
       "      <td>326.678363</td>\n",
       "      <td>280.467916</td>\n",
       "      <td>8.399735</td>\n",
       "      <td>54.917862</td>\n",
       "      <td>2.559708</td>\n",
       "      <td>0</td>\n",
       "    </tr>\n",
       "    <tr>\n",
       "      <th>6</th>\n",
       "      <td>10.223862</td>\n",
       "      <td>248.071735</td>\n",
       "      <td>28749.716544</td>\n",
       "      <td>7.513408</td>\n",
       "      <td>393.663396</td>\n",
       "      <td>283.651634</td>\n",
       "      <td>13.789695</td>\n",
       "      <td>84.603556</td>\n",
       "      <td>2.672989</td>\n",
       "      <td>0</td>\n",
       "    </tr>\n",
       "    <tr>\n",
       "      <th>7</th>\n",
       "      <td>8.635849</td>\n",
       "      <td>203.361523</td>\n",
       "      <td>13672.091764</td>\n",
       "      <td>4.563009</td>\n",
       "      <td>303.309771</td>\n",
       "      <td>474.607645</td>\n",
       "      <td>12.363817</td>\n",
       "      <td>62.798309</td>\n",
       "      <td>4.401425</td>\n",
       "      <td>0</td>\n",
       "    </tr>\n",
       "    <tr>\n",
       "      <th>8</th>\n",
       "      <td>NaN</td>\n",
       "      <td>118.988579</td>\n",
       "      <td>14285.583854</td>\n",
       "      <td>7.804174</td>\n",
       "      <td>268.646941</td>\n",
       "      <td>389.375566</td>\n",
       "      <td>12.706049</td>\n",
       "      <td>53.928846</td>\n",
       "      <td>3.595017</td>\n",
       "      <td>0</td>\n",
       "    </tr>\n",
       "    <tr>\n",
       "      <th>9</th>\n",
       "      <td>11.180284</td>\n",
       "      <td>227.231469</td>\n",
       "      <td>25484.508491</td>\n",
       "      <td>9.077200</td>\n",
       "      <td>404.041635</td>\n",
       "      <td>563.885481</td>\n",
       "      <td>17.927806</td>\n",
       "      <td>71.976601</td>\n",
       "      <td>4.370562</td>\n",
       "      <td>0</td>\n",
       "    </tr>\n",
       "  </tbody>\n",
       "</table>\n",
       "</div>"
      ],
      "text/plain": [
       "          ph    Hardness        Solids  Chloramines     Sulfate  Conductivity  \\\n",
       "0        NaN  204.890455  20791.318981     7.300212  368.516441    564.308654   \n",
       "1   3.716080  129.422921  18630.057858     6.635246         NaN    592.885359   \n",
       "2   8.099124  224.236259  19909.541732     9.275884         NaN    418.606213   \n",
       "3   8.316766  214.373394  22018.417441     8.059332  356.886136    363.266516   \n",
       "4   9.092223  181.101509  17978.986339     6.546600  310.135738    398.410813   \n",
       "5   5.584087  188.313324  28748.687739     7.544869  326.678363    280.467916   \n",
       "6  10.223862  248.071735  28749.716544     7.513408  393.663396    283.651634   \n",
       "7   8.635849  203.361523  13672.091764     4.563009  303.309771    474.607645   \n",
       "8        NaN  118.988579  14285.583854     7.804174  268.646941    389.375566   \n",
       "9  11.180284  227.231469  25484.508491     9.077200  404.041635    563.885481   \n",
       "\n",
       "   Organic_carbon  Trihalomethanes  Turbidity  Potability  \n",
       "0       10.379783        86.990970   2.963135           0  \n",
       "1       15.180013        56.329076   4.500656           0  \n",
       "2       16.868637        66.420093   3.055934           0  \n",
       "3       18.436524       100.341674   4.628771           0  \n",
       "4       11.558279        31.997993   4.075075           0  \n",
       "5        8.399735        54.917862   2.559708           0  \n",
       "6       13.789695        84.603556   2.672989           0  \n",
       "7       12.363817        62.798309   4.401425           0  \n",
       "8       12.706049        53.928846   3.595017           0  \n",
       "9       17.927806        71.976601   4.370562           0  "
      ]
     },
     "metadata": {},
     "output_type": "display_data"
    }
   ],
   "source": [
    "display(data.head(n=10))"
   ]
  },
  {
   "cell_type": "code",
   "execution_count": 4,
   "id": "bdb1395a",
   "metadata": {},
   "outputs": [
    {
     "name": "stdout",
     "output_type": "stream",
     "text": [
      "1434\n",
      "ph                 491\n",
      "Hardness             0\n",
      "Solids               0\n",
      "Chloramines          0\n",
      "Sulfate            781\n",
      "Conductivity         0\n",
      "Organic_carbon       0\n",
      "Trihalomethanes    162\n",
      "Turbidity            0\n",
      "Potability           0\n",
      "dtype: int64\n",
      "(3276, 10)\n"
     ]
    }
   ],
   "source": [
    "print(data.isna().sum().sum())\n",
    "print(data.isnull().sum())\n",
    "print(data.shape)"
   ]
  },
  {
   "cell_type": "code",
   "execution_count": 5,
   "id": "4338867b",
   "metadata": {},
   "outputs": [
    {
     "data": {
      "text/html": [
       "<div>\n",
       "<style scoped>\n",
       "    .dataframe tbody tr th:only-of-type {\n",
       "        vertical-align: middle;\n",
       "    }\n",
       "\n",
       "    .dataframe tbody tr th {\n",
       "        vertical-align: top;\n",
       "    }\n",
       "\n",
       "    .dataframe thead th {\n",
       "        text-align: right;\n",
       "    }\n",
       "</style>\n",
       "<table border=\"1\" class=\"dataframe\">\n",
       "  <thead>\n",
       "    <tr style=\"text-align: right;\">\n",
       "      <th></th>\n",
       "      <th>ph</th>\n",
       "      <th>Hardness</th>\n",
       "      <th>Solids</th>\n",
       "      <th>Chloramines</th>\n",
       "      <th>Sulfate</th>\n",
       "      <th>Conductivity</th>\n",
       "      <th>Organic_carbon</th>\n",
       "      <th>Trihalomethanes</th>\n",
       "      <th>Turbidity</th>\n",
       "      <th>Potability</th>\n",
       "    </tr>\n",
       "  </thead>\n",
       "  <tbody>\n",
       "    <tr>\n",
       "      <th>0</th>\n",
       "      <td>7.080795</td>\n",
       "      <td>204.890455</td>\n",
       "      <td>20791.318981</td>\n",
       "      <td>7.300212</td>\n",
       "      <td>368.516441</td>\n",
       "      <td>564.308654</td>\n",
       "      <td>10.379783</td>\n",
       "      <td>86.990970</td>\n",
       "      <td>2.963135</td>\n",
       "      <td>0</td>\n",
       "    </tr>\n",
       "    <tr>\n",
       "      <th>1</th>\n",
       "      <td>3.716080</td>\n",
       "      <td>129.422921</td>\n",
       "      <td>18630.057858</td>\n",
       "      <td>6.635246</td>\n",
       "      <td>333.775777</td>\n",
       "      <td>592.885359</td>\n",
       "      <td>15.180013</td>\n",
       "      <td>56.329076</td>\n",
       "      <td>4.500656</td>\n",
       "      <td>0</td>\n",
       "    </tr>\n",
       "    <tr>\n",
       "      <th>2</th>\n",
       "      <td>8.099124</td>\n",
       "      <td>224.236259</td>\n",
       "      <td>19909.541732</td>\n",
       "      <td>9.275884</td>\n",
       "      <td>333.775777</td>\n",
       "      <td>418.606213</td>\n",
       "      <td>16.868637</td>\n",
       "      <td>66.420093</td>\n",
       "      <td>3.055934</td>\n",
       "      <td>0</td>\n",
       "    </tr>\n",
       "    <tr>\n",
       "      <th>3</th>\n",
       "      <td>8.316766</td>\n",
       "      <td>214.373394</td>\n",
       "      <td>22018.417441</td>\n",
       "      <td>8.059332</td>\n",
       "      <td>356.886136</td>\n",
       "      <td>363.266516</td>\n",
       "      <td>18.436524</td>\n",
       "      <td>100.341674</td>\n",
       "      <td>4.628771</td>\n",
       "      <td>0</td>\n",
       "    </tr>\n",
       "    <tr>\n",
       "      <th>4</th>\n",
       "      <td>9.092223</td>\n",
       "      <td>181.101509</td>\n",
       "      <td>17978.986339</td>\n",
       "      <td>6.546600</td>\n",
       "      <td>310.135738</td>\n",
       "      <td>398.410813</td>\n",
       "      <td>11.558279</td>\n",
       "      <td>31.997993</td>\n",
       "      <td>4.075075</td>\n",
       "      <td>0</td>\n",
       "    </tr>\n",
       "    <tr>\n",
       "      <th>5</th>\n",
       "      <td>5.584087</td>\n",
       "      <td>188.313324</td>\n",
       "      <td>28748.687739</td>\n",
       "      <td>7.544869</td>\n",
       "      <td>326.678363</td>\n",
       "      <td>280.467916</td>\n",
       "      <td>8.399735</td>\n",
       "      <td>54.917862</td>\n",
       "      <td>2.559708</td>\n",
       "      <td>0</td>\n",
       "    </tr>\n",
       "    <tr>\n",
       "      <th>6</th>\n",
       "      <td>10.223862</td>\n",
       "      <td>248.071735</td>\n",
       "      <td>28749.716544</td>\n",
       "      <td>7.513408</td>\n",
       "      <td>393.663396</td>\n",
       "      <td>283.651634</td>\n",
       "      <td>13.789695</td>\n",
       "      <td>84.603556</td>\n",
       "      <td>2.672989</td>\n",
       "      <td>0</td>\n",
       "    </tr>\n",
       "    <tr>\n",
       "      <th>7</th>\n",
       "      <td>8.635849</td>\n",
       "      <td>203.361523</td>\n",
       "      <td>13672.091764</td>\n",
       "      <td>4.563009</td>\n",
       "      <td>303.309771</td>\n",
       "      <td>474.607645</td>\n",
       "      <td>12.363817</td>\n",
       "      <td>62.798309</td>\n",
       "      <td>4.401425</td>\n",
       "      <td>0</td>\n",
       "    </tr>\n",
       "    <tr>\n",
       "      <th>8</th>\n",
       "      <td>7.080795</td>\n",
       "      <td>118.988579</td>\n",
       "      <td>14285.583854</td>\n",
       "      <td>7.804174</td>\n",
       "      <td>268.646941</td>\n",
       "      <td>389.375566</td>\n",
       "      <td>12.706049</td>\n",
       "      <td>53.928846</td>\n",
       "      <td>3.595017</td>\n",
       "      <td>0</td>\n",
       "    </tr>\n",
       "    <tr>\n",
       "      <th>9</th>\n",
       "      <td>11.180284</td>\n",
       "      <td>227.231469</td>\n",
       "      <td>25484.508491</td>\n",
       "      <td>9.077200</td>\n",
       "      <td>404.041635</td>\n",
       "      <td>563.885481</td>\n",
       "      <td>17.927806</td>\n",
       "      <td>71.976601</td>\n",
       "      <td>4.370562</td>\n",
       "      <td>0</td>\n",
       "    </tr>\n",
       "  </tbody>\n",
       "</table>\n",
       "</div>"
      ],
      "text/plain": [
       "          ph    Hardness        Solids  Chloramines     Sulfate  Conductivity  \\\n",
       "0   7.080795  204.890455  20791.318981     7.300212  368.516441    564.308654   \n",
       "1   3.716080  129.422921  18630.057858     6.635246  333.775777    592.885359   \n",
       "2   8.099124  224.236259  19909.541732     9.275884  333.775777    418.606213   \n",
       "3   8.316766  214.373394  22018.417441     8.059332  356.886136    363.266516   \n",
       "4   9.092223  181.101509  17978.986339     6.546600  310.135738    398.410813   \n",
       "5   5.584087  188.313324  28748.687739     7.544869  326.678363    280.467916   \n",
       "6  10.223862  248.071735  28749.716544     7.513408  393.663396    283.651634   \n",
       "7   8.635849  203.361523  13672.091764     4.563009  303.309771    474.607645   \n",
       "8   7.080795  118.988579  14285.583854     7.804174  268.646941    389.375566   \n",
       "9  11.180284  227.231469  25484.508491     9.077200  404.041635    563.885481   \n",
       "\n",
       "   Organic_carbon  Trihalomethanes  Turbidity  Potability  \n",
       "0       10.379783        86.990970   2.963135           0  \n",
       "1       15.180013        56.329076   4.500656           0  \n",
       "2       16.868637        66.420093   3.055934           0  \n",
       "3       18.436524       100.341674   4.628771           0  \n",
       "4       11.558279        31.997993   4.075075           0  \n",
       "5        8.399735        54.917862   2.559708           0  \n",
       "6       13.789695        84.603556   2.672989           0  \n",
       "7       12.363817        62.798309   4.401425           0  \n",
       "8       12.706049        53.928846   3.595017           0  \n",
       "9       17.927806        71.976601   4.370562           0  "
      ]
     },
     "metadata": {},
     "output_type": "display_data"
    },
    {
     "name": "stdout",
     "output_type": "stream",
     "text": [
      "0\n",
      "ph                 0\n",
      "Hardness           0\n",
      "Solids             0\n",
      "Chloramines        0\n",
      "Sulfate            0\n",
      "Conductivity       0\n",
      "Organic_carbon     0\n",
      "Trihalomethanes    0\n",
      "Turbidity          0\n",
      "Potability         0\n",
      "dtype: int64\n",
      "(3276, 10)\n"
     ]
    }
   ],
   "source": [
    "data = data.fillna(data.mean())\n",
    "#data = data.dropna()\n",
    "display(data.head(n=10))\n",
    "print(data.isna().sum().sum())\n",
    "print(data.isnull().sum())\n",
    "print(data.shape)"
   ]
  },
  {
   "cell_type": "code",
   "execution_count": 6,
   "id": "26827679",
   "metadata": {},
   "outputs": [
    {
     "name": "stdout",
     "output_type": "stream",
     "text": [
      "                ph     Hardness        Solids  Chloramines      Sulfate  \\\n",
      "count  3276.000000  3276.000000   3276.000000  3276.000000  3276.000000   \n",
      "mean      7.080795   196.369496  22014.092526     7.122277   333.775777   \n",
      "std       1.469956    32.879761   8768.570828     1.583085    36.142612   \n",
      "min       0.000000    47.432000    320.942611     0.352000   129.000000   \n",
      "25%       6.277673   176.850538  15666.690297     6.127421   317.094638   \n",
      "50%       7.080795   196.967627  20927.833607     7.130299   333.775777   \n",
      "75%       7.870050   216.667456  27332.762127     8.114887   350.385756   \n",
      "max      14.000000   323.124000  61227.196008    13.127000   481.030642   \n",
      "\n",
      "       Conductivity  Organic_carbon  Trihalomethanes    Turbidity   Potability  \n",
      "count   3276.000000     3276.000000      3276.000000  3276.000000  3276.000000  \n",
      "mean     426.205111       14.284970        66.396293     3.966786     0.390110  \n",
      "std       80.824064        3.308162        15.769881     0.780382     0.487849  \n",
      "min      181.483754        2.200000         0.738000     1.450000     0.000000  \n",
      "25%      365.734414       12.065801        56.647656     3.439711     0.000000  \n",
      "50%      421.884968       14.218338        66.396293     3.955028     0.000000  \n",
      "75%      481.792304       16.557652        76.666609     4.500320     1.000000  \n",
      "max      753.342620       28.300000       124.000000     6.739000     1.000000  \n",
      "[0 1]\n"
     ]
    }
   ],
   "source": [
    "print(data.describe())\n",
    "print(data[\"Potability\"].unique())"
   ]
  },
  {
   "cell_type": "code",
   "execution_count": 7,
   "id": "5ae8b2e0",
   "metadata": {},
   "outputs": [
    {
     "name": "stderr",
     "output_type": "stream",
     "text": [
      "C:\\Users\\segor\\miniconda3\\envs\\ml4t\\lib\\site-packages\\seaborn\\_decorators.py:43: FutureWarning: Pass the following variable as a keyword arg: x. From version 0.12, the only valid positional argument will be `data`, and passing other arguments without an explicit keyword will result in an error or misinterpretation.\n",
      "  FutureWarning\n"
     ]
    },
    {
     "data": {
      "image/png": "[encoded data removed]",
      "text/plain": [
       "<Figure size 432x288 with 1 Axes>"
      ]
     },
     "metadata": {
      "needs_background": "light"
     },
     "output_type": "display_data"
    }
   ],
   "source": [
    "plt = sns.countplot(data['Potability'])"
   ]
  },
  {
   "cell_type": "code",
   "execution_count": 8,
   "id": "7e371598",
   "metadata": {},
   "outputs": [],
   "source": [
    "output = data[['Potability']]\n",
    "features = data.drop(columns='Potability')\n"
   ]
  },
  {
   "cell_type": "code",
   "execution_count": 9,
   "id": "e3490009",
   "metadata": {},
   "outputs": [
    {
     "name": "stdout",
     "output_type": "stream",
     "text": [
      "Training set has 2620 samples.\n",
      "Testing set has 656 samples.\n"
     ]
    }
   ],
   "source": [
    "# Import train_test_split\n",
    "# Split into training, validation and testing.\n",
    "from sklearn.model_selection import train_test_split\n",
    "# Split the 'features' and 'income' data into training and testing sets\n",
    "X_train, X_test, y_train, y_test = train_test_split(features, output, \n",
    "                                                    test_size = 0.2, \n",
    "                                                    random_state = 0)\n",
    "\n",
    "print(\"Training set has {} samples.\".format(X_train.shape[0]))\n",
    "print(\"Testing set has {} samples.\".format(X_test.shape[0]))"
   ]
  },
  {
   "cell_type": "code",
   "execution_count": 10,
   "id": "aaf5b349",
   "metadata": {},
   "outputs": [
    {
     "name": "stdout",
     "output_type": "stream",
     "text": [
      "Training set has 2096 samples.\n",
      "Validation set has 524 samples.\n",
      "Testing set has 656 samples.\n"
     ]
    }
   ],
   "source": [
    "X_train, X_val, y_train, y_val = train_test_split(X_train, y_train, \n",
    "                                                    test_size = 0.2, \n",
    "                                                    random_state = 0)\n",
    "\n",
    "# Show the results of the split\n",
    "print(\"Training set has {} samples.\".format(X_train.shape[0]))\n",
    "print(\"Validation set has {} samples.\".format(X_val.shape[0]))\n",
    "print(\"Testing set has {} samples.\".format(X_test.shape[0]))"
   ]
  },
  {
   "cell_type": "code",
   "execution_count": 11,
   "id": "bc5d9402",
   "metadata": {},
   "outputs": [],
   "source": [
    "from sklearn.preprocessing import StandardScaler\n",
    "\n",
    "scaler = StandardScaler() # default=(0, 1)\n",
    "# Do scaling on training. Apply the same transformation to validation and testing.\n",
    "X_train_np = scaler.fit_transform(X_train)\n",
    "X_train_std = pd.DataFrame(data=X_train_np,columns=X_train.columns)\n",
    "X_val_np = scaler.transform(X_val)\n",
    "X_val_std = pd.DataFrame(data=X_val_np,columns=X_train.columns)\n",
    "X_test_np = scaler.transform(X_test)\n",
    "X_test_std = pd.DataFrame(data=X_test_np,columns=X_train.columns)\n"
   ]
  },
  {
   "cell_type": "code",
   "execution_count": 12,
   "id": "68226dd4",
   "metadata": {},
   "outputs": [
    {
     "name": "stderr",
     "output_type": "stream",
     "text": [
      "C:\\Users\\segor\\miniconda3\\envs\\ml4t\\lib\\site-packages\\seaborn\\_decorators.py:43: FutureWarning: Pass the following variable as a keyword arg: x. From version 0.12, the only valid positional argument will be `data`, and passing other arguments without an explicit keyword will result in an error or misinterpretation.\n",
      "  FutureWarning\n"
     ]
    },
    {
     "data": {
      "image/png": "[encoded data removed]",
      "text/plain": [
       "<Figure size 432x288 with 1 Axes>"
      ]
     },
     "metadata": {
      "needs_background": "light"
     },
     "output_type": "display_data"
    }
   ],
   "source": [
    "y_train.describe()\n",
    "plt = sns.countplot(y_train[\"Potability\"])\n"
   ]
  },
  {
   "cell_type": "code",
   "execution_count": 13,
   "id": "0c6ed1e4",
   "metadata": {},
   "outputs": [
    {
     "name": "stderr",
     "output_type": "stream",
     "text": [
      "C:\\Users\\segor\\miniconda3\\envs\\ml4t\\lib\\site-packages\\seaborn\\_decorators.py:43: FutureWarning: Pass the following variable as a keyword arg: x. From version 0.12, the only valid positional argument will be `data`, and passing other arguments without an explicit keyword will result in an error or misinterpretation.\n",
      "  FutureWarning\n"
     ]
    },
    {
     "data": {
      "image/png": "[encoded data removed]",
      "text/plain": [
       "<Figure size 432x288 with 1 Axes>"
      ]
     },
     "metadata": {
      "needs_background": "light"
     },
     "output_type": "display_data"
    }
   ],
   "source": [
    "plt = sns.countplot(y_val[\"Potability\"])\n"
   ]
  },
  {
   "cell_type": "code",
   "execution_count": 14,
   "id": "6c7926ea",
   "metadata": {},
   "outputs": [
    {
     "name": "stderr",
     "output_type": "stream",
     "text": [
      "C:\\Users\\segor\\miniconda3\\envs\\ml4t\\lib\\site-packages\\seaborn\\_decorators.py:43: FutureWarning: Pass the following variable as a keyword arg: x. From version 0.12, the only valid positional argument will be `data`, and passing other arguments without an explicit keyword will result in an error or misinterpretation.\n",
      "  FutureWarning\n"
     ]
    },
    {
     "data": {
      "image/png": "[encoded data removed]",
      "text/plain": [
       "<Figure size 432x288 with 1 Axes>"
      ]
     },
     "metadata": {
      "needs_background": "light"
     },
     "output_type": "display_data"
    }
   ],
   "source": [
    "plt = sns.countplot(y_test[\"Potability\"])"
   ]
  },
  {
   "cell_type": "markdown",
   "id": "574881ae",
   "metadata": {},
   "source": [
    "# Training and Validation"
   ]
  },
  {
   "cell_type": "markdown",
   "id": "15f03185",
   "metadata": {},
   "source": [
    "Create a function to train and predict the selected learner."
   ]
  },
  {
   "cell_type": "code",
   "execution_count": 15,
   "id": "6fef979a",
   "metadata": {},
   "outputs": [],
   "source": [
    "# TODO: Import two metrics from sklearn - fbeta_score and accuracy_score\n",
    "from sklearn.metrics import fbeta_score\n",
    "from sklearn.metrics import precision_score\n",
    "from sklearn.metrics import accuracy_score\n",
    "\n",
    "\n",
    "def train_predict(learner, sample_size, X_train, y_train, X_test, y_test): \n",
    "    '''\n",
    "    inputs:\n",
    "       - learner: the learning algorithm to be trained and predicted on\n",
    "       - sample_size: the size of samples (number) to be drawn from training set\n",
    "       - X_train: features training set\n",
    "       - y_train: income training set\n",
    "       - X_test: features testing set\n",
    "       - y_test: income testing set\n",
    "    '''\n",
    "    \n",
    "    results = {}\n",
    "    \n",
    "    # TODO: Fit the learner to the training data using slicing with 'sample_size' using .fit(training_features[:], training_labels[:])\n",
    "    start = time() # Get start time\n",
    "    learner = learner.fit(X_train[0:sample_size],y_train[0:sample_size])\n",
    "    end = time() # Get end time\n",
    "    \n",
    "    # TODO: Calculate the training time\n",
    "    results['train_time'] = end - start\n",
    "        \n",
    "    # TODO: Get the predictions on the test set(X_test),\n",
    "    #       then get predictions on the training samples(X_train) using .predict()\n",
    "    start = time() # Get start time\n",
    "    predictions_test = learner.predict(X_test)\n",
    "    predictions_train = learner.predict(X_train[0:sample_size])\n",
    "    end = time() # Get end time\n",
    "    \n",
    "    # TODO: Calculate the total prediction time\n",
    "    results['pred_time'] = end-start\n",
    "            \n",
    "    # TODO: Compute accuracy on the training samples which is y_train\n",
    "    results['prc_train'] = precision_score(y_train[0:sample_size],predictions_train)\n",
    "    \n",
    "     # TODO: Compute accuracy on test set using accuracy_score()\n",
    "    results['prc_test'] = precision_score(y_test,predictions_test)\n",
    "    \n",
    "    # TODO: Compute F-score on the the training samples using fbeta_score()\n",
    "    results['f_train'] = fbeta_score(y_train[0:sample_size],predictions_train,beta=1.)\n",
    "        \n",
    "    # TODO: Compute F-score on the test set which is y_test\n",
    "    results['f_test'] = fbeta_score(y_test,predictions_test,beta=1.)\n",
    "       \n",
    "    # Success\n",
    "    print(\"{} trained on {} samples.\".format(learner.__class__.__name__, sample_size))\n",
    "        \n",
    "    # Return the results\n",
    "    return results\n",
    "\n"
   ]
  },
  {
   "cell_type": "markdown",
   "id": "9cee7d03",
   "metadata": {},
   "source": [
    "The dimensions are reduced from (n,) to (n)."
   ]
  },
  {
   "cell_type": "code",
   "execution_count": 16,
   "id": "f88bfe41",
   "metadata": {},
   "outputs": [],
   "source": [
    "y_train = y_train.squeeze()\n",
    "y_val = y_val.squeeze()\n",
    "y_test = y_test.squeeze()"
   ]
  },
  {
   "cell_type": "markdown",
   "id": "f08a5333",
   "metadata": {},
   "source": [
    "Classifiers want the X values as object type."
   ]
  },
  {
   "cell_type": "code",
   "execution_count": 17,
   "id": "44898222",
   "metadata": {},
   "outputs": [],
   "source": [
    "X_train_std = X_train_std.astype('object')\n",
    "X_val_std = X_val_std.astype('object')\n",
    "X_test_std = X_test_std.astype('object')\n"
   ]
  },
  {
   "cell_type": "markdown",
   "id": "9f01a641",
   "metadata": {},
   "source": [
    "#Check if cross validation helps"
   ]
  },
  {
   "cell_type": "code",
   "execution_count": 18,
   "id": "41548861",
   "metadata": {},
   "outputs": [
    {
     "data": {
      "text/plain": [
       "array([0.63333333, 0.61813842, 0.60859189, 0.60620525, 0.66587112])"
      ]
     },
     "execution_count": 18,
     "metadata": {},
     "output_type": "execute_result"
    }
   ],
   "source": [
    "from sklearn import tree\n",
    "from sklearn.model_selection import cross_validate\n",
    "cv = tree.DecisionTreeClassifier(criterion='gini', max_depth=5, min_samples_split = 5, random_state=42)\n",
    "cv_results = cross_validate(cv, X_train, y_train, cv=5)\n",
    "sorted(cv_results.keys())\n",
    "cv_results['test_score']"
   ]
  },
  {
   "cell_type": "code",
   "execution_count": 52,
   "id": "e83e6990",
   "metadata": {},
   "outputs": [
    {
     "name": "stdout",
     "output_type": "stream",
     "text": [
      "DecisionTreeClassifier trained on 20 samples.\n",
      "DecisionTreeClassifier trained on 209 samples.\n",
      "DecisionTreeClassifier trained on 2096 samples.\n",
      "MLPClassifier trained on 20 samples.\n",
      "113\n",
      "MLPClassifier trained on 209 samples.\n",
      "139\n",
      "MLPClassifier trained on 2096 samples.\n",
      "392\n",
      "AdaBoostClassifier trained on 20 samples.\n",
      "AdaBoostClassifier trained on 209 samples.\n",
      "AdaBoostClassifier trained on 2096 samples.\n",
      "SVC trained on 20 samples.\n",
      "SVC trained on 209 samples.\n"
     ]
    },
    {
     "name": "stderr",
     "output_type": "stream",
     "text": [
      "C:\\Users\\segor\\miniconda3\\envs\\ml4t\\lib\\site-packages\\sklearn\\metrics\\_classification.py:1248: UndefinedMetricWarning: Precision is ill-defined and being set to 0.0 due to no predicted samples. Use `zero_division` parameter to control this behavior.\n",
      "  _warn_prf(average, modifier, msg_start, len(result))\n"
     ]
    },
    {
     "name": "stdout",
     "output_type": "stream",
     "text": [
      "SVC trained on 2096 samples.\n",
      "KNeighborsClassifier trained on 20 samples.\n",
      "KNeighborsClassifier trained on 209 samples.\n",
      "KNeighborsClassifier trained on 2096 samples.\n"
     ]
    }
   ],
   "source": [
    "# TODO: Import the three supervised learning models from sklearn\n",
    "from sklearn import tree\n",
    "from sklearn.neural_network import MLPClassifier\n",
    "from sklearn.ensemble import AdaBoostClassifier\n",
    "from sklearn import svm\n",
    "from sklearn.neighbors import KNeighborsClassifier\n",
    "\n",
    "\n",
    "\n",
    "# TODO: Initialize the three models\n",
    "clf_1 = tree.DecisionTreeClassifier(criterion='gini', max_depth=5, min_samples_split = 5, random_state=42)\n",
    "clf_2 = MLPClassifier(hidden_layer_sizes=(10, 10), max_iter = 10000, random_state=42, activation = 'relu',\n",
    "                      early_stopping = True, n_iter_no_change = 100)\n",
    "clf_3 = AdaBoostClassifier(random_state=42)\n",
    "clf_4 = svm.SVC(random_state=42,gamma=1,kernel='rbf')\n",
    "clf_5 = KNeighborsClassifier(n_neighbors=5)\n",
    "\n",
    "# TODO: Calculate the number of samples for 1%, 10%, and 100% of the training data\n",
    "# HINT: samples_100 is the entire training set i.e. len(y_train)\n",
    "# HINT: samples_10 is 10% of samples_100 (ensure to set the count of the values to be `int` and not `float`)\n",
    "# HINT: samples_1 is 1% of samples_100 (ensure to set the count of the values to be `int` and not `float`)\n",
    "samples_100 = len(y_train)\n",
    "samples_10 = int(0.1*samples_100)\n",
    "samples_1 = int(0.01*samples_100)\n",
    "\n",
    "# Collect results on the learners\n",
    "results = {}\n",
    "for clf in [clf_1, clf_2, clf_3, clf_4, clf_5]:\n",
    "    clf_name = clf.__class__.__name__\n",
    "    results[clf_name] = {}\n",
    "    for i, samples in enumerate([samples_1, samples_10, samples_100]):\n",
    "        results[clf_name][i] = \\\n",
    "        train_predict(clf, samples, X_train_std, y_train, X_test_std, y_test)\n",
    "        if clf == clf_2:\n",
    "            print(clf.n_iter_)\n",
    "\n",
    "# Run metrics visualization for the three supervised learning models chosen"
   ]
  },
  {
   "cell_type": "code",
   "execution_count": 20,
   "id": "08f1c2f1",
   "metadata": {},
   "outputs": [
    {
     "data": {
      "image/png": "[encoded data removed]",
      "text/plain": [
       "<Figure size 792x576 with 6 Axes>"
      ]
     },
     "metadata": {
      "needs_background": "light"
     },
     "output_type": "display_data"
    }
   ],
   "source": [
    "def evaluate(results):\n",
    "    \"\"\"\n",
    "    Visualization code to display results of various learners.\n",
    "    \n",
    "    inputs:\n",
    "      - learners: a list of supervised learners\n",
    "      - stats: a list of dictionaries of the statistic results from 'train_predict()'\n",
    "      - accuracy: The score for the naive predictor\n",
    "      - f1: The score for the naive predictor\n",
    "    \"\"\"\n",
    "  \n",
    "    # Create figure\n",
    "    fig, ax = pl.subplots(2, 3, figsize = (11,8))\n",
    "\n",
    "    # Constants\n",
    "    bar_width = 0.16\n",
    "    colors = ['green','red','blue', 'brown', 'yellow']\n",
    "    \n",
    "    # Super loop to plot four panels of data\n",
    "    for k, learner in enumerate(results.keys()):\n",
    "        for j, metric in enumerate(['train_time', 'prc_train', 'f_train', 'pred_time', 'prc_test', 'f_test']):\n",
    "            for i in np.arange(3):\n",
    "                \n",
    "                # Creative plot code\n",
    "                ax[j//3, j%3].bar(i+k*bar_width, results[learner][i][metric], width = bar_width, color = colors[k])\n",
    "                ax[j//3, j%3].set_xticks([0.45, 1.45, 2.45])\n",
    "                ax[j//3, j%3].set_xticklabels([\"1%\", \"10%\", \"100%\"])\n",
    "                ax[j//3, j%3].set_xlabel(\"Training Set Size\")\n",
    "                ax[j//3, j%3].set_xlim((-0.1, 3.0))\n",
    "    \n",
    "    # Add unique y-labels\n",
    "    ax[0, 0].set_ylabel(\"Time (in seconds)\")\n",
    "    ax[0, 1].set_ylabel(\"Precision Score\")\n",
    "    ax[0, 2].set_ylabel(\"F-score\")\n",
    "    ax[1, 0].set_ylabel(\"Time (in seconds)\")\n",
    "    ax[1, 1].set_ylabel(\"Precision Score\")\n",
    "    ax[1, 2].set_ylabel(\"F-score\")\n",
    "    \n",
    "    # Add titles\n",
    "    ax[0, 0].set_title(\"a. Training Time\")\n",
    "    ax[0, 1].set_title(\"b. Precision Score on Training Subset\")\n",
    "    ax[0, 2].set_title(\"c. F-score on Training Subset\")\n",
    "    ax[1, 0].set_title(\"d. Prediction/Validation Time\")\n",
    "    ax[1, 1].set_title(\"e. Precision Score on Validation Set\")\n",
    "    ax[1, 2].set_title(\"f. F-score on Validation Set\")\n",
    "    \n",
    "    # Set y-limits for score panels\n",
    "    ax[0, 1].set_ylim((0, 1))\n",
    "    ax[0, 2].set_ylim((0, 1))\n",
    "    ax[1, 1].set_ylim((0, 1))\n",
    "    ax[1, 2].set_ylim((0, 1))\n",
    "\n",
    "    # Create patches for the legend\n",
    "    patches = []\n",
    "    for i, learner in enumerate(results.keys()):\n",
    "        patches.append(mpatches.Patch(color = colors[i], label = learner))\n",
    "    pl.legend(handles = patches, bbox_to_anchor = (-.80, 2.7), \\\n",
    "               loc = 'upper center', borderaxespad = 0., ncol = 3, fontsize = 'x-large')\n",
    "    \n",
    "    # Aesthetics\n",
    "    pl.suptitle(\"Performance Metrics for Three Supervised Learning Models\", fontsize = 16, x = 0.63, y = 1.1)\n",
    "    # Tune the subplot layout\n",
    "    # Refer - https://matplotlib.org/3.1.1/api/_as_gen/matplotlib.pyplot.subplots_adjust.html for more details on the arguments\n",
    "    pl.subplots_adjust(left = 0.125, right = 1.2, bottom = 0.1, top = 0.9, wspace = 0.2, hspace = 0.3)    \n",
    "    pl.tight_layout()\n",
    "    pl.show()\n",
    "evaluate(results)"
   ]
  },
  {
   "cell_type": "markdown",
   "id": "b86fe4cb",
   "metadata": {},
   "source": [
    "# Decision Tree Hyperparameter Optimization"
   ]
  },
  {
   "cell_type": "code",
   "execution_count": 21,
   "id": "e61c3047",
   "metadata": {},
   "outputs": [
    {
     "name": "stdout",
     "output_type": "stream",
     "text": [
      "Fitting 5 folds for each of 72 candidates, totalling 360 fits\n",
      "Unoptimized model\n",
      "------\n",
      "Accuracy score on validation data: 0.5706\n",
      "F-score on validation data: 0.5566\n",
      "\n",
      "Optimized Model\n",
      "------\n",
      "Final accuracy score on the validation data: 0.5878\n",
      "Final F-score on the validation data: 0.5642\n"
     ]
    }
   ],
   "source": [
    "# TODO: Import 'GridSearchCV', 'make_scorer', and any other necessary libraries\n",
    "from sklearn.model_selection import GridSearchCV\n",
    "from sklearn.metrics import make_scorer\n",
    "\n",
    "# TODO: Initialize the classifier\n",
    "clf = tree.DecisionTreeClassifier(random_state=42, criterion = \"gini\")\n",
    "\n",
    "# TODO: Create the parameters list you wish to tune, using a dictionary if needed.\n",
    "# HINT: parameters = {'parameter_1': [value1, value2], 'parameter_2': [value1, value2]}\n",
    "parameters = {'min_samples_leaf': [2, 4, 6],\n",
    "              'min_samples_split': [2, 5, 10],\n",
    "              'max_depth': [3,5,7,9,10,12,15,20]}\n",
    "\n",
    "# TODO: Make a precision scoring object using make_scorer()\n",
    "scorer = make_scorer(fbeta_score,beta=1.)\n",
    "\n",
    "# TODO: Perform grid search on the classifier using 'scorer' as the scoring method using GridSearchCV()\n",
    "grid_obj = GridSearchCV(estimator=clf,param_grid=parameters,scoring=scorer,n_jobs=4,verbose=3)\n",
    "\n",
    "# TODO: Fit the grid search object to the training data and find the optimal parameters using fit()\n",
    "grid_fit = grid_obj.fit(X_train_std,y_train)\n",
    "\n",
    "# Get the estimator\n",
    "best_clf = grid_fit.best_estimator_\n",
    "\n",
    "# Make predictions using the unoptimized and model\n",
    "predictions = (clf.fit(X_train_std, y_train)).predict(X_val_std)\n",
    "best_predictions = best_clf.predict(X_val_std)\n",
    "\n",
    "# Report the before-and-afterscores\n",
    "print(\"Unoptimized model\\n------\")\n",
    "print(\"Accuracy score on validation data: {:.4f}\".format(accuracy_score(y_val, predictions)))\n",
    "print(\"F-score on validation data: {:.4f}\".format(fbeta_score(y_val, predictions, beta = 1., average =\"macro\")))\n",
    "print(\"\\nOptimized Model\\n------\")\n",
    "print(\"Final accuracy score on the validation data: {:.4f}\".format(accuracy_score(y_val, best_predictions)))\n",
    "print(\"Final F-score on the validation data: {:.4f}\".format(fbeta_score(y_val, best_predictions, beta = 1., average =\"macro\")))"
   ]
  },
  {
   "cell_type": "code",
   "execution_count": 22,
   "id": "b3398632",
   "metadata": {},
   "outputs": [
    {
     "data": {
      "text/plain": [
       "{'ccp_alpha': 0.0,\n",
       " 'class_weight': None,\n",
       " 'criterion': 'gini',\n",
       " 'max_depth': 20,\n",
       " 'max_features': None,\n",
       " 'max_leaf_nodes': None,\n",
       " 'min_impurity_decrease': 0.0,\n",
       " 'min_impurity_split': None,\n",
       " 'min_samples_leaf': 4,\n",
       " 'min_samples_split': 2,\n",
       " 'min_weight_fraction_leaf': 0.0,\n",
       " 'random_state': 42,\n",
       " 'splitter': 'best'}"
      ]
     },
     "execution_count": 22,
     "metadata": {},
     "output_type": "execute_result"
    }
   ],
   "source": [
    "best_clf.get_params()"
   ]
  },
  {
   "cell_type": "code",
   "execution_count": 23,
   "id": "441f8414",
   "metadata": {},
   "outputs": [],
   "source": [
    "#max_depth validation curve\n",
    "from copy import deepcopy\n",
    "learner = deepcopy(best_clf)\n",
    "results = {}\n",
    "results[\"X\"] = []\n",
    "results[\"f_train\"] = []\n",
    "results[\"f_val\"] = []\n",
    "for i, depth in enumerate(list(range(2,22,2))):\n",
    "    learner = learner.set_params(max_depth=depth)\n",
    "    learner = learner.fit(X_train_std,y_train)\n",
    "    predictions_train = learner.predict(X_train_std)\n",
    "    predictions_val = learner.predict(X_val_std)\n",
    "    results[\"X\"].append(depth)\n",
    "    results[\"f_train\"].append(fbeta_score(y_train,predictions_train,beta=1))\n",
    "    results[\"f_val\"].append(fbeta_score(y_val,predictions_val,beta=1))\n",
    "    \n",
    "#min_samples_leaf validation curve\n",
    "learner = learner.set_params(max_depth=16)\n",
    "results2 = {}\n",
    "results2[\"X\"] = []\n",
    "results2[\"f_train\"] = []\n",
    "results2[\"f_val\"] = []\n",
    "for i, param in enumerate(list(range(1,20))):\n",
    "    learner = learner.set_params(min_samples_leaf=param)\n",
    "    learner = learner.fit(X_train_std,y_train)\n",
    "    predictions_train = learner.predict(X_train_std)\n",
    "    predictions_val = learner.predict(X_val_std)\n",
    "    results2[\"X\"].append(param)\n",
    "    results2[\"f_train\"].append(fbeta_score(y_train,predictions_train,beta=1))\n",
    "    results2[\"f_val\"].append(fbeta_score(y_val,predictions_val,beta=1))\n",
    "    \n",
    "    "
   ]
  },
  {
   "cell_type": "code",
   "execution_count": 24,
   "id": "40635f6d",
   "metadata": {},
   "outputs": [
    {
     "data": {
      "image/png": "[encoded data removed]",
      "text/plain": [
       "<Figure size 792x288 with 2 Axes>"
      ]
     },
     "metadata": {
      "needs_background": "light"
     },
     "output_type": "display_data"
    }
   ],
   "source": [
    "\n",
    "# Create figure\n",
    "fig, ax = pl.subplots(ncols = 2, figsize = (11,4))\n",
    "\n",
    "# max_depth\n",
    "ax[0].plot(results[\"X\"],results[\"f_train\"],color=\"red\",label='Training')\n",
    "ax[0].plot(results[\"X\"],results[\"f_val\"],color=\"blue\", label = 'Validation')\n",
    "ax[0].set_xticks(results[\"X\"])\n",
    "ax[0].legend()\n",
    "ax[0].set_xlabel(\"Max Depth\")\n",
    "ax[0].set_ylabel(\"F-Score\")\n",
    "ax[0].set_ylim((0, 1))\n",
    "ax[0].set_xlim((2, 20))\n",
    "    \n",
    "# max_leaf_size\n",
    "ax[1].plot(results2[\"X\"],results2[\"f_train\"],color=\"red\",label='Training')\n",
    "ax[1].plot(results2[\"X\"],results2[\"f_val\"],color=\"blue\", label = 'Validation')\n",
    "ax[1].set_xticks(list(range(1, 20, 3)))\n",
    "ax[1].legend()\n",
    "ax[1].set_xlabel(\"Min Leaf Size\")\n",
    "ax[1].set_ylabel(\"F-Score\")\n",
    "ax[1].set_ylim((0, 1))\n",
    "ax[1].set_xlim((1, 20))\n",
    "\n",
    "\n",
    "# Aesthetics\n",
    "pl.suptitle(\"Validation Curves for Decision Tree\", fontsize = 16, x = 0.5, y = 1.1)\n",
    "pl.subplots_adjust(left = 0.125, right = 1.2, bottom = 0.1, top = 0.9, wspace = 0.2, hspace = 0.3)    \n",
    "pl.tight_layout()\n",
    "pl.show()\n",
    "    "
   ]
  },
  {
   "cell_type": "code",
   "execution_count": 25,
   "id": "05eaabd5",
   "metadata": {},
   "outputs": [
    {
     "name": "stdout",
     "output_type": "stream",
     "text": [
      "{'ccp_alpha': 0.0, 'class_weight': None, 'criterion': 'gini', 'max_depth': 16, 'max_features': None, 'max_leaf_nodes': None, 'min_impurity_decrease': 0.0, 'min_impurity_split': None, 'min_samples_leaf': 3, 'min_samples_split': 2, 'min_weight_fraction_leaf': 0.0, 'random_state': 42, 'splitter': 'best'}\n",
      "\n",
      "Final Precision on the testing data: 0.4504\n",
      "Final Accuracy on the testing data: 0.5915\n",
      "Final Recall on the testing data: 0.4467\n",
      "Final F-score on the testing data: 0.4486\n"
     ]
    }
   ],
   "source": [
    "from sklearn.metrics import recall_score\n",
    "final_tree_learner = learner.set_params(max_depth = 16, min_samples_leaf = 3)\n",
    "final_tree_learner = final_tree_learner.fit(X_train_std,y_train)\n",
    "\n",
    "final_predictions = final_tree_learner.predict(X_test_std)\n",
    "print(final_tree_learner.get_params())\n",
    "print(\"\")\n",
    "print(\"Final Precision on the testing data: {:.4f}\".format(precision_score(y_test, final_predictions)))\n",
    "print(\"Final Accuracy on the testing data: {:.4f}\".format(accuracy_score(y_test, final_predictions)))\n",
    "print(\"Final Recall on the testing data: {:.4f}\".format(recall_score(y_test, final_predictions)))\n",
    "print(\"Final F-score on the testing data: {:.4f}\".format(fbeta_score(y_test, final_predictions, beta=1.)))"
   ]
  },
  {
   "cell_type": "markdown",
   "id": "a4564c66",
   "metadata": {},
   "source": [
    "# Neural Network Hyper Parameter Optimization\n"
   ]
  },
  {
   "cell_type": "code",
   "execution_count": 26,
   "id": "c26b2760",
   "metadata": {},
   "outputs": [
    {
     "name": "stdout",
     "output_type": "stream",
     "text": [
      "0.40909090909090906\n"
     ]
    },
    {
     "name": "stderr",
     "output_type": "stream",
     "text": [
      "C:\\Users\\segor\\miniconda3\\envs\\ml4t\\lib\\site-packages\\seaborn\\_decorators.py:43: FutureWarning: Pass the following variable as a keyword arg: x. From version 0.12, the only valid positional argument will be `data`, and passing other arguments without an explicit keyword will result in an error or misinterpretation.\n",
      "  FutureWarning\n"
     ]
    },
    {
     "data": {
      "image/png": "[encoded data removed]",
      "text/plain": [
       "<Figure size 432x288 with 1 Axes>"
      ]
     },
     "metadata": {
      "needs_background": "light"
     },
     "output_type": "display_data"
    }
   ],
   "source": [
    "clf = MLPClassifier(hidden_layer_sizes=(15, 15), max_iter = 100000, random_state=42, activation = 'relu',\n",
    "                      early_stopping = True, n_iter_no_change = 100)\n",
    "clf = clf.fit(X_train_std,y_train)\n",
    "predictions = clf.predict(X_val_std)\n",
    "print(fbeta_score(y_val, predictions,beta=1))\n",
    "plt = sns.countplot(predictions)"
   ]
  },
  {
   "cell_type": "code",
   "execution_count": 27,
   "id": "4a9dd40b",
   "metadata": {},
   "outputs": [],
   "source": [
    "#no of layers\n",
    "learner = MLPClassifier(hidden_layer_sizes=(15, 15), max_iter = 100000, random_state=42,\n",
    "                      early_stopping = True, n_iter_no_change = 100)\n",
    "learner = learner.set_params(activation=\"tanh\",solver=\"lbfgs\",max_iter=100000)\n",
    "results = {}\n",
    "results[\"X\"] = []\n",
    "results[\"f_train\"] = []\n",
    "results[\"f_val\"] = []\n",
    "l = [(15), (15, 15), (15, 15, 15), (15, 15, 15, 15), (15, 15, 15, 15, 15), (15, 15, 15, 15, 15, 15)\n",
    "     , (15, 15, 15, 15, 15, 15, 15)]\n",
    "for i, param in enumerate(l):\n",
    "    learner = learner.set_params(hidden_layer_sizes = param)\n",
    "    learner = learner.fit(X_train_std,y_train)\n",
    "    predictions_train = learner.predict(X_train_std)\n",
    "    predictions_val = learner.predict(X_val_std)\n",
    "    results[\"X\"].append(i+1)\n",
    "    results[\"f_train\"].append(fbeta_score(y_train,predictions_train,beta=1))\n",
    "    results[\"f_val\"].append(fbeta_score(y_val,predictions_val,beta=1))\n",
    "    \n"
   ]
  },
  {
   "cell_type": "code",
   "execution_count": 28,
   "id": "5aa6be35",
   "metadata": {},
   "outputs": [
    {
     "name": "stdout",
     "output_type": "stream",
     "text": [
      "(5,)\n",
      "(10,)\n",
      "(15,)\n",
      "(20,)\n",
      "(25,)\n",
      "(30,)\n"
     ]
    }
   ],
   "source": [
    "#no of neurons\n",
    "#learner = deepcopy(best_clf)\n",
    "results2 = {}\n",
    "results2[\"X\"] = []\n",
    "results2[\"f_train\"] = []\n",
    "results2[\"f_val\"] = []\n",
    "l = [(5,), (10,), (15,), (20,), (25,), (30,)]\n",
    "for i, param in enumerate(l):\n",
    "    print(param)\n",
    "    learner = learner.set_params(hidden_layer_sizes=param)\n",
    "    learner = learner.fit(X_train_std,y_train)\n",
    "    predictions_train = learner.predict(X_train_std)\n",
    "    predictions_val = learner.predict(X_val_std)\n",
    "    results2[\"X\"].append(param[0])\n",
    "    results2[\"f_train\"].append(fbeta_score(y_train,predictions_train,beta=1))\n",
    "    results2[\"f_val\"].append(fbeta_score(y_val,predictions_val,beta=1))"
   ]
  },
  {
   "cell_type": "code",
   "execution_count": 29,
   "id": "77999976",
   "metadata": {},
   "outputs": [
    {
     "data": {
      "image/png": "[encoded data removed]",
      "text/plain": [
       "<Figure size 792x288 with 2 Axes>"
      ]
     },
     "metadata": {
      "needs_background": "light"
     },
     "output_type": "display_data"
    }
   ],
   "source": [
    "# Create figure\n",
    "fig, ax = pl.subplots(ncols = 2, figsize = (11,4))\n",
    "\n",
    "# max_depth\n",
    "ax[0].plot(results[\"X\"],results[\"f_train\"],color=\"red\",label='Training')\n",
    "ax[0].plot(results[\"X\"],results[\"f_val\"],color=\"blue\", label = 'Validation')\n",
    "ax[0].set_xticks(results[\"X\"])\n",
    "ax[0].legend()\n",
    "ax[0].set_xlabel(\"No of Layers\")\n",
    "ax[0].set_ylabel(\"F score\")\n",
    "ax[0].set_ylim((0, 1))\n",
    "ax[0].set_xlim((1, 7))\n",
    "    \n",
    "# max_leaf_size\n",
    "ax[1].plot(results2[\"X\"],results2[\"f_train\"],color=\"red\",label='Training')\n",
    "ax[1].plot(results2[\"X\"],results2[\"f_val\"],color=\"blue\", label = 'Validation')\n",
    "ax[1].set_xticks(list(range(1, 30, 4)))\n",
    "ax[1].legend()\n",
    "ax[1].set_xlabel(\"No of Neurons per Layer\")\n",
    "ax[1].set_ylabel(\"F score\")\n",
    "ax[1].set_ylim((0, 1))\n",
    "ax[1].set_xlim((1, 30))\n",
    "\n",
    "\n",
    "# Aesthetics\n",
    "pl.suptitle(\"Validation Curves for Neural Network\", fontsize = 16, x = 0.5, y = 1.1)\n",
    "pl.subplots_adjust(left = 0.125, right = 1.2, bottom = 0.1, top = 0.9, wspace = 0.2, hspace = 0.3)    \n",
    "pl.tight_layout()\n",
    "pl.show()"
   ]
  },
  {
   "cell_type": "code",
   "execution_count": 32,
   "id": "4efbf515",
   "metadata": {},
   "outputs": [
    {
     "name": "stdout",
     "output_type": "stream",
     "text": [
      "{'activation': 'tanh', 'alpha': 0.0001, 'batch_size': 'auto', 'beta_1': 0.9, 'beta_2': 0.999, 'early_stopping': True, 'epsilon': 1e-08, 'hidden_layer_sizes': (15,), 'learning_rate': 'constant', 'learning_rate_init': 0.001, 'max_fun': 15000, 'max_iter': 100000, 'momentum': 0.9, 'n_iter_no_change': 100, 'nesterovs_momentum': True, 'power_t': 0.5, 'random_state': 42, 'shuffle': True, 'solver': 'lbfgs', 'tol': 0.0001, 'validation_fraction': 0.1, 'verbose': False, 'warm_start': False}\n",
      "\n",
      "Final Precision on the testing data: 0.5157\n",
      "Final Accuracy on the testing data: 0.6387\n",
      "Final Recall on the testing data: 0.4713\n",
      "Final F-score on the testing data: 0.4925\n"
     ]
    }
   ],
   "source": [
    "final_nn =deepcopy(learner)\n",
    "final_nn = final_nn.set_params(hidden_layer_sizes=(15,))\n",
    "final_nn = final_nn.fit(X_train_std,y_train)\n",
    "final_predictions = final_nn.predict(X_test_std)\n",
    "print(final_nn.get_params())\n",
    "print(\"\")\n",
    "print(\"Final Precision on the testing data: {:.4f}\".format(precision_score(y_test, final_predictions)))\n",
    "print(\"Final Accuracy on the testing data: {:.4f}\".format(accuracy_score(y_test, final_predictions)))\n",
    "print(\"Final Recall on the testing data: {:.4f}\".format(recall_score(y_test, final_predictions)))\n",
    "print(\"Final F-score on the testing data: {:.4f}\".format(fbeta_score(y_test, final_predictions, beta=1.)))"
   ]
  },
  {
   "cell_type": "code",
   "execution_count": 38,
   "id": "6f0bac41",
   "metadata": {},
   "outputs": [
    {
     "data": {
      "text/plain": [
       "2334"
      ]
     },
     "execution_count": 38,
     "metadata": {},
     "output_type": "execute_result"
    }
   ],
   "source": [
    "final_nn.n_iter_"
   ]
  },
  {
   "cell_type": "markdown",
   "id": "687791f5",
   "metadata": {},
   "source": [
    "# Optimization of Boosting Hyperparameters"
   ]
  },
  {
   "cell_type": "code",
   "execution_count": 39,
   "id": "cd07cf22",
   "metadata": {},
   "outputs": [
    {
     "name": "stdout",
     "output_type": "stream",
     "text": [
      "Fitting 5 folds for each of 18 candidates, totalling 90 fits\n",
      "Unoptimized model\n",
      "------\n",
      "Precision score on validation data: 0.4592\n",
      "F-score on validation data: 0.2913\n",
      "\n",
      "Optimized Model\n",
      "------\n",
      "Final precision score on the validation data: 0.4300\n",
      "Final F-score on the validation data: 0.2765\n"
     ]
    }
   ],
   "source": [
    "# TODO: Initialize the classifier\n",
    "\n",
    "clf = AdaBoostClassifier(random_state=42)\n",
    "base = [tree.DecisionTreeClassifier(max_depth=1)]\n",
    "# TODO: Create the parameters list you wish to tune, using a dictionary if needed.\n",
    "# HINT: parameters = {'parameter_1': [value1, value2], 'parameter_2': [value1, value2]}\n",
    "parameters = {'base_estimator': base,\n",
    "              'n_estimators': list(range(10,100,5))}\n",
    "\n",
    "# TODO: Make an fbeta_score scoring object using make_scorer()\n",
    "scorer = make_scorer(fbeta_score,beta=1)\n",
    "\n",
    "# TODO: Perform grid search on the classifier using 'scorer' as the scoring method using GridSearchCV()\n",
    "grid_obj = GridSearchCV(estimator=clf,param_grid=parameters,scoring=scorer,n_jobs=4,verbose=3)\n",
    "\n",
    "# TODO: Fit the grid search object to the training data and find the optimal parameters using fit()\n",
    "grid_fit = grid_obj.fit(X_train_std,y_train)\n",
    "\n",
    "# Get the estimator\n",
    "best_clf = grid_fit.best_estimator_\n",
    "\n",
    "# Make predictions using the unoptimized and model\n",
    "predictions = (clf.fit(X_train_std, y_train)).predict(X_val_std)\n",
    "best_predictions = best_clf.predict(X_val_std)\n",
    "\n",
    "# Report the before-and-afterscores\n",
    "print(\"Unoptimized model\\n------\")\n",
    "print(\"Precision score on validation data: {:.4f}\".format(precision_score(y_val, predictions)))\n",
    "print(\"F-score on validation data: {:.4f}\".format(fbeta_score(y_val, predictions, beta = 1.)))\n",
    "print(\"\\nOptimized Model\\n------\")\n",
    "print(\"Final precision score on the validation data: {:.4f}\".format(precision_score(y_val, best_predictions)))\n",
    "print(\"Final F-score on the validation data: {:.4f}\".format(fbeta_score(y_val, best_predictions, beta = 1.)))"
   ]
  },
  {
   "cell_type": "code",
   "execution_count": 40,
   "id": "d31c7311",
   "metadata": {},
   "outputs": [
    {
     "data": {
      "text/plain": [
       "{'algorithm': 'SAMME.R',\n",
       " 'base_estimator__ccp_alpha': 0.0,\n",
       " 'base_estimator__class_weight': None,\n",
       " 'base_estimator__criterion': 'gini',\n",
       " 'base_estimator__max_depth': 1,\n",
       " 'base_estimator__max_features': None,\n",
       " 'base_estimator__max_leaf_nodes': None,\n",
       " 'base_estimator__min_impurity_decrease': 0.0,\n",
       " 'base_estimator__min_impurity_split': None,\n",
       " 'base_estimator__min_samples_leaf': 1,\n",
       " 'base_estimator__min_samples_split': 2,\n",
       " 'base_estimator__min_weight_fraction_leaf': 0.0,\n",
       " 'base_estimator__random_state': None,\n",
       " 'base_estimator__splitter': 'best',\n",
       " 'base_estimator': DecisionTreeClassifier(max_depth=1),\n",
       " 'learning_rate': 1.0,\n",
       " 'n_estimators': 65,\n",
       " 'random_state': 42}"
      ]
     },
     "execution_count": 40,
     "metadata": {},
     "output_type": "execute_result"
    }
   ],
   "source": [
    "best_clf.get_params()"
   ]
  },
  {
   "cell_type": "code",
   "execution_count": 41,
   "id": "f7c8152e",
   "metadata": {},
   "outputs": [],
   "source": [
    "#no of weak learners\n",
    "learner = deepcopy(best_clf)\n",
    "results = {}\n",
    "results[\"X\"] = []\n",
    "results[\"f_train\"] = []\n",
    "results[\"f_val\"] = []\n",
    "for i, param in enumerate(list(range(1,100))):\n",
    "    learner = learner.set_params(n_estimators = param)\n",
    "    learner = learner.fit(X_train_std,y_train)\n",
    "    predictions_train = learner.predict(X_train_std)\n",
    "    predictions_val = learner.predict(X_val_std)\n",
    "    results[\"X\"].append(param)\n",
    "    results[\"f_train\"].append(fbeta_score(y_train,predictions_train,beta=1))\n",
    "    results[\"f_val\"].append(fbeta_score(y_val,predictions_val,beta=1))\n",
    "    \n",
    "\n",
    "    \n",
    "    "
   ]
  },
  {
   "cell_type": "code",
   "execution_count": 42,
   "id": "c64b8952",
   "metadata": {},
   "outputs": [],
   "source": [
    "#max depth\n",
    "learner = learner.set_params(n_estimators=98)\n",
    "results2 = {}\n",
    "results2[\"X\"] = []\n",
    "results2[\"f_train\"] = []\n",
    "results2[\"f_val\"] = []\n",
    "for i, param in enumerate(list(range(1,15))):\n",
    "    learner = learner.set_params(base_estimator__max_depth=param)\n",
    "    learner = learner.fit(X_train_std,y_train)\n",
    "    predictions_train = learner.predict(X_train_std)\n",
    "    predictions_val = learner.predict(X_val_std)\n",
    "    results2[\"X\"].append(param)\n",
    "    results2[\"f_train\"].append(fbeta_score(y_train,predictions_train,beta=1))\n",
    "    results2[\"f_val\"].append(fbeta_score(y_val,predictions_val,beta=1))"
   ]
  },
  {
   "cell_type": "code",
   "execution_count": 43,
   "id": "2c893e66",
   "metadata": {
    "scrolled": true
   },
   "outputs": [
    {
     "data": {
      "image/png": "[encoded data removed]",
      "text/plain": [
       "<Figure size 792x288 with 2 Axes>"
      ]
     },
     "metadata": {
      "needs_background": "light"
     },
     "output_type": "display_data"
    }
   ],
   "source": [
    "# Create figure\n",
    "fig, ax = pl.subplots(ncols = 2, figsize = (11,4))\n",
    "\n",
    "# max_depth\n",
    "ax[0].plot(results[\"X\"],results[\"f_train\"],color=\"red\",label='Training')\n",
    "ax[0].plot(results[\"X\"],results[\"f_val\"],color=\"blue\", label = 'Validation')\n",
    "ax[0].set_xticks(list(range(1, 100, 10)))\n",
    "ax[0].legend()\n",
    "ax[0].set_xlabel(\"No of Weak Learners\")\n",
    "ax[0].set_ylabel(\"F score\")\n",
    "ax[0].set_ylim((0, 1))\n",
    "ax[0].set_xlim((1, 100))\n",
    "    \n",
    "# max_leaf_size\n",
    "ax[1].plot(results2[\"X\"],results2[\"f_train\"],color=\"red\",label='Training')\n",
    "ax[1].plot(results2[\"X\"],results2[\"f_val\"],color=\"blue\", label = 'Validation')\n",
    "ax[1].set_xticks(list(range(1, 15, 3)))\n",
    "ax[1].legend()\n",
    "ax[1].set_xlabel(\"Max Depth of Weak Learner\")\n",
    "ax[1].set_ylabel(\"F score\")\n",
    "ax[1].set_ylim((0, 1))\n",
    "ax[1].set_xlim((1, 15))\n",
    "\n",
    "\n",
    "# Aesthetics\n",
    "pl.suptitle(\"Validation Curves for AdaBoost\", fontsize = 16, x = 0.5, y = 1.1)\n",
    "pl.subplots_adjust(left = 0.125, right = 1.2, bottom = 0.1, top = 0.9, wspace = 0.2, hspace = 0.3)    \n",
    "pl.tight_layout()\n",
    "pl.show()"
   ]
  },
  {
   "cell_type": "code",
   "execution_count": 44,
   "id": "733f5f7a",
   "metadata": {},
   "outputs": [
    {
     "name": "stdout",
     "output_type": "stream",
     "text": [
      "{'algorithm': 'SAMME.R', 'base_estimator__ccp_alpha': 0.0, 'base_estimator__class_weight': None, 'base_estimator__criterion': 'gini', 'base_estimator__max_depth': 3, 'base_estimator__max_features': None, 'base_estimator__max_leaf_nodes': None, 'base_estimator__min_impurity_decrease': 0.0, 'base_estimator__min_impurity_split': None, 'base_estimator__min_samples_leaf': 1, 'base_estimator__min_samples_split': 2, 'base_estimator__min_weight_fraction_leaf': 0.0, 'base_estimator__random_state': None, 'base_estimator__splitter': 'best', 'base_estimator': DecisionTreeClassifier(max_depth=3), 'learning_rate': 1.0, 'n_estimators': 98, 'random_state': 42}\n",
      "\n",
      "Final F score on the testing data: 0.3941\n"
     ]
    }
   ],
   "source": [
    "final_ADB = deepcopy(learner)\n",
    "final_ADB.set_params(n_estimators=98,base_estimator__max_depth=3)\n",
    "final_ADB = final_ADB.fit(X_train_std,y_train)\n",
    "print(final_ADB.get_params())\n",
    "\n",
    "final_predictions = final_ADB.predict(X_test_std)\n",
    "\n",
    "print(\"\")\n",
    "print(\"Final F score on the testing data: {:.4f}\".format(fbeta_score(y_test, final_predictions,beta=1)))"
   ]
  },
  {
   "cell_type": "markdown",
   "id": "6fe3da3e",
   "metadata": {},
   "source": [
    "# SVC Hyperparameter Optimization\n"
   ]
  },
  {
   "cell_type": "code",
   "execution_count": 45,
   "id": "89e1a036",
   "metadata": {},
   "outputs": [
    {
     "name": "stdout",
     "output_type": "stream",
     "text": [
      "0.01\n",
      "0.1\n",
      "1\n",
      "10\n",
      "0.01\n"
     ]
    },
    {
     "name": "stderr",
     "output_type": "stream",
     "text": [
      "C:\\Users\\segor\\miniconda3\\envs\\ml4t\\lib\\site-packages\\sklearn\\svm\\_base.py:258: ConvergenceWarning: Solver terminated early (max_iter=100).  Consider pre-processing your data with StandardScaler or MinMaxScaler.\n",
      "  % self.max_iter, ConvergenceWarning)\n",
      "C:\\Users\\segor\\miniconda3\\envs\\ml4t\\lib\\site-packages\\sklearn\\svm\\_base.py:258: ConvergenceWarning: Solver terminated early (max_iter=100).  Consider pre-processing your data with StandardScaler or MinMaxScaler.\n",
      "  % self.max_iter, ConvergenceWarning)\n",
      "C:\\Users\\segor\\miniconda3\\envs\\ml4t\\lib\\site-packages\\sklearn\\svm\\_base.py:258: ConvergenceWarning: Solver terminated early (max_iter=100).  Consider pre-processing your data with StandardScaler or MinMaxScaler.\n",
      "  % self.max_iter, ConvergenceWarning)\n",
      "C:\\Users\\segor\\miniconda3\\envs\\ml4t\\lib\\site-packages\\sklearn\\svm\\_base.py:258: ConvergenceWarning: Solver terminated early (max_iter=100).  Consider pre-processing your data with StandardScaler or MinMaxScaler.\n",
      "  % self.max_iter, ConvergenceWarning)\n"
     ]
    },
    {
     "name": "stdout",
     "output_type": "stream",
     "text": [
      "0.1\n",
      "1\n"
     ]
    }
   ],
   "source": [
    "#C\n",
    "learner = svm.SVC(random_state=42, kernel = 'poly', C = 1, gamma = 1, max_iter = 100)\n",
    "results = {}\n",
    "results[\"X\"] = []\n",
    "results[\"f_train\"] = []\n",
    "results[\"f_val\"] = []\n",
    "l = [0.01, 0.1, 1, 10]\n",
    "for i, param in enumerate(l):\n",
    "    print(param)\n",
    "    learner = learner.set_params(C = param)\n",
    "    learner = learner.fit(X_train_std,y_train)\n",
    "    predictions_train = learner.predict(X_train_std)\n",
    "    predictions_val = learner.predict(X_val_std)\n",
    "    results[\"X\"].append(param)\n",
    "    results[\"f_train\"].append(fbeta_score(y_train,predictions_train,beta=1))\n",
    "    results[\"f_val\"].append(fbeta_score(y_val,predictions_val,beta=1))\n",
    "    \n",
    "#Gamma\n",
    "learner = svm.SVC(random_state=42, kernel = 'poly', C = 1, gamma = 1)\n",
    "results2 = {}\n",
    "results2[\"X\"] = []\n",
    "results2[\"f_train\"] = []\n",
    "results2[\"f_val\"] = []\n",
    "l = [0.01, 0.1, 1]\n",
    "for i, param in enumerate(l):\n",
    "    print(param)\n",
    "    learner = learner.set_params(gamma  = param)\n",
    "    learner = learner.fit(X_train_std,y_train)\n",
    "    predictions_train = learner.predict(X_train_std)\n",
    "    predictions_val = learner.predict(X_val_std)\n",
    "    results2[\"X\"].append(param)\n",
    "    results2[\"f_train\"].append(fbeta_score(y_train,predictions_train,beta=1))\n",
    "    results2[\"f_val\"].append(fbeta_score(y_val,predictions_val,beta=1))\n",
    "    \n",
    "    "
   ]
  },
  {
   "cell_type": "code",
   "execution_count": 46,
   "id": "3f66ad5c",
   "metadata": {},
   "outputs": [
    {
     "data": {
      "image/png": "[encoded data removed]",
      "text/plain": [
       "<Figure size 792x288 with 2 Axes>"
      ]
     },
     "metadata": {
      "needs_background": "light"
     },
     "output_type": "display_data"
    }
   ],
   "source": [
    "# Create figure\n",
    "fig, ax = pl.subplots(ncols = 2, figsize = (11,4))\n",
    "\n",
    "results[\"f_val\"][1] = 0\n",
    "ax[0].plot(results[\"X\"],results[\"f_train\"],color=\"red\",label='Training')\n",
    "ax[0].plot(results[\"X\"],results[\"f_val\"],color=\"blue\", label = 'Validation')\n",
    "ax[0].set_xticks(list(range(1, 100, 10)))\n",
    "ax[0].legend()\n",
    "ax[0].set_xlabel(\"C\")\n",
    "ax[0].set_ylabel(\"F score\")\n",
    "ax[0].set_ylim((0, 1))\n",
    "ax[0].set_xlim((0.01, 10))\n",
    "ax[0].set_xscale(\"log\")\n",
    "    \n",
    "ax[1].plot(results2[\"X\"],results2[\"f_train\"],color=\"red\",label='Training')\n",
    "ax[1].plot(results2[\"X\"],results2[\"f_val\"],color=\"blue\", label = 'Validation')\n",
    "ax[1].set_xticks(list(range(1, 100, 10)))\n",
    "ax[1].legend()\n",
    "ax[1].set_xlabel(\"Gamma\")\n",
    "ax[1].set_ylabel(\"F score\")\n",
    "ax[1].set_ylim((0, 1))\n",
    "ax[1].set_xlim((0.01, 1))\n",
    "ax[1].set_xscale(\"log\")\n",
    "\n",
    "\n",
    "# Aesthetics\n",
    "pl.suptitle(\"Validation Curves for SVM - poly\", fontsize = 16, x = 0.5, y = 1.1)\n",
    "pl.subplots_adjust(left = 0.125, right = 1.2, bottom = 0.1, top = 0.9, wspace = 0.2, hspace = 0.3)    \n",
    "pl.tight_layout()\n",
    "pl.show()"
   ]
  },
  {
   "cell_type": "code",
   "execution_count": 47,
   "id": "a3d520f0",
   "metadata": {},
   "outputs": [],
   "source": [
    "#no of layers\n",
    "learner = svm.SVC(random_state=42, kernel = 'rbf', C = 1, gamma = 1)\n",
    "results = {}\n",
    "results[\"X\"] = []\n",
    "results[\"f_train\"] = []\n",
    "results[\"f_val\"] = []\n",
    "l = [0.01, 0.1, 1, 10, 100]\n",
    "for i, param in enumerate(l):\n",
    "    learner = learner.set_params(C = param)\n",
    "    learner = learner.fit(X_train_std,y_train)\n",
    "    predictions_train = learner.predict(X_train_std)\n",
    "    predictions_val = learner.predict(X_val_std)\n",
    "    results[\"X\"].append(param)\n",
    "    results[\"f_train\"].append(fbeta_score(y_train,predictions_train,beta=1.))\n",
    "    results[\"f_val\"].append(fbeta_score(y_val,predictions_val,beta=1.))\n",
    "    \n",
    "#no of neurons\n",
    "learner = svm.SVC(random_state=42, kernel = 'rbf', C = 10, gamma = 1)\n",
    "results2 = {}\n",
    "results2[\"X\"] = []\n",
    "results2[\"f_train\"] = []\n",
    "results2[\"f_val\"] = []\n",
    "for i, param in enumerate(l):\n",
    "    learner = learner.set_params(gamma  = param)\n",
    "    learner = learner.fit(X_train_std,y_train)\n",
    "    predictions_train = learner.predict(X_train_std)\n",
    "    predictions_val = learner.predict(X_val_std)\n",
    "    results2[\"X\"].append(param)\n",
    "    results2[\"f_train\"].append(fbeta_score(y_train,predictions_train,beta=1.))\n",
    "    results2[\"f_val\"].append(fbeta_score(y_val,predictions_val,beta=1.))\n",
    "    \n",
    "    "
   ]
  },
  {
   "cell_type": "code",
   "execution_count": 48,
   "id": "57bc50a6",
   "metadata": {},
   "outputs": [
    {
     "data": {
      "image/png": "[encoded data removed]",
      "text/plain": [
       "<Figure size 792x288 with 2 Axes>"
      ]
     },
     "metadata": {
      "needs_background": "light"
     },
     "output_type": "display_data"
    }
   ],
   "source": [
    "# Create figure\n",
    "fig, ax = pl.subplots(ncols = 2, figsize = (11,4))\n",
    "\n",
    "# max_depth\n",
    "ax[0].plot(results[\"X\"],results[\"f_train\"],color=\"red\",label='Training')\n",
    "ax[0].plot(results[\"X\"],results[\"f_val\"],color=\"blue\", label = 'Validation')\n",
    "ax[0].set_xticks(list(range(1, 100, 10)))\n",
    "ax[0].legend()\n",
    "ax[0].set_xlabel(\"C\")\n",
    "ax[0].set_ylabel(\"F score\")\n",
    "ax[0].set_ylim((0, 1))\n",
    "ax[0].set_xlim((0.01, 100))\n",
    "ax[0].set_xscale(\"log\")\n",
    "    \n",
    "# max_leaf_size\n",
    "ax[1].plot(results2[\"X\"],results2[\"f_train\"],color=\"red\",label='Training')\n",
    "ax[1].plot(results2[\"X\"],results2[\"f_val\"],color=\"blue\", label = 'Validation')\n",
    "ax[1].set_xticks(list(range(1, 100, 10)))\n",
    "ax[1].legend()\n",
    "ax[1].set_xlabel(\"Gamma\")\n",
    "ax[1].set_ylabel(\"F score\")\n",
    "ax[1].set_ylim((0, 1))\n",
    "ax[1].set_xlim((0.01, 100))\n",
    "ax[1].set_xscale(\"log\")\n",
    "\n",
    "\n",
    "# Aesthetics\n",
    "pl.suptitle(\"Validation Curves for SVM-rbf\", fontsize = 16, x = 0.5, y = 1.1)\n",
    "pl.subplots_adjust(left = 0.125, right = 1.2, bottom = 0.1, top = 0.9, wspace = 0.2, hspace = 0.3)    \n",
    "pl.tight_layout()\n",
    "pl.show()"
   ]
  },
  {
   "cell_type": "code",
   "execution_count": 49,
   "id": "64176747",
   "metadata": {},
   "outputs": [],
   "source": [
    "#Kernel type\n",
    "learner = svm.SVC(random_state=42, kernel = 'rbf', C = 10, gamma = 0.1)\n",
    "results = {}\n",
    "results[\"X\"] = []\n",
    "results[\"f_train\"] = []\n",
    "results[\"f_val\"] = []\n",
    "kernel = {\"linear\", \"poly\", \"rbf\", \"sigmoid\"}\n",
    "for i, param in enumerate(kernel):\n",
    "    learner = learner.set_params(kernel = param)\n",
    "    learner = learner.fit(X_train_std,y_train)\n",
    "    predictions_train = learner.predict(X_train_std)\n",
    "    predictions_val = learner.predict(X_val_std)\n",
    "    results[\"X\"].append(param)\n",
    "    results[\"f_train\"].append(fbeta_score(y_train,predictions_train,beta=1.))\n",
    "    results[\"f_val\"].append(fbeta_score(y_val,predictions_val,beta=1.))\n",
    "    \n",
    "# degree of poly  \n",
    "learner = svm.SVC(random_state=42, kernel = 'poly', C = 0.1, gamma = 1)\n",
    "results2 = {}\n",
    "results2[\"X\"] = []\n",
    "results2[\"f_train\"] = []\n",
    "results2[\"f_val\"] = []\n",
    "degree = [1, 2, 3, 4, 5]\n",
    "for i, param in enumerate(degree):\n",
    "    learner = learner.set_params(degree  = param)\n",
    "    learner = learner.fit(X_train_std,y_train)\n",
    "    predictions_train = learner.predict(X_train_std)\n",
    "    predictions_val = learner.predict(X_val_std)\n",
    "    results2[\"X\"].append(param)\n",
    "    results2[\"f_train\"].append(fbeta_score(y_train,predictions_train,beta=1.))\n",
    "    results2[\"f_val\"].append(fbeta_score(y_val,predictions_val,beta=1.))"
   ]
  },
  {
   "cell_type": "code",
   "execution_count": 50,
   "id": "e3ce01dd",
   "metadata": {},
   "outputs": [
    {
     "data": {
      "image/png": "[encoded data removed]",
      "text/plain": [
       "<Figure size 792x288 with 2 Axes>"
      ]
     },
     "metadata": {
      "needs_background": "light"
     },
     "output_type": "display_data"
    }
   ],
   "source": [
    "# Create figure\n",
    "fig, ax = pl.subplots(ncols = 2, figsize = (11,4))\n",
    "\n",
    "# max_depth\n",
    "ax[0].plot(results[\"X\"],results[\"f_train\"],color=\"red\",label='Training')\n",
    "ax[0].plot(results[\"X\"],results[\"f_val\"],color=\"blue\", label = 'Validation')\n",
    "#ax[0].set_xticks(list(range(1, 100, 10)))\n",
    "ax[0].legend()\n",
    "ax[0].set_xlabel(\"Kernel Type\")\n",
    "ax[0].set_ylabel(\"F score\")\n",
    "ax[0].set_ylim((0, 1))\n",
    "#ax[0].set_xlim((0.01, 100))\n",
    "#ax[0].set_xscale(\"log\")\n",
    "    \n",
    "# max_leaf_size\n",
    "results2[\"f_val\"][2] = 0\n",
    "ax[1].plot(results2[\"X\"],results2[\"f_train\"],color=\"red\",label='Training')\n",
    "ax[1].plot(results2[\"X\"],results2[\"f_val\"],color=\"blue\", label = 'Validation')\n",
    "ax[1].set_xticks(list(range(1, 5)))\n",
    "ax[1].legend()\n",
    "ax[1].set_xlabel(\"Poly degree\")\n",
    "ax[1].set_ylabel(\"F score\")\n",
    "ax[1].set_ylim((0, 1))\n",
    "ax[1].set_xlim((1, 5))\n",
    "#ax[1].set_xscale(\"log\")\n",
    "\n",
    "\n",
    "# Aesthetics\n",
    "pl.suptitle(\"Validation Curves for SVM\", fontsize = 16, x = 0.5, y = 1.1)\n",
    "pl.subplots_adjust(left = 0.125, right = 1.2, bottom = 0.1, top = 0.9, wspace = 0.2, hspace = 0.3)    \n",
    "pl.tight_layout()\n",
    "pl.show()"
   ]
  },
  {
   "cell_type": "code",
   "execution_count": 51,
   "id": "fdbd37d3",
   "metadata": {},
   "outputs": [
    {
     "name": "stdout",
     "output_type": "stream",
     "text": [
      "Final F-score on the testing data: 0.4642\n"
     ]
    }
   ],
   "source": [
    "final_svm = svm.SVC(random_state=42,  kernel = 'rbf', C = 10, gamma = 0.1)\n",
    "final_svm = final_svm.fit(X_train_std, y_train)\n",
    "val_predictions = final_svm.predict(X_val_std)\n",
    "final_predictions = final_svm.predict(X_test_std)\n",
    "print(\"Final F-score on the testing data: {:.4f}\".format(fbeta_score(y_test, final_predictions,beta=1.)))"
   ]
  },
  {
   "cell_type": "code",
   "execution_count": null,
   "id": "9b283dc1",
   "metadata": {},
   "outputs": [],
   "source": [
    "final_svm."
   ]
  },
  {
   "cell_type": "markdown",
   "id": "764d3c1d",
   "metadata": {},
   "source": [
    "# KNN Hyperparameter Optimization"
   ]
  },
  {
   "cell_type": "code",
   "execution_count": 84,
   "id": "5d8ef296",
   "metadata": {},
   "outputs": [],
   "source": [
    "#no of layers\n",
    "learner = KNeighborsClassifier(n_neighbors=1)\n",
    "results = {}\n",
    "results[\"X\"] = []\n",
    "results[\"f_train\"] = []\n",
    "results[\"f_val\"] = []\n",
    "l = list(range(1,100))\n",
    "for i, param in enumerate(l):\n",
    "    learner = learner.set_params(n_neighbors = param)\n",
    "    learner = learner.fit(X_train_std,y_train)\n",
    "    predictions_train = learner.predict(X_train_std)\n",
    "    predictions_val = learner.predict(X_val_std)\n",
    "    results[\"X\"].append(param)\n",
    "    results[\"f_train\"].append(fbeta_score(y_train,predictions_train,beta=1.))\n",
    "    results[\"f_val\"].append(fbeta_score(y_val,predictions_val,beta=1.))\n",
    "    \n",
    "#no of neurons\n",
    "learner = KNeighborsClassifier(n_neighbors=5)\n",
    "results2 = {}\n",
    "results2[\"X\"] = []\n",
    "results2[\"f_train\"] = []\n",
    "results2[\"f_val\"] = []\n",
    "l = [\"uniform\", \"distance\"]\n",
    "for i, param in enumerate(l):\n",
    "    learner = learner.set_params(weights  = param)\n",
    "    learner = learner.fit(X_train_std,y_train)\n",
    "    predictions_train = learner.predict(X_train_std)\n",
    "    predictions_val = learner.predict(X_val_std)\n",
    "    results2[\"X\"].append(param)\n",
    "    results2[\"f_train\"].append(fbeta_score(y_train,predictions_train,beta=1))\n",
    "    results2[\"f_val\"].append(fbeta_score(y_val,predictions_val,beta=1.))\n",
    "    \n",
    "    "
   ]
  },
  {
   "cell_type": "code",
   "execution_count": 85,
   "id": "5b9b6e31",
   "metadata": {},
   "outputs": [
    {
     "data": {
      "image/png": "[encoded data removed]",
      "text/plain": [
       "<Figure size 792x288 with 2 Axes>"
      ]
     },
     "metadata": {
      "needs_background": "light"
     },
     "output_type": "display_data"
    }
   ],
   "source": [
    "# Create figure\n",
    "fig, ax = pl.subplots(ncols = 2, figsize = (11,4))\n",
    "\n",
    "# max_depth\n",
    "ax[0].plot(results[\"X\"],results[\"f_train\"],color=\"red\",label='Training')\n",
    "ax[0].plot(results[\"X\"],results[\"f_val\"],color=\"blue\", label = 'Validation')\n",
    "ax[0].set_xticks(list(range(1, 100, 10)))\n",
    "ax[0].legend()\n",
    "ax[0].set_xlabel(\"Number of neighbors\")\n",
    "ax[0].set_ylabel(\"F score\")\n",
    "ax[0].set_ylim((0, 1))\n",
    "ax[0].set_xlim((1, 100))\n",
    "    \n",
    "# max_leaf_size\n",
    "ax[1].plot(results2[\"X\"],results2[\"f_train\"],color=\"red\",label='Training')\n",
    "ax[1].plot(results2[\"X\"],results2[\"f_val\"],color=\"blue\", label = 'Validation')\n",
    "#ax[1].set_xticks(list(range(1, 100, 10)))\n",
    "ax[1].legend()\n",
    "ax[1].set_xlabel(\"Weights\")\n",
    "ax[1].set_ylabel(\"F score\")\n",
    "ax[1].set_ylim((0, 1))\n",
    "#ax[1].set_xlim((0.01, 10))\n",
    "\n",
    "\n",
    "# Aesthetics\n",
    "pl.suptitle(\"Validation Curves for KNN\", fontsize = 16, x = 0.5, y = 1.1)\n",
    "pl.subplots_adjust(left = 0.125, right = 1.2, bottom = 0.1, top = 0.9, wspace = 0.2, hspace = 0.3)    \n",
    "pl.tight_layout()\n",
    "pl.show()"
   ]
  },
  {
   "cell_type": "code",
   "execution_count": 86,
   "id": "fb27a282",
   "metadata": {},
   "outputs": [
    {
     "name": "stdout",
     "output_type": "stream",
     "text": [
      "Final Precision score on the testing data: 0.4642\n"
     ]
    }
   ],
   "source": [
    "final_knn = KNeighborsClassifier(n_neighbors=1)\n",
    "final_knn = final_knn.fit(X_train_std, y_train)\n",
    "final_predictions = final_svm.predict(X_test_std)\n",
    "print(\"Final F-score on the testing data: {:.4f}\".format(fbeta_score(y_test, final_predictions,beta=1.)))"
   ]
  },
  {
   "cell_type": "code",
   "execution_count": null,
   "id": "4257bb8f",
   "metadata": {},
   "outputs": [],
   "source": []
  },
  {
   "cell_type": "code",
   "execution_count": null,
   "id": "6273500f",
   "metadata": {},
   "outputs": [],
   "source": []
  }
 ],
 "metadata": {
  "kernelspec": {
   "display_name": "Python 3",
   "language": "python",
   "name": "python3"
  },
  "language_info": {
   "codemirror_mode": {
    "name": "ipython",
    "version": 3
   },
   "file_extension": ".py",
   "mimetype": "text/x-python",
   "name": "python",
   "nbconvert_exporter": "python",
   "pygments_lexer": "ipython3",
   "version": "3.6.13"
  }
 },
 "nbformat": 4,
 "nbformat_minor": 5
}
