{
 "cells": [
  {
   "cell_type": "code",
   "execution_count": 17,
   "id": "eef77504",
   "metadata": {},
   "outputs": [],
   "source": [
    "import pandas as pd\n",
    "import numpy as np\n",
    "from time import time\n",
    "from IPython.display import display\n",
    "import seaborn as sns\n",
    "import matplotlib.pyplot as pl\n",
    "import matplotlib.patches as mpatches\n",
    "import mlrose_hiive as mlrose\n",
    "from sklearn.metrics import fbeta_score\n",
    "from sklearn.metrics import accuracy_score\n",
    "\n",
    "# Pretty display for notebooks\n",
    "%matplotlib inline"
   ]
  },
  {
   "cell_type": "code",
   "execution_count": 18,
   "id": "6d400dd9",
   "metadata": {},
   "outputs": [],
   "source": [
    "data = pd.read_csv(\"..\\Datasets\\water\\water_potability.csv\")"
   ]
  },
  {
   "cell_type": "code",
   "execution_count": 19,
   "id": "ec3658c0",
   "metadata": {},
   "outputs": [
    {
     "data": {
      "text/html": [
       "<div>\n",
       "<style scoped>\n",
       "    .dataframe tbody tr th:only-of-type {\n",
       "        vertical-align: middle;\n",
       "    }\n",
       "\n",
       "    .dataframe tbody tr th {\n",
       "        vertical-align: top;\n",
       "    }\n",
       "\n",
       "    .dataframe thead th {\n",
       "        text-align: right;\n",
       "    }\n",
       "</style>\n",
       "<table border=\"1\" class=\"dataframe\">\n",
       "  <thead>\n",
       "    <tr style=\"text-align: right;\">\n",
       "      <th></th>\n",
       "      <th>ph</th>\n",
       "      <th>Hardness</th>\n",
       "      <th>Solids</th>\n",
       "      <th>Chloramines</th>\n",
       "      <th>Sulfate</th>\n",
       "      <th>Conductivity</th>\n",
       "      <th>Organic_carbon</th>\n",
       "      <th>Trihalomethanes</th>\n",
       "      <th>Turbidity</th>\n",
       "      <th>Potability</th>\n",
       "    </tr>\n",
       "  </thead>\n",
       "  <tbody>\n",
       "    <tr>\n",
       "      <th>0</th>\n",
       "      <td>NaN</td>\n",
       "      <td>204.890455</td>\n",
       "      <td>20791.318981</td>\n",
       "      <td>7.300212</td>\n",
       "      <td>368.516441</td>\n",
       "      <td>564.308654</td>\n",
       "      <td>10.379783</td>\n",
       "      <td>86.990970</td>\n",
       "      <td>2.963135</td>\n",
       "      <td>0</td>\n",
       "    </tr>\n",
       "    <tr>\n",
       "      <th>1</th>\n",
       "      <td>3.716080</td>\n",
       "      <td>129.422921</td>\n",
       "      <td>18630.057858</td>\n",
       "      <td>6.635246</td>\n",
       "      <td>NaN</td>\n",
       "      <td>592.885359</td>\n",
       "      <td>15.180013</td>\n",
       "      <td>56.329076</td>\n",
       "      <td>4.500656</td>\n",
       "      <td>0</td>\n",
       "    </tr>\n",
       "    <tr>\n",
       "      <th>2</th>\n",
       "      <td>8.099124</td>\n",
       "      <td>224.236259</td>\n",
       "      <td>19909.541732</td>\n",
       "      <td>9.275884</td>\n",
       "      <td>NaN</td>\n",
       "      <td>418.606213</td>\n",
       "      <td>16.868637</td>\n",
       "      <td>66.420093</td>\n",
       "      <td>3.055934</td>\n",
       "      <td>0</td>\n",
       "    </tr>\n",
       "    <tr>\n",
       "      <th>3</th>\n",
       "      <td>8.316766</td>\n",
       "      <td>214.373394</td>\n",
       "      <td>22018.417441</td>\n",
       "      <td>8.059332</td>\n",
       "      <td>356.886136</td>\n",
       "      <td>363.266516</td>\n",
       "      <td>18.436524</td>\n",
       "      <td>100.341674</td>\n",
       "      <td>4.628771</td>\n",
       "      <td>0</td>\n",
       "    </tr>\n",
       "    <tr>\n",
       "      <th>4</th>\n",
       "      <td>9.092223</td>\n",
       "      <td>181.101509</td>\n",
       "      <td>17978.986339</td>\n",
       "      <td>6.546600</td>\n",
       "      <td>310.135738</td>\n",
       "      <td>398.410813</td>\n",
       "      <td>11.558279</td>\n",
       "      <td>31.997993</td>\n",
       "      <td>4.075075</td>\n",
       "      <td>0</td>\n",
       "    </tr>\n",
       "    <tr>\n",
       "      <th>5</th>\n",
       "      <td>5.584087</td>\n",
       "      <td>188.313324</td>\n",
       "      <td>28748.687739</td>\n",
       "      <td>7.544869</td>\n",
       "      <td>326.678363</td>\n",
       "      <td>280.467916</td>\n",
       "      <td>8.399735</td>\n",
       "      <td>54.917862</td>\n",
       "      <td>2.559708</td>\n",
       "      <td>0</td>\n",
       "    </tr>\n",
       "    <tr>\n",
       "      <th>6</th>\n",
       "      <td>10.223862</td>\n",
       "      <td>248.071735</td>\n",
       "      <td>28749.716544</td>\n",
       "      <td>7.513408</td>\n",
       "      <td>393.663396</td>\n",
       "      <td>283.651634</td>\n",
       "      <td>13.789695</td>\n",
       "      <td>84.603556</td>\n",
       "      <td>2.672989</td>\n",
       "      <td>0</td>\n",
       "    </tr>\n",
       "    <tr>\n",
       "      <th>7</th>\n",
       "      <td>8.635849</td>\n",
       "      <td>203.361523</td>\n",
       "      <td>13672.091764</td>\n",
       "      <td>4.563009</td>\n",
       "      <td>303.309771</td>\n",
       "      <td>474.607645</td>\n",
       "      <td>12.363817</td>\n",
       "      <td>62.798309</td>\n",
       "      <td>4.401425</td>\n",
       "      <td>0</td>\n",
       "    </tr>\n",
       "    <tr>\n",
       "      <th>8</th>\n",
       "      <td>NaN</td>\n",
       "      <td>118.988579</td>\n",
       "      <td>14285.583854</td>\n",
       "      <td>7.804174</td>\n",
       "      <td>268.646941</td>\n",
       "      <td>389.375566</td>\n",
       "      <td>12.706049</td>\n",
       "      <td>53.928846</td>\n",
       "      <td>3.595017</td>\n",
       "      <td>0</td>\n",
       "    </tr>\n",
       "    <tr>\n",
       "      <th>9</th>\n",
       "      <td>11.180284</td>\n",
       "      <td>227.231469</td>\n",
       "      <td>25484.508491</td>\n",
       "      <td>9.077200</td>\n",
       "      <td>404.041635</td>\n",
       "      <td>563.885481</td>\n",
       "      <td>17.927806</td>\n",
       "      <td>71.976601</td>\n",
       "      <td>4.370562</td>\n",
       "      <td>0</td>\n",
       "    </tr>\n",
       "  </tbody>\n",
       "</table>\n",
       "</div>"
      ],
      "text/plain": [
       "          ph    Hardness        Solids  Chloramines     Sulfate  Conductivity  \\\n",
       "0        NaN  204.890455  20791.318981     7.300212  368.516441    564.308654   \n",
       "1   3.716080  129.422921  18630.057858     6.635246         NaN    592.885359   \n",
       "2   8.099124  224.236259  19909.541732     9.275884         NaN    418.606213   \n",
       "3   8.316766  214.373394  22018.417441     8.059332  356.886136    363.266516   \n",
       "4   9.092223  181.101509  17978.986339     6.546600  310.135738    398.410813   \n",
       "5   5.584087  188.313324  28748.687739     7.544869  326.678363    280.467916   \n",
       "6  10.223862  248.071735  28749.716544     7.513408  393.663396    283.651634   \n",
       "7   8.635849  203.361523  13672.091764     4.563009  303.309771    474.607645   \n",
       "8        NaN  118.988579  14285.583854     7.804174  268.646941    389.375566   \n",
       "9  11.180284  227.231469  25484.508491     9.077200  404.041635    563.885481   \n",
       "\n",
       "   Organic_carbon  Trihalomethanes  Turbidity  Potability  \n",
       "0       10.379783        86.990970   2.963135           0  \n",
       "1       15.180013        56.329076   4.500656           0  \n",
       "2       16.868637        66.420093   3.055934           0  \n",
       "3       18.436524       100.341674   4.628771           0  \n",
       "4       11.558279        31.997993   4.075075           0  \n",
       "5        8.399735        54.917862   2.559708           0  \n",
       "6       13.789695        84.603556   2.672989           0  \n",
       "7       12.363817        62.798309   4.401425           0  \n",
       "8       12.706049        53.928846   3.595017           0  \n",
       "9       17.927806        71.976601   4.370562           0  "
      ]
     },
     "metadata": {},
     "output_type": "display_data"
    }
   ],
   "source": [
    "display(data.head(n=10))"
   ]
  },
  {
   "cell_type": "code",
   "execution_count": 20,
   "id": "bdb1395a",
   "metadata": {},
   "outputs": [
    {
     "name": "stdout",
     "output_type": "stream",
     "text": [
      "1434\n",
      "ph                 491\n",
      "Hardness             0\n",
      "Solids               0\n",
      "Chloramines          0\n",
      "Sulfate            781\n",
      "Conductivity         0\n",
      "Organic_carbon       0\n",
      "Trihalomethanes    162\n",
      "Turbidity            0\n",
      "Potability           0\n",
      "dtype: int64\n",
      "(3276, 10)\n"
     ]
    }
   ],
   "source": [
    "print(data.isna().sum().sum())\n",
    "print(data.isnull().sum())\n",
    "print(data.shape)"
   ]
  },
  {
   "cell_type": "code",
   "execution_count": 21,
   "id": "4338867b",
   "metadata": {},
   "outputs": [
    {
     "data": {
      "text/html": [
       "<div>\n",
       "<style scoped>\n",
       "    .dataframe tbody tr th:only-of-type {\n",
       "        vertical-align: middle;\n",
       "    }\n",
       "\n",
       "    .dataframe tbody tr th {\n",
       "        vertical-align: top;\n",
       "    }\n",
       "\n",
       "    .dataframe thead th {\n",
       "        text-align: right;\n",
       "    }\n",
       "</style>\n",
       "<table border=\"1\" class=\"dataframe\">\n",
       "  <thead>\n",
       "    <tr style=\"text-align: right;\">\n",
       "      <th></th>\n",
       "      <th>ph</th>\n",
       "      <th>Hardness</th>\n",
       "      <th>Solids</th>\n",
       "      <th>Chloramines</th>\n",
       "      <th>Sulfate</th>\n",
       "      <th>Conductivity</th>\n",
       "      <th>Organic_carbon</th>\n",
       "      <th>Trihalomethanes</th>\n",
       "      <th>Turbidity</th>\n",
       "      <th>Potability</th>\n",
       "    </tr>\n",
       "  </thead>\n",
       "  <tbody>\n",
       "    <tr>\n",
       "      <th>0</th>\n",
       "      <td>7.080795</td>\n",
       "      <td>204.890455</td>\n",
       "      <td>20791.318981</td>\n",
       "      <td>7.300212</td>\n",
       "      <td>368.516441</td>\n",
       "      <td>564.308654</td>\n",
       "      <td>10.379783</td>\n",
       "      <td>86.990970</td>\n",
       "      <td>2.963135</td>\n",
       "      <td>0</td>\n",
       "    </tr>\n",
       "    <tr>\n",
       "      <th>1</th>\n",
       "      <td>3.716080</td>\n",
       "      <td>129.422921</td>\n",
       "      <td>18630.057858</td>\n",
       "      <td>6.635246</td>\n",
       "      <td>333.775777</td>\n",
       "      <td>592.885359</td>\n",
       "      <td>15.180013</td>\n",
       "      <td>56.329076</td>\n",
       "      <td>4.500656</td>\n",
       "      <td>0</td>\n",
       "    </tr>\n",
       "    <tr>\n",
       "      <th>2</th>\n",
       "      <td>8.099124</td>\n",
       "      <td>224.236259</td>\n",
       "      <td>19909.541732</td>\n",
       "      <td>9.275884</td>\n",
       "      <td>333.775777</td>\n",
       "      <td>418.606213</td>\n",
       "      <td>16.868637</td>\n",
       "      <td>66.420093</td>\n",
       "      <td>3.055934</td>\n",
       "      <td>0</td>\n",
       "    </tr>\n",
       "    <tr>\n",
       "      <th>3</th>\n",
       "      <td>8.316766</td>\n",
       "      <td>214.373394</td>\n",
       "      <td>22018.417441</td>\n",
       "      <td>8.059332</td>\n",
       "      <td>356.886136</td>\n",
       "      <td>363.266516</td>\n",
       "      <td>18.436524</td>\n",
       "      <td>100.341674</td>\n",
       "      <td>4.628771</td>\n",
       "      <td>0</td>\n",
       "    </tr>\n",
       "    <tr>\n",
       "      <th>4</th>\n",
       "      <td>9.092223</td>\n",
       "      <td>181.101509</td>\n",
       "      <td>17978.986339</td>\n",
       "      <td>6.546600</td>\n",
       "      <td>310.135738</td>\n",
       "      <td>398.410813</td>\n",
       "      <td>11.558279</td>\n",
       "      <td>31.997993</td>\n",
       "      <td>4.075075</td>\n",
       "      <td>0</td>\n",
       "    </tr>\n",
       "    <tr>\n",
       "      <th>5</th>\n",
       "      <td>5.584087</td>\n",
       "      <td>188.313324</td>\n",
       "      <td>28748.687739</td>\n",
       "      <td>7.544869</td>\n",
       "      <td>326.678363</td>\n",
       "      <td>280.467916</td>\n",
       "      <td>8.399735</td>\n",
       "      <td>54.917862</td>\n",
       "      <td>2.559708</td>\n",
       "      <td>0</td>\n",
       "    </tr>\n",
       "    <tr>\n",
       "      <th>6</th>\n",
       "      <td>10.223862</td>\n",
       "      <td>248.071735</td>\n",
       "      <td>28749.716544</td>\n",
       "      <td>7.513408</td>\n",
       "      <td>393.663396</td>\n",
       "      <td>283.651634</td>\n",
       "      <td>13.789695</td>\n",
       "      <td>84.603556</td>\n",
       "      <td>2.672989</td>\n",
       "      <td>0</td>\n",
       "    </tr>\n",
       "    <tr>\n",
       "      <th>7</th>\n",
       "      <td>8.635849</td>\n",
       "      <td>203.361523</td>\n",
       "      <td>13672.091764</td>\n",
       "      <td>4.563009</td>\n",
       "      <td>303.309771</td>\n",
       "      <td>474.607645</td>\n",
       "      <td>12.363817</td>\n",
       "      <td>62.798309</td>\n",
       "      <td>4.401425</td>\n",
       "      <td>0</td>\n",
       "    </tr>\n",
       "    <tr>\n",
       "      <th>8</th>\n",
       "      <td>7.080795</td>\n",
       "      <td>118.988579</td>\n",
       "      <td>14285.583854</td>\n",
       "      <td>7.804174</td>\n",
       "      <td>268.646941</td>\n",
       "      <td>389.375566</td>\n",
       "      <td>12.706049</td>\n",
       "      <td>53.928846</td>\n",
       "      <td>3.595017</td>\n",
       "      <td>0</td>\n",
       "    </tr>\n",
       "    <tr>\n",
       "      <th>9</th>\n",
       "      <td>11.180284</td>\n",
       "      <td>227.231469</td>\n",
       "      <td>25484.508491</td>\n",
       "      <td>9.077200</td>\n",
       "      <td>404.041635</td>\n",
       "      <td>563.885481</td>\n",
       "      <td>17.927806</td>\n",
       "      <td>71.976601</td>\n",
       "      <td>4.370562</td>\n",
       "      <td>0</td>\n",
       "    </tr>\n",
       "  </tbody>\n",
       "</table>\n",
       "</div>"
      ],
      "text/plain": [
       "          ph    Hardness        Solids  Chloramines     Sulfate  Conductivity  \\\n",
       "0   7.080795  204.890455  20791.318981     7.300212  368.516441    564.308654   \n",
       "1   3.716080  129.422921  18630.057858     6.635246  333.775777    592.885359   \n",
       "2   8.099124  224.236259  19909.541732     9.275884  333.775777    418.606213   \n",
       "3   8.316766  214.373394  22018.417441     8.059332  356.886136    363.266516   \n",
       "4   9.092223  181.101509  17978.986339     6.546600  310.135738    398.410813   \n",
       "5   5.584087  188.313324  28748.687739     7.544869  326.678363    280.467916   \n",
       "6  10.223862  248.071735  28749.716544     7.513408  393.663396    283.651634   \n",
       "7   8.635849  203.361523  13672.091764     4.563009  303.309771    474.607645   \n",
       "8   7.080795  118.988579  14285.583854     7.804174  268.646941    389.375566   \n",
       "9  11.180284  227.231469  25484.508491     9.077200  404.041635    563.885481   \n",
       "\n",
       "   Organic_carbon  Trihalomethanes  Turbidity  Potability  \n",
       "0       10.379783        86.990970   2.963135           0  \n",
       "1       15.180013        56.329076   4.500656           0  \n",
       "2       16.868637        66.420093   3.055934           0  \n",
       "3       18.436524       100.341674   4.628771           0  \n",
       "4       11.558279        31.997993   4.075075           0  \n",
       "5        8.399735        54.917862   2.559708           0  \n",
       "6       13.789695        84.603556   2.672989           0  \n",
       "7       12.363817        62.798309   4.401425           0  \n",
       "8       12.706049        53.928846   3.595017           0  \n",
       "9       17.927806        71.976601   4.370562           0  "
      ]
     },
     "metadata": {},
     "output_type": "display_data"
    },
    {
     "name": "stdout",
     "output_type": "stream",
     "text": [
      "0\n",
      "ph                 0\n",
      "Hardness           0\n",
      "Solids             0\n",
      "Chloramines        0\n",
      "Sulfate            0\n",
      "Conductivity       0\n",
      "Organic_carbon     0\n",
      "Trihalomethanes    0\n",
      "Turbidity          0\n",
      "Potability         0\n",
      "dtype: int64\n",
      "(3276, 10)\n"
     ]
    }
   ],
   "source": [
    "data = data.fillna(data.mean())\n",
    "#data = data.dropna()\n",
    "display(data.head(n=10))\n",
    "print(data.isna().sum().sum())\n",
    "print(data.isnull().sum())\n",
    "print(data.shape)"
   ]
  },
  {
   "cell_type": "code",
   "execution_count": 22,
   "id": "26827679",
   "metadata": {},
   "outputs": [
    {
     "name": "stdout",
     "output_type": "stream",
     "text": [
      "                ph     Hardness        Solids  Chloramines      Sulfate  \\\n",
      "count  3276.000000  3276.000000   3276.000000  3276.000000  3276.000000   \n",
      "mean      7.080795   196.369496  22014.092526     7.122277   333.775777   \n",
      "std       1.469956    32.879761   8768.570828     1.583085    36.142612   \n",
      "min       0.000000    47.432000    320.942611     0.352000   129.000000   \n",
      "25%       6.277673   176.850538  15666.690297     6.127421   317.094638   \n",
      "50%       7.080795   196.967627  20927.833607     7.130299   333.775777   \n",
      "75%       7.870050   216.667456  27332.762127     8.114887   350.385756   \n",
      "max      14.000000   323.124000  61227.196008    13.127000   481.030642   \n",
      "\n",
      "       Conductivity  Organic_carbon  Trihalomethanes    Turbidity   Potability  \n",
      "count   3276.000000     3276.000000      3276.000000  3276.000000  3276.000000  \n",
      "mean     426.205111       14.284970        66.396293     3.966786     0.390110  \n",
      "std       80.824064        3.308162        15.769881     0.780382     0.487849  \n",
      "min      181.483754        2.200000         0.738000     1.450000     0.000000  \n",
      "25%      365.734414       12.065801        56.647656     3.439711     0.000000  \n",
      "50%      421.884968       14.218338        66.396293     3.955028     0.000000  \n",
      "75%      481.792304       16.557652        76.666609     4.500320     1.000000  \n",
      "max      753.342620       28.300000       124.000000     6.739000     1.000000  \n",
      "[0 1]\n"
     ]
    }
   ],
   "source": [
    "print(data.describe())\n",
    "print(data[\"Potability\"].unique())"
   ]
  },
  {
   "cell_type": "code",
   "execution_count": 24,
   "id": "7e371598",
   "metadata": {},
   "outputs": [],
   "source": [
    "output = data[['Potability']]\n",
    "features = data.drop(columns='Potability')\n"
   ]
  },
  {
   "cell_type": "code",
   "execution_count": 25,
   "id": "e3490009",
   "metadata": {},
   "outputs": [
    {
     "name": "stdout",
     "output_type": "stream",
     "text": [
      "Training set has 2620 samples.\n",
      "Testing set has 656 samples.\n"
     ]
    }
   ],
   "source": [
    "# Import train_test_split\n",
    "# Split into training, validation and testing.\n",
    "from sklearn.model_selection import train_test_split\n",
    "# Split the 'features' and 'income' data into training and testing sets\n",
    "X_train, X_test, y_train, y_test = train_test_split(features, output, \n",
    "                                                    test_size = 0.2, \n",
    "                                                    random_state = 0)\n",
    "\n",
    "print(\"Training set has {} samples.\".format(X_train.shape[0]))\n",
    "print(\"Testing set has {} samples.\".format(X_test.shape[0]))"
   ]
  },
  {
   "cell_type": "code",
   "execution_count": 26,
   "id": "aaf5b349",
   "metadata": {},
   "outputs": [
    {
     "name": "stdout",
     "output_type": "stream",
     "text": [
      "Training set has 2096 samples.\n",
      "Validation set has 524 samples.\n",
      "Testing set has 656 samples.\n"
     ]
    }
   ],
   "source": [
    "X_train, X_val, y_train, y_val = train_test_split(X_train, y_train, \n",
    "                                                    test_size = 0.2, \n",
    "                                                    random_state = 0)\n",
    "\n",
    "# Show the results of the split\n",
    "print(\"Training set has {} samples.\".format(X_train.shape[0]))\n",
    "print(\"Validation set has {} samples.\".format(X_val.shape[0]))\n",
    "print(\"Testing set has {} samples.\".format(X_test.shape[0]))"
   ]
  },
  {
   "cell_type": "code",
   "execution_count": 27,
   "id": "bc5d9402",
   "metadata": {},
   "outputs": [],
   "source": [
    "from sklearn.preprocessing import StandardScaler\n",
    "\n",
    "scaler = StandardScaler() # default=(0, 1)\n",
    "# Do scaling on training. Apply the same transformation to validation and testing.\n",
    "X_train_np = scaler.fit_transform(X_train)\n",
    "X_train_std = pd.DataFrame(data=X_train_np,columns=X_train.columns)\n",
    "X_val_np = scaler.transform(X_val)\n",
    "X_val_std = pd.DataFrame(data=X_val_np,columns=X_train.columns)\n",
    "X_test_np = scaler.transform(X_test)\n",
    "X_test_std = pd.DataFrame(data=X_test_np,columns=X_train.columns)\n"
   ]
  },
  {
   "cell_type": "code",
   "execution_count": 50,
   "id": "292237a7",
   "metadata": {},
   "outputs": [
    {
     "name": "stdout",
     "output_type": "stream",
     "text": [
      "0 2\n",
      "1 4\n",
      "2 6\n"
     ]
    }
   ],
   "source": [
    "RHCdat = {}\n",
    "RHCdat[\"time\"] = {}\n",
    "RHCdat[\"ftrain\"] = {}\n",
    "RHCdat[\"fval\"] = {}\n",
    "RHCdat[\"ftest\"] = {}\n",
    "for i,var in enumerate(range(2,8,2)):\n",
    "    print(i,var)\n",
    "    start = time()\n",
    "    RHC = mlrose.NeuralNetwork(hidden_nodes = [15], activation = 'tanh', \\\n",
    "                                     algorithm = 'random_hill_climb', max_iters = 10000, \\\n",
    "                                     bias = True, is_classifier = True, learning_rate = 0.0001, \\\n",
    "                                     early_stopping = True, clip_max = 5, max_attempts = 100, \\\n",
    "                                     random_state = 42, restarts = var)\n",
    "    RHC.fit(X_train_std, y_train)\n",
    "    end = time()\n",
    "    RHCdat[\"time\"][i] = end - start\n",
    "    predictions_train = RHC.predict(X_train_std)\n",
    "    predictions_val = RHC.predict(X_val_std)\n",
    "    predictions_test = RHC.predict(X_test_std)\n",
    "    RHCdat[\"ftrain\"][i] = fbeta_score(y_train,predictions_train,beta=1.)\n",
    "    RHCdat[\"fval\"][i] = fbeta_score(y_val,predictions_val,beta=1.)\n",
    "    RHCdat[\"ftest\"][i] = fbeta_score(y_test,predictions_test,beta=1.)\n",
    "\n",
    "\n"
   ]
  },
  {
   "cell_type": "code",
   "execution_count": 52,
   "id": "d69927b0",
   "metadata": {},
   "outputs": [
    {
     "data": {
      "text/plain": [
       "{'time': {0: 98.00209450721741, 1: 178.41737985610962, 2: 241.55893540382385},\n",
       " 'ftrain': {0: 0.44639912039582186,\n",
       "  1: 0.4472527472527473,\n",
       "  2: 0.4472527472527473},\n",
       " 'fval': {0: 0.42217484008528783,\n",
       "  1: 0.42217484008528783,\n",
       "  2: 0.42217484008528783},\n",
       " 'ftest': {0: 0.4381625441696113,\n",
       "  1: 0.4381625441696113,\n",
       "  2: 0.4381625441696113}}"
      ]
     },
     "execution_count": 52,
     "metadata": {},
     "output_type": "execute_result"
    }
   ],
   "source": [
    "RHCdat"
   ]
  },
  {
   "cell_type": "code",
   "execution_count": 60,
   "id": "66755e0c",
   "metadata": {},
   "outputs": [
    {
     "name": "stdout",
     "output_type": "stream",
     "text": [
      "0 1.0\n",
      "NeuralNetwork(activation='tanh', algorithm='simulated_annealing', clip_max=5,\n",
      "              early_stopping=True, hidden_nodes=[15], learning_rate=0.0001,\n",
      "              max_attempts=100, max_iters=10000, random_state=42)\n",
      "0.4515068493150685\n",
      "0.42217484008528783\n",
      "0.44133099824868655\n",
      "1 1.0\n",
      "NeuralNetwork(activation='tanh', algorithm='simulated_annealing', clip_max=5,\n",
      "              early_stopping=True, hidden_nodes=[15], learning_rate=0.0001,\n",
      "              max_attempts=100, max_iters=10000, random_state=42,\n",
      "              schedule=ArithDecay(init_temp=1.0, decay=0.0001, min_temp=0.001))\n",
      "0.4515068493150685\n",
      "0.42217484008528783\n",
      "0.44133099824868655\n",
      "2 1.0\n",
      "NeuralNetwork(activation='tanh', algorithm='simulated_annealing', clip_max=5,\n",
      "              early_stopping=True, hidden_nodes=[15], learning_rate=0.0001,\n",
      "              max_attempts=100, max_iters=10000, random_state=42,\n",
      "              schedule=ExpDecay(init_temp=1.0, exp_const=0.005, min_temp=0.001))\n",
      "0.4515068493150685\n",
      "0.42217484008528783\n",
      "0.44133099824868655\n"
     ]
    }
   ],
   "source": [
    "SAdat = {}\n",
    "SAdat[\"time\"] = {}\n",
    "SAdat[\"ftrain\"] = {}\n",
    "SAdat[\"fval\"] = {}\n",
    "SAdat[\"ftest\"] = {}\n",
    "l = [mlrose.GeomDecay(),mlrose.ArithDecay(),mlrose.ExpDecay()]\n",
    "for i,var in enumerate(l):\n",
    "    print(i,var)\n",
    "    start = time()\n",
    "    SA = mlrose.NeuralNetwork(hidden_nodes = [15], activation = 'tanh', \\\n",
    "                                 algorithm = 'simulated_annealing', max_iters = 10000, \\\n",
    "                                 bias = True, is_classifier = True, learning_rate = 0.0001, \\\n",
    "                                 early_stopping = True, clip_max = 5, max_attempts = 100, \\\n",
    "                                 random_state = 42, schedule = var)\n",
    "    print(SA)\n",
    "    SA.fit(X_train_std, y_train)\n",
    "    end = time()\n",
    "    SAdat[\"time\"][i] = end - start\n",
    "    predictions_train = SA.predict(X_train_std)\n",
    "    predictions_val = SA.predict(X_val_std)\n",
    "    predictions_test = SA.predict(X_test_std)\n",
    "    print(fbeta_score(y_train,predictions_train,beta=1.))\n",
    "    print(fbeta_score(y_val,predictions_val,beta=1.))\n",
    "    print(fbeta_score(y_test,predictions_test,beta=1.))\n",
    "    SAdat[\"ftrain\"][i] = fbeta_score(y_train,predictions_train,beta=1.)\n",
    "    SAdat[\"fval\"][i] = fbeta_score(y_val,predictions_val,beta=1.)\n",
    "    SAdat[\"ftest\"][i] = fbeta_score(y_test,predictions_test,beta=1.)"
   ]
  },
  {
   "cell_type": "code",
   "execution_count": 61,
   "id": "c2c94fb2",
   "metadata": {},
   "outputs": [
    {
     "data": {
      "text/plain": [
       "{'time': {0: 40.96141815185547, 1: 44.3692786693573, 2: 47.736982107162476},\n",
       " 'ftrain': {0: 0.4515068493150685,\n",
       "  1: 0.4515068493150685,\n",
       "  2: 0.4515068493150685},\n",
       " 'fval': {0: 0.42217484008528783,\n",
       "  1: 0.42217484008528783,\n",
       "  2: 0.42217484008528783},\n",
       " 'ftest': {0: 0.44133099824868655,\n",
       "  1: 0.44133099824868655,\n",
       "  2: 0.44133099824868655}}"
      ]
     },
     "execution_count": 61,
     "metadata": {},
     "output_type": "execute_result"
    }
   ],
   "source": [
    "SAdat"
   ]
  },
  {
   "cell_type": "code",
   "execution_count": 62,
   "id": "8206ebdf",
   "metadata": {},
   "outputs": [
    {
     "name": "stdout",
     "output_type": "stream",
     "text": [
      "0 100\n",
      "1 200\n",
      "2 300\n"
     ]
    }
   ],
   "source": [
    "GAdat = {}\n",
    "GAdat[\"time\"] = {}\n",
    "GAdat[\"ftrain\"] = {}\n",
    "GAdat[\"fval\"] = {}\n",
    "GAdat[\"ftest\"] = {}\n",
    "for i,var in enumerate(range(100,400,100)):\n",
    "    print(i,var)\n",
    "    start = time()\n",
    "    GA = mlrose.NeuralNetwork(hidden_nodes = [15], activation = 'tanh', \\\n",
    "                                     algorithm = 'genetic_alg', max_iters = 10000, \\\n",
    "                                     bias = True, is_classifier = True, learning_rate = 0.0001, \\\n",
    "                                     early_stopping = True, clip_max = 5, max_attempts = 100, \\\n",
    "                                     random_state = 42, pop_size = var)\n",
    "    GA.fit(X_train_std, y_train)\n",
    "    end = time()\n",
    "    GAdat[\"time\"][i] = end - start\n",
    "    predictions_train = GA.predict(X_train_std)\n",
    "    predictions_val = GA.predict(X_val_std)\n",
    "    predictions_test = GA.predict(X_test_std)\n",
    "    GAdat[\"ftrain\"][i] = fbeta_score(y_train,predictions_train,beta=1.)\n",
    "    GAdat[\"fval\"][i] = fbeta_score(y_val,predictions_val,beta=1.)\n",
    "    GAdat[\"ftest\"][i] = fbeta_score(y_test,predictions_test,beta=1.)"
   ]
  },
  {
   "cell_type": "code",
   "execution_count": 63,
   "id": "91310445",
   "metadata": {},
   "outputs": [
    {
     "data": {
      "text/plain": [
       "{'time': {0: 183.71149158477783, 1: 133.0687654018402, 2: 726.0666046142578},\n",
       " 'ftrain': {0: 0.28936170212765955,\n",
       "  1: 0.33486943164362515,\n",
       "  2: 0.30730478589420657},\n",
       " 'fval': {0: 0.271523178807947,\n",
       "  1: 0.33333333333333337,\n",
       "  2: 0.30817610062893086},\n",
       " 'ftest': {0: 0.2865497076023392,\n",
       "  1: 0.3267326732673267,\n",
       "  2: 0.2464183381088825}}"
      ]
     },
     "execution_count": 63,
     "metadata": {},
     "output_type": "execute_result"
    }
   ],
   "source": [
    "GAdat"
   ]
  },
  {
   "cell_type": "code",
   "execution_count": 66,
   "id": "62ee0c3f",
   "metadata": {},
   "outputs": [],
   "source": [
    "GDdat = {}\n",
    "start = time()\n",
    "GD = mlrose.NeuralNetwork(hidden_nodes = [15], activation = 'tanh', \\\n",
    "                                 algorithm = 'gradient_descent', max_iters = 10000, \\\n",
    "                                 bias = True, is_classifier = True, learning_rate = 0.0001, \\\n",
    "                                 early_stopping = True, clip_max = 5, max_attempts = 100, \\\n",
    "                                 random_state = 42)\n",
    "GD.fit(X_train_std, y_train)\n",
    "end = time()\n",
    "GDdat[\"time\"] = end - start\n"
   ]
  },
  {
   "cell_type": "code",
   "execution_count": 115,
   "id": "3b7d88d7",
   "metadata": {},
   "outputs": [
    {
     "name": "stdout",
     "output_type": "stream",
     "text": [
      "0.5625441696113075\n",
      "0.508108108108108\n",
      "0.4543325526932084\n"
     ]
    }
   ],
   "source": [
    "predictions_train = GD.predict(X_train_std)\n",
    "predictions_val = GD.predict(X_val_std)\n",
    "predictions_test = GD.predict(X_test_std)\n",
    "print(fbeta_score(y_train,predictions_train,beta=1.))\n",
    "print(fbeta_score(y_val,predictions_val,beta=1.))\n",
    "print(fbeta_score(y_test,predictions_test,beta=1.))\n",
    "GDdat[\"ftrain\"] = fbeta_score(y_train,predictions_train,beta=1.)\n",
    "GDdat[\"fval\"] = fbeta_score(y_val,predictions_val,beta=1.)\n",
    "GDdat[\"ftest\"] = fbeta_score(y_test,predictions_test,beta=1.)"
   ]
  },
  {
   "cell_type": "code",
   "execution_count": 123,
   "id": "0ed636dc",
   "metadata": {},
   "outputs": [
    {
     "data": {
      "image/png": "[encoded data removed]",
      "text/plain": [
       "<Figure size 792x864 with 6 Axes>"
      ]
     },
     "metadata": {
      "needs_background": "light"
     },
     "output_type": "display_data"
    }
   ],
   "source": [
    "fig, ax = pl.subplots(nrows = 3, ncols = 2, figsize = (11,12))\n",
    "ax[0, 0].plot([2,4,6],RHCdat[\"ftrain\"].values(), label = \"Training f-score\")\n",
    "ax[0, 0].plot([2,4,6],RHCdat[\"fval\"].values(), label = \"Validation f-score\")\n",
    "ax[0, 0].plot([2,4,6],RHCdat[\"ftest\"].values(), label = \"Testing f-score\")\n",
    "ax[0, 0].set_xlabel(\"Restarts\")\n",
    "ax[0, 0].set_ylabel(\"RHC F-score\")\n",
    "ax[0, 0].legend()\n",
    "ax[0, 0].set_xticks([2,4,6])\n",
    "\n",
    "ax[0, 1].plot([2,4,6],RHCdat[\"time\"].values())\n",
    "ax[0, 1].set_xlabel(\"Restarts\")\n",
    "ax[0, 1].set_ylabel(\"RHC Time\")\n",
    "ax[0, 1].set_xticks([2,4,6])\n",
    "\n",
    "ax[1, 0].plot([\"Geom\",\"Arith\",\"Exp\"],SAdat[\"ftrain\"].values(), label = \"Training f-score\")\n",
    "ax[1, 0].plot([\"Geom\",\"Arith\",\"Exp\"],SAdat[\"fval\"].values(), label = \"Validation f-score\")\n",
    "ax[1, 0].plot([\"Geom\",\"Arith\",\"Exp\"],SAdat[\"ftest\"].values(), label = \"Testing f-score\")\n",
    "ax[1, 0].set_xlabel(\"Decay Schedule\")\n",
    "ax[1, 0].set_ylabel(\"SA F-score\")\n",
    "ax[1, 0].legend()\n",
    "\n",
    "ax[1, 1].plot([\"Geom\",\"Arith\",\"Exp\"],SAdat[\"time\"].values())\n",
    "ax[1, 1].set_xlabel(\"Decay Schecule\")\n",
    "ax[1, 1].set_ylabel(\"SA Time\")\n",
    "\n",
    "\n",
    "ax[2, 0].plot([100,200,300],GAdat[\"ftrain\"].values(), label = \"Training f-score\")\n",
    "ax[2, 0].plot([100,200,300],GAdat[\"fval\"].values(), label = \"Validation f-score\")\n",
    "ax[2, 0].plot([100,200,300],GAdat[\"ftest\"].values(), label = \"Testing f-score\")\n",
    "ax[2, 0].set_xlabel(\"Population Size\")\n",
    "ax[2, 0].set_ylabel(\"GA F-score\")\n",
    "ax[2, 0].legend()\n",
    "ax[2, 0].set_xticks([100,200,300])\n",
    "\n",
    "ax[2, 1].plot([100,200,300],GAdat[\"time\"].values())\n",
    "ax[2, 1].set_xlabel(\"Population Size\")\n",
    "ax[2, 1].set_ylabel(\"GA Time\")\n",
    "ax[2, 1].set_xticks([100,200,300])\n",
    "\n",
    "\n",
    "pl.suptitle(\"Randomized Optimization for Back Propagation\", fontsize = 16, x = 0.5, y = 1.02)\n",
    "pl.subplots_adjust(left = 0.125, right = 1.2, bottom = 0.1, top = 0.9, wspace = 0.2, hspace = 0.3)    \n",
    "pl.tight_layout()\n",
    "pl.show()"
   ]
  },
  {
   "cell_type": "code",
   "execution_count": 121,
   "id": "283fb774",
   "metadata": {},
   "outputs": [
    {
     "data": {
      "text/plain": [
       "Text(0, 0.5, 'Computational Time')"
      ]
     },
     "execution_count": 121,
     "metadata": {},
     "output_type": "execute_result"
    },
    {
     "data": {
      "image/png": "[encoded data removed]",
      "text/plain": [
       "<Figure size 792x576 with 4 Axes>"
      ]
     },
     "metadata": {
      "needs_background": "light"
     },
     "output_type": "display_data"
    }
   ],
   "source": [
    "fig, ax = pl.subplots(nrows = 2, ncols = 2, figsize = (11,8))\n",
    "ax[0,0].bar('RHC', RHCdat[\"ftrain\"][0], label = 'RHC')\n",
    "ax[0,0].bar('SA', SAdat[\"ftrain\"][0], label = 'SA')\n",
    "ax[0,0].bar('GA', GAdat[\"ftrain\"][0], label = 'GA')\n",
    "ax[0,0].bar('GD', GDdat[\"ftrain\"], label = 'GD')\n",
    "ax[0,0].set_xticks(['RHC','SA','GA','GD'])\n",
    "ax[0,0].set_ylabel(\"Training F-score\")\n",
    "#ax[0].legend()\n",
    "\n",
    "ax[0,1].bar('RHC', RHCdat[\"ftrain\"][0], label = 'RHC')\n",
    "ax[0,1].bar('SA', SAdat[\"ftrain\"][0], label = 'SA')\n",
    "ax[0,1].bar('GA', GAdat[\"ftrain\"][1], label = 'GA')\n",
    "ax[0,1].bar('GD', GDdat[\"ftrain\"], label = 'GD')\n",
    "ax[0,1].set_xticks(['RHC','SA','GA','GD'])\n",
    "ax[0,1].set_ylabel(\"Training F-score\")\n",
    "\n",
    "ax[1,0].bar('RHC', RHCdat[\"ftrain\"][0], label = 'RHC')\n",
    "ax[1,0].bar('SA', SAdat[\"ftrain\"][0], label = 'SA')\n",
    "ax[1,0].bar('GA', GAdat[\"ftrain\"][1], label = 'GA')\n",
    "ax[1,0].bar('GD', GDdat[\"ftrain\"], label = 'GD')\n",
    "ax[1,0].set_xticks(['RHC','SA','GA','GD'])\n",
    "ax[1,0].set_ylabel(\"Training F-score\")\n",
    "\n",
    "ax[1,1].bar('RHC', RHCdat[\"time\"][0], label = 'RHC')\n",
    "ax[1,1].bar('SA', SAdat[\"time\"][0], label = 'SA')\n",
    "ax[1,1].bar('GA', GAdat[\"time\"][1], label = 'GA')\n",
    "ax[1,1].bar('GD', GDdat[\"time\"], label = 'GD')\n",
    "ax[1,1].set_xticks(['RHC','SA','GA','GD'])\n",
    "ax[1,1].set_ylabel(\"Computational Time\")\n"
   ]
  },
  {
   "cell_type": "code",
   "execution_count": 96,
   "id": "c79feee9",
   "metadata": {},
   "outputs": [
    {
     "data": {
      "text/plain": [
       "0.44639912039582186"
      ]
     },
     "execution_count": 96,
     "metadata": {},
     "output_type": "execute_result"
    }
   ],
   "source": [
    "RHCdat[\"ftrain\"][0]\n"
   ]
  },
  {
   "cell_type": "code",
   "execution_count": null,
   "id": "482e3310",
   "metadata": {},
   "outputs": [],
   "source": []
  }
 ],
 "metadata": {
  "kernelspec": {
   "display_name": "Python 3",
   "language": "python",
   "name": "python3"
  },
  "language_info": {
   "codemirror_mode": {
    "name": "ipython",
    "version": 3
   },
   "file_extension": ".py",
   "mimetype": "text/x-python",
   "name": "python",
   "nbconvert_exporter": "python",
   "pygments_lexer": "ipython3",
   "version": "3.6.13"
  }
 },
 "nbformat": 4,
 "nbformat_minor": 5
}
