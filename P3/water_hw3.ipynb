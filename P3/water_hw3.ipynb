{
 "cells": [
  {
   "cell_type": "code",
   "execution_count": 1,
   "id": "92e8b03f",
   "metadata": {},
   "outputs": [],
   "source": [
    "import pandas as pd\n",
    "import numpy as np\n",
    "from time import time\n",
    "from IPython.display import display\n",
    "import seaborn as sns\n",
    "import matplotlib.pyplot as pl\n",
    "import matplotlib.patches as mpatches\n",
    "\n",
    "# Pretty display for notebooks\n",
    "%matplotlib inline"
   ]
  },
  {
   "cell_type": "code",
   "execution_count": 2,
   "id": "03e0b250",
   "metadata": {},
   "outputs": [],
   "source": [
    "data = pd.read_csv(\"..\\Datasets\\water\\water_potability.csv\")"
   ]
  },
  {
   "cell_type": "code",
   "execution_count": 3,
   "id": "42406370",
   "metadata": {},
   "outputs": [
    {
     "data": {
      "text/html": [
       "<div>\n",
       "<style scoped>\n",
       "    .dataframe tbody tr th:only-of-type {\n",
       "        vertical-align: middle;\n",
       "    }\n",
       "\n",
       "    .dataframe tbody tr th {\n",
       "        vertical-align: top;\n",
       "    }\n",
       "\n",
       "    .dataframe thead th {\n",
       "        text-align: right;\n",
       "    }\n",
       "</style>\n",
       "<table border=\"1\" class=\"dataframe\">\n",
       "  <thead>\n",
       "    <tr style=\"text-align: right;\">\n",
       "      <th></th>\n",
       "      <th>ph</th>\n",
       "      <th>Hardness</th>\n",
       "      <th>Solids</th>\n",
       "      <th>Chloramines</th>\n",
       "      <th>Sulfate</th>\n",
       "      <th>Conductivity</th>\n",
       "      <th>Organic_carbon</th>\n",
       "      <th>Trihalomethanes</th>\n",
       "      <th>Turbidity</th>\n",
       "      <th>Potability</th>\n",
       "    </tr>\n",
       "  </thead>\n",
       "  <tbody>\n",
       "    <tr>\n",
       "      <th>0</th>\n",
       "      <td>NaN</td>\n",
       "      <td>204.890455</td>\n",
       "      <td>20791.318981</td>\n",
       "      <td>7.300212</td>\n",
       "      <td>368.516441</td>\n",
       "      <td>564.308654</td>\n",
       "      <td>10.379783</td>\n",
       "      <td>86.990970</td>\n",
       "      <td>2.963135</td>\n",
       "      <td>0</td>\n",
       "    </tr>\n",
       "    <tr>\n",
       "      <th>1</th>\n",
       "      <td>3.716080</td>\n",
       "      <td>129.422921</td>\n",
       "      <td>18630.057858</td>\n",
       "      <td>6.635246</td>\n",
       "      <td>NaN</td>\n",
       "      <td>592.885359</td>\n",
       "      <td>15.180013</td>\n",
       "      <td>56.329076</td>\n",
       "      <td>4.500656</td>\n",
       "      <td>0</td>\n",
       "    </tr>\n",
       "    <tr>\n",
       "      <th>2</th>\n",
       "      <td>8.099124</td>\n",
       "      <td>224.236259</td>\n",
       "      <td>19909.541732</td>\n",
       "      <td>9.275884</td>\n",
       "      <td>NaN</td>\n",
       "      <td>418.606213</td>\n",
       "      <td>16.868637</td>\n",
       "      <td>66.420093</td>\n",
       "      <td>3.055934</td>\n",
       "      <td>0</td>\n",
       "    </tr>\n",
       "    <tr>\n",
       "      <th>3</th>\n",
       "      <td>8.316766</td>\n",
       "      <td>214.373394</td>\n",
       "      <td>22018.417441</td>\n",
       "      <td>8.059332</td>\n",
       "      <td>356.886136</td>\n",
       "      <td>363.266516</td>\n",
       "      <td>18.436524</td>\n",
       "      <td>100.341674</td>\n",
       "      <td>4.628771</td>\n",
       "      <td>0</td>\n",
       "    </tr>\n",
       "    <tr>\n",
       "      <th>4</th>\n",
       "      <td>9.092223</td>\n",
       "      <td>181.101509</td>\n",
       "      <td>17978.986339</td>\n",
       "      <td>6.546600</td>\n",
       "      <td>310.135738</td>\n",
       "      <td>398.410813</td>\n",
       "      <td>11.558279</td>\n",
       "      <td>31.997993</td>\n",
       "      <td>4.075075</td>\n",
       "      <td>0</td>\n",
       "    </tr>\n",
       "    <tr>\n",
       "      <th>5</th>\n",
       "      <td>5.584087</td>\n",
       "      <td>188.313324</td>\n",
       "      <td>28748.687739</td>\n",
       "      <td>7.544869</td>\n",
       "      <td>326.678363</td>\n",
       "      <td>280.467916</td>\n",
       "      <td>8.399735</td>\n",
       "      <td>54.917862</td>\n",
       "      <td>2.559708</td>\n",
       "      <td>0</td>\n",
       "    </tr>\n",
       "    <tr>\n",
       "      <th>6</th>\n",
       "      <td>10.223862</td>\n",
       "      <td>248.071735</td>\n",
       "      <td>28749.716544</td>\n",
       "      <td>7.513408</td>\n",
       "      <td>393.663396</td>\n",
       "      <td>283.651634</td>\n",
       "      <td>13.789695</td>\n",
       "      <td>84.603556</td>\n",
       "      <td>2.672989</td>\n",
       "      <td>0</td>\n",
       "    </tr>\n",
       "    <tr>\n",
       "      <th>7</th>\n",
       "      <td>8.635849</td>\n",
       "      <td>203.361523</td>\n",
       "      <td>13672.091764</td>\n",
       "      <td>4.563009</td>\n",
       "      <td>303.309771</td>\n",
       "      <td>474.607645</td>\n",
       "      <td>12.363817</td>\n",
       "      <td>62.798309</td>\n",
       "      <td>4.401425</td>\n",
       "      <td>0</td>\n",
       "    </tr>\n",
       "    <tr>\n",
       "      <th>8</th>\n",
       "      <td>NaN</td>\n",
       "      <td>118.988579</td>\n",
       "      <td>14285.583854</td>\n",
       "      <td>7.804174</td>\n",
       "      <td>268.646941</td>\n",
       "      <td>389.375566</td>\n",
       "      <td>12.706049</td>\n",
       "      <td>53.928846</td>\n",
       "      <td>3.595017</td>\n",
       "      <td>0</td>\n",
       "    </tr>\n",
       "    <tr>\n",
       "      <th>9</th>\n",
       "      <td>11.180284</td>\n",
       "      <td>227.231469</td>\n",
       "      <td>25484.508491</td>\n",
       "      <td>9.077200</td>\n",
       "      <td>404.041635</td>\n",
       "      <td>563.885481</td>\n",
       "      <td>17.927806</td>\n",
       "      <td>71.976601</td>\n",
       "      <td>4.370562</td>\n",
       "      <td>0</td>\n",
       "    </tr>\n",
       "  </tbody>\n",
       "</table>\n",
       "</div>"
      ],
      "text/plain": [
       "          ph    Hardness        Solids  Chloramines     Sulfate  Conductivity  \\\n",
       "0        NaN  204.890455  20791.318981     7.300212  368.516441    564.308654   \n",
       "1   3.716080  129.422921  18630.057858     6.635246         NaN    592.885359   \n",
       "2   8.099124  224.236259  19909.541732     9.275884         NaN    418.606213   \n",
       "3   8.316766  214.373394  22018.417441     8.059332  356.886136    363.266516   \n",
       "4   9.092223  181.101509  17978.986339     6.546600  310.135738    398.410813   \n",
       "5   5.584087  188.313324  28748.687739     7.544869  326.678363    280.467916   \n",
       "6  10.223862  248.071735  28749.716544     7.513408  393.663396    283.651634   \n",
       "7   8.635849  203.361523  13672.091764     4.563009  303.309771    474.607645   \n",
       "8        NaN  118.988579  14285.583854     7.804174  268.646941    389.375566   \n",
       "9  11.180284  227.231469  25484.508491     9.077200  404.041635    563.885481   \n",
       "\n",
       "   Organic_carbon  Trihalomethanes  Turbidity  Potability  \n",
       "0       10.379783        86.990970   2.963135           0  \n",
       "1       15.180013        56.329076   4.500656           0  \n",
       "2       16.868637        66.420093   3.055934           0  \n",
       "3       18.436524       100.341674   4.628771           0  \n",
       "4       11.558279        31.997993   4.075075           0  \n",
       "5        8.399735        54.917862   2.559708           0  \n",
       "6       13.789695        84.603556   2.672989           0  \n",
       "7       12.363817        62.798309   4.401425           0  \n",
       "8       12.706049        53.928846   3.595017           0  \n",
       "9       17.927806        71.976601   4.370562           0  "
      ]
     },
     "metadata": {},
     "output_type": "display_data"
    }
   ],
   "source": [
    "display(data.head(n=10))"
   ]
  },
  {
   "cell_type": "code",
   "execution_count": 4,
   "id": "d2dade45",
   "metadata": {},
   "outputs": [
    {
     "data": {
      "text/html": [
       "<div>\n",
       "<style scoped>\n",
       "    .dataframe tbody tr th:only-of-type {\n",
       "        vertical-align: middle;\n",
       "    }\n",
       "\n",
       "    .dataframe tbody tr th {\n",
       "        vertical-align: top;\n",
       "    }\n",
       "\n",
       "    .dataframe thead th {\n",
       "        text-align: right;\n",
       "    }\n",
       "</style>\n",
       "<table border=\"1\" class=\"dataframe\">\n",
       "  <thead>\n",
       "    <tr style=\"text-align: right;\">\n",
       "      <th></th>\n",
       "      <th>ph</th>\n",
       "      <th>Hardness</th>\n",
       "      <th>Solids</th>\n",
       "      <th>Chloramines</th>\n",
       "      <th>Sulfate</th>\n",
       "      <th>Conductivity</th>\n",
       "      <th>Organic_carbon</th>\n",
       "      <th>Trihalomethanes</th>\n",
       "      <th>Turbidity</th>\n",
       "      <th>Potability</th>\n",
       "    </tr>\n",
       "  </thead>\n",
       "  <tbody>\n",
       "    <tr>\n",
       "      <th>0</th>\n",
       "      <td>7.080795</td>\n",
       "      <td>204.890455</td>\n",
       "      <td>20791.318981</td>\n",
       "      <td>7.300212</td>\n",
       "      <td>368.516441</td>\n",
       "      <td>564.308654</td>\n",
       "      <td>10.379783</td>\n",
       "      <td>86.990970</td>\n",
       "      <td>2.963135</td>\n",
       "      <td>0</td>\n",
       "    </tr>\n",
       "    <tr>\n",
       "      <th>1</th>\n",
       "      <td>3.716080</td>\n",
       "      <td>129.422921</td>\n",
       "      <td>18630.057858</td>\n",
       "      <td>6.635246</td>\n",
       "      <td>333.775777</td>\n",
       "      <td>592.885359</td>\n",
       "      <td>15.180013</td>\n",
       "      <td>56.329076</td>\n",
       "      <td>4.500656</td>\n",
       "      <td>0</td>\n",
       "    </tr>\n",
       "    <tr>\n",
       "      <th>2</th>\n",
       "      <td>8.099124</td>\n",
       "      <td>224.236259</td>\n",
       "      <td>19909.541732</td>\n",
       "      <td>9.275884</td>\n",
       "      <td>333.775777</td>\n",
       "      <td>418.606213</td>\n",
       "      <td>16.868637</td>\n",
       "      <td>66.420093</td>\n",
       "      <td>3.055934</td>\n",
       "      <td>0</td>\n",
       "    </tr>\n",
       "    <tr>\n",
       "      <th>3</th>\n",
       "      <td>8.316766</td>\n",
       "      <td>214.373394</td>\n",
       "      <td>22018.417441</td>\n",
       "      <td>8.059332</td>\n",
       "      <td>356.886136</td>\n",
       "      <td>363.266516</td>\n",
       "      <td>18.436524</td>\n",
       "      <td>100.341674</td>\n",
       "      <td>4.628771</td>\n",
       "      <td>0</td>\n",
       "    </tr>\n",
       "    <tr>\n",
       "      <th>4</th>\n",
       "      <td>9.092223</td>\n",
       "      <td>181.101509</td>\n",
       "      <td>17978.986339</td>\n",
       "      <td>6.546600</td>\n",
       "      <td>310.135738</td>\n",
       "      <td>398.410813</td>\n",
       "      <td>11.558279</td>\n",
       "      <td>31.997993</td>\n",
       "      <td>4.075075</td>\n",
       "      <td>0</td>\n",
       "    </tr>\n",
       "    <tr>\n",
       "      <th>5</th>\n",
       "      <td>5.584087</td>\n",
       "      <td>188.313324</td>\n",
       "      <td>28748.687739</td>\n",
       "      <td>7.544869</td>\n",
       "      <td>326.678363</td>\n",
       "      <td>280.467916</td>\n",
       "      <td>8.399735</td>\n",
       "      <td>54.917862</td>\n",
       "      <td>2.559708</td>\n",
       "      <td>0</td>\n",
       "    </tr>\n",
       "    <tr>\n",
       "      <th>6</th>\n",
       "      <td>10.223862</td>\n",
       "      <td>248.071735</td>\n",
       "      <td>28749.716544</td>\n",
       "      <td>7.513408</td>\n",
       "      <td>393.663396</td>\n",
       "      <td>283.651634</td>\n",
       "      <td>13.789695</td>\n",
       "      <td>84.603556</td>\n",
       "      <td>2.672989</td>\n",
       "      <td>0</td>\n",
       "    </tr>\n",
       "    <tr>\n",
       "      <th>7</th>\n",
       "      <td>8.635849</td>\n",
       "      <td>203.361523</td>\n",
       "      <td>13672.091764</td>\n",
       "      <td>4.563009</td>\n",
       "      <td>303.309771</td>\n",
       "      <td>474.607645</td>\n",
       "      <td>12.363817</td>\n",
       "      <td>62.798309</td>\n",
       "      <td>4.401425</td>\n",
       "      <td>0</td>\n",
       "    </tr>\n",
       "    <tr>\n",
       "      <th>8</th>\n",
       "      <td>7.080795</td>\n",
       "      <td>118.988579</td>\n",
       "      <td>14285.583854</td>\n",
       "      <td>7.804174</td>\n",
       "      <td>268.646941</td>\n",
       "      <td>389.375566</td>\n",
       "      <td>12.706049</td>\n",
       "      <td>53.928846</td>\n",
       "      <td>3.595017</td>\n",
       "      <td>0</td>\n",
       "    </tr>\n",
       "    <tr>\n",
       "      <th>9</th>\n",
       "      <td>11.180284</td>\n",
       "      <td>227.231469</td>\n",
       "      <td>25484.508491</td>\n",
       "      <td>9.077200</td>\n",
       "      <td>404.041635</td>\n",
       "      <td>563.885481</td>\n",
       "      <td>17.927806</td>\n",
       "      <td>71.976601</td>\n",
       "      <td>4.370562</td>\n",
       "      <td>0</td>\n",
       "    </tr>\n",
       "  </tbody>\n",
       "</table>\n",
       "</div>"
      ],
      "text/plain": [
       "          ph    Hardness        Solids  Chloramines     Sulfate  Conductivity  \\\n",
       "0   7.080795  204.890455  20791.318981     7.300212  368.516441    564.308654   \n",
       "1   3.716080  129.422921  18630.057858     6.635246  333.775777    592.885359   \n",
       "2   8.099124  224.236259  19909.541732     9.275884  333.775777    418.606213   \n",
       "3   8.316766  214.373394  22018.417441     8.059332  356.886136    363.266516   \n",
       "4   9.092223  181.101509  17978.986339     6.546600  310.135738    398.410813   \n",
       "5   5.584087  188.313324  28748.687739     7.544869  326.678363    280.467916   \n",
       "6  10.223862  248.071735  28749.716544     7.513408  393.663396    283.651634   \n",
       "7   8.635849  203.361523  13672.091764     4.563009  303.309771    474.607645   \n",
       "8   7.080795  118.988579  14285.583854     7.804174  268.646941    389.375566   \n",
       "9  11.180284  227.231469  25484.508491     9.077200  404.041635    563.885481   \n",
       "\n",
       "   Organic_carbon  Trihalomethanes  Turbidity  Potability  \n",
       "0       10.379783        86.990970   2.963135           0  \n",
       "1       15.180013        56.329076   4.500656           0  \n",
       "2       16.868637        66.420093   3.055934           0  \n",
       "3       18.436524       100.341674   4.628771           0  \n",
       "4       11.558279        31.997993   4.075075           0  \n",
       "5        8.399735        54.917862   2.559708           0  \n",
       "6       13.789695        84.603556   2.672989           0  \n",
       "7       12.363817        62.798309   4.401425           0  \n",
       "8       12.706049        53.928846   3.595017           0  \n",
       "9       17.927806        71.976601   4.370562           0  "
      ]
     },
     "metadata": {},
     "output_type": "display_data"
    },
    {
     "name": "stdout",
     "output_type": "stream",
     "text": [
      "0\n",
      "ph                 0\n",
      "Hardness           0\n",
      "Solids             0\n",
      "Chloramines        0\n",
      "Sulfate            0\n",
      "Conductivity       0\n",
      "Organic_carbon     0\n",
      "Trihalomethanes    0\n",
      "Turbidity          0\n",
      "Potability         0\n",
      "dtype: int64\n",
      "(3276, 10)\n"
     ]
    }
   ],
   "source": [
    "data = data.fillna(data.mean())\n",
    "#data = data.dropna()\n",
    "display(data.head(n=10))\n",
    "print(data.isna().sum().sum())\n",
    "print(data.isnull().sum())\n",
    "print(data.shape)"
   ]
  },
  {
   "cell_type": "code",
   "execution_count": 5,
   "id": "21b6e02d",
   "metadata": {},
   "outputs": [
    {
     "name": "stdout",
     "output_type": "stream",
     "text": [
      "                ph     Hardness        Solids  Chloramines      Sulfate  \\\n",
      "count  3276.000000  3276.000000   3276.000000  3276.000000  3276.000000   \n",
      "mean      7.080795   196.369496  22014.092526     7.122277   333.775777   \n",
      "std       1.469956    32.879761   8768.570828     1.583085    36.142612   \n",
      "min       0.000000    47.432000    320.942611     0.352000   129.000000   \n",
      "25%       6.277673   176.850538  15666.690297     6.127421   317.094638   \n",
      "50%       7.080795   196.967627  20927.833607     7.130299   333.775777   \n",
      "75%       7.870050   216.667456  27332.762127     8.114887   350.385756   \n",
      "max      14.000000   323.124000  61227.196008    13.127000   481.030642   \n",
      "\n",
      "       Conductivity  Organic_carbon  Trihalomethanes    Turbidity   Potability  \n",
      "count   3276.000000     3276.000000      3276.000000  3276.000000  3276.000000  \n",
      "mean     426.205111       14.284970        66.396293     3.966786     0.390110  \n",
      "std       80.824064        3.308162        15.769881     0.780382     0.487849  \n",
      "min      181.483754        2.200000         0.738000     1.450000     0.000000  \n",
      "25%      365.734414       12.065801        56.647656     3.439711     0.000000  \n",
      "50%      421.884968       14.218338        66.396293     3.955028     0.000000  \n",
      "75%      481.792304       16.557652        76.666609     4.500320     1.000000  \n",
      "max      753.342620       28.300000       124.000000     6.739000     1.000000  \n",
      "[0 1]\n"
     ]
    }
   ],
   "source": [
    "print(data.describe())\n",
    "print(data[\"Potability\"].unique())"
   ]
  },
  {
   "cell_type": "code",
   "execution_count": 6,
   "id": "ea1c7927",
   "metadata": {},
   "outputs": [],
   "source": [
    "output = data[['Potability']]\n",
    "features = data.drop(columns='Potability')\n"
   ]
  },
  {
   "cell_type": "code",
   "execution_count": 7,
   "id": "73772e02",
   "metadata": {},
   "outputs": [
    {
     "name": "stdout",
     "output_type": "stream",
     "text": [
      "Training set has 2620 samples.\n",
      "Testing set has 656 samples.\n"
     ]
    }
   ],
   "source": [
    "# Import train_test_split\n",
    "# Split into training, validation and testing.\n",
    "from sklearn.model_selection import train_test_split\n",
    "# Split the 'features' and 'income' data into training and testing sets\n",
    "X_train, X_test, y_train, y_test = train_test_split(features, output, \n",
    "                                                    test_size = 0.2, \n",
    "                                                    random_state = 0)\n",
    "\n",
    "print(\"Training set has {} samples.\".format(X_train.shape[0]))\n",
    "print(\"Testing set has {} samples.\".format(X_test.shape[0]))"
   ]
  },
  {
   "cell_type": "code",
   "execution_count": 8,
   "id": "9c63e68d",
   "metadata": {},
   "outputs": [
    {
     "name": "stdout",
     "output_type": "stream",
     "text": [
      "Training set has 2096 samples.\n",
      "Validation set has 524 samples.\n",
      "Testing set has 656 samples.\n"
     ]
    }
   ],
   "source": [
    "X_train, X_val, y_train, y_val = train_test_split(X_train, y_train, \n",
    "                                                    test_size = 0.2, \n",
    "                                                    random_state = 0)\n",
    "\n",
    "# Show the results of the split\n",
    "print(\"Training set has {} samples.\".format(X_train.shape[0]))\n",
    "print(\"Validation set has {} samples.\".format(X_val.shape[0]))\n",
    "print(\"Testing set has {} samples.\".format(X_test.shape[0]))"
   ]
  },
  {
   "cell_type": "code",
   "execution_count": 9,
   "id": "e7d42ed3",
   "metadata": {},
   "outputs": [],
   "source": [
    "from sklearn.preprocessing import StandardScaler\n",
    "\n",
    "scaler = StandardScaler() # default=(0, 1)\n",
    "# Do scaling on training. Apply the same transformation to validation and testing.\n",
    "X_train_np = scaler.fit_transform(X_train)\n",
    "X_train_std = pd.DataFrame(data=X_train_np,columns=X_train.columns)\n",
    "X_val_np = scaler.transform(X_val)\n",
    "X_val_std = pd.DataFrame(data=X_val_np,columns=X_train.columns)\n",
    "X_test_np = scaler.transform(X_test)\n",
    "X_test_std = pd.DataFrame(data=X_test_np,columns=X_train.columns)\n"
   ]
  },
  {
   "cell_type": "code",
   "execution_count": 10,
   "id": "b0fef222",
   "metadata": {},
   "outputs": [
    {
     "name": "stdout",
     "output_type": "stream",
     "text": [
      "[17325.808292750462, 16190.118303076428, 15408.264754345604, 14730.995586953133, 14194.952793326376, 13733.653497565585, 13344.248413460815, 12934.259637887664, 12615.633617975749, 12364.930567425889, 12123.427387569387, 11902.372616346014, 11694.932263251747, 11508.978933547802, 11329.280878969086, 11136.191250562008, 10975.099836121904, 10854.514582294858, 10734.149900328062, 10496.480027956077, 10437.603353037295, 10372.515001620866, 10266.850718985208, 10163.673856210407, 10029.519455422373, 9974.592547478785, 9845.349975853014, 9747.53826448545]\n"
     ]
    }
   ],
   "source": [
    "from sklearn.cluster import KMeans\n",
    "Sum_of_squared_distances = []\n",
    "K = range(2,30)\n",
    "tim = {}\n",
    "for k in K:\n",
    "    km = KMeans(n_clusters=k,random_state=1)\n",
    "    start = time()\n",
    "    km = km.fit(X_train_std)\n",
    "    end = time()\n",
    "    tim[k] = end -start\n",
    "    Sum_of_squared_distances.append(km.inertia_)\n",
    "print(Sum_of_squared_distances)"
   ]
  },
  {
   "cell_type": "code",
   "execution_count": 11,
   "id": "7c2718c8",
   "metadata": {},
   "outputs": [
    {
     "data": {
      "image/png": "[encoded data removed]",
      "text/plain": [
       "<Figure size 396x288 with 2 Axes>"
      ]
     },
     "metadata": {
      "needs_background": "light"
     },
     "output_type": "display_data"
    }
   ],
   "source": [
    "fig, ax1 = pl.subplots(nrows = 1, ncols = 1, figsize = (5.5,4))\n",
    "ax1.plot(K, Sum_of_squared_distances, 'bx-')\n",
    "ax1.set_xlabel('k')\n",
    "ax1.set_ylabel('Elbow Score')\n",
    "ax1.set_title('Elbow Method For Water Dataset For K-means')\n",
    "ax2 = ax1.twinx()\n",
    "ax2.plot(K,tim.values(),'red')\n",
    "ax2.set_ylabel('Time (s)')\n",
    "\n",
    "#ax1 = visualizer.show() \n",
    "\n",
    "\n",
    "pl.subplots_adjust(left = 0.125, right = 1.2, bottom = 0.1, top = 0.9, wspace = 0.2, hspace = 0.3)    \n",
    "pl.tight_layout()\n",
    "pl.show()"
   ]
  },
  {
   "cell_type": "code",
   "execution_count": 12,
   "id": "5094226e",
   "metadata": {},
   "outputs": [],
   "source": [
    "#pip install yellowbrick"
   ]
  },
  {
   "cell_type": "code",
   "execution_count": 13,
   "id": "b9456dd2",
   "metadata": {},
   "outputs": [
    {
     "data": {
      "image/png": "[encoded data removed]",
      "text/plain": [
       "<Figure size 576x396 with 1 Axes>"
      ]
     },
     "metadata": {},
     "output_type": "display_data"
    },
    {
     "data": {
      "text/plain": [
       "<matplotlib.axes._subplots.AxesSubplot at 0x2426f8c4550>"
      ]
     },
     "execution_count": 13,
     "metadata": {},
     "output_type": "execute_result"
    }
   ],
   "source": [
    "from sklearn.mixture import GaussianMixture\n",
    "from yellowbrick.cluster import KElbowVisualizer\n",
    "model = KMeans(random_state=1)\n",
    "visualizer = KElbowVisualizer(model, k=(2,30), timings= False)\n",
    "visualizer.fit(X_train_std) \n",
    "visualizer.show()\n",
    "\n"
   ]
  },
  {
   "cell_type": "code",
   "execution_count": 14,
   "id": "4968d28a",
   "metadata": {},
   "outputs": [
    {
     "data": {
      "image/png": "[encoded data removed]",
      "text/plain": [
       "<Figure size 576x396 with 1 Axes>"
      ]
     },
     "metadata": {},
     "output_type": "display_data"
    },
    {
     "data": {
      "text/plain": [
       "<matplotlib.axes._subplots.AxesSubplot at 0x2426f9d9438>"
      ]
     },
     "execution_count": 14,
     "metadata": {},
     "output_type": "execute_result"
    }
   ],
   "source": [
    "model = KMeans(random_state=1)\n",
    "# k is range of number of clusters.\n",
    "visualizer = KElbowVisualizer(model, k=(2,30),metric='silhouette', timings= False)\n",
    "visualizer.fit(X_train_std)        # Fit the data to the visualizer\n",
    "\n",
    "visualizer.show() "
   ]
  },
  {
   "cell_type": "code",
   "execution_count": 15,
   "id": "84434849",
   "metadata": {},
   "outputs": [
    {
     "name": "stdout",
     "output_type": "stream",
     "text": [
      "[0.08399034948811691, -0.019425119035929497, -0.021426851590639336, -0.019599522689114898, -0.04056557748526197, -0.025326321404871184, -0.04054090661113663, -0.02388448281696212, -0.034542327056765944, -0.04865719426293819, -0.048096413352901, -0.04925379679538041, -0.04071107205047386, -0.04982507201172831, -0.05056987962783622, -0.04817783613117592, -0.046652196795665214, -0.05041740837451773, -0.05250391359610826, -0.05266081464943325, -0.048115226573246433, -0.04708869624643674, -0.0583893951255049, -0.048723217276420254, -0.0635834966956149, -0.05117045898979031, -0.05059081478270678, -0.05674642786632828]\n"
     ]
    }
   ],
   "source": [
    "from sklearn.metrics import silhouette_score\n",
    "score_list = []\n",
    "K = range(2,30)\n",
    "timGM = {}\n",
    "for k in K:\n",
    "    GM = GaussianMixture(n_components=k,random_state=1)\n",
    "    start = time()\n",
    "    GM = GM.fit(X_train_std)\n",
    "    end = time()\n",
    "    timGM[k] = end - start\n",
    "    pred = GM.predict(X_train_std)\n",
    "    score = silhouette_score(X_train_std, pred)\n",
    "    score_list.append(score)\n",
    "print(score_list)"
   ]
  },
  {
   "cell_type": "code",
   "execution_count": 16,
   "id": "1c472eb8",
   "metadata": {},
   "outputs": [
    {
     "data": {
      "image/png": "[encoded data removed]",
      "text/plain": [
       "<Figure size 396x288 with 2 Axes>"
      ]
     },
     "metadata": {},
     "output_type": "display_data"
    }
   ],
   "source": [
    "fig, ax1 = pl.subplots(nrows = 1, ncols = 1, figsize = (5.5,4))\n",
    "ax1.plot(K, score_list, 'bx-')\n",
    "ax1.set_xlabel('k')\n",
    "ax1.set_ylabel('Silhouette Score')\n",
    "ax1.set_title('Silhouette Method For Water Dataset for Gaussian Mixture')\n",
    "ax2 = ax1.twinx()\n",
    "ax2.plot(K,timGM.values(),'red')\n",
    "ax2.set_ylabel('Time (s)')\n",
    "\n",
    "#ax1 = visualizer.show() \n",
    "\n",
    "\n",
    "pl.subplots_adjust(left = 0.125, right = 1.2, bottom = 0.1, top = 0.9, wspace = 0.2, hspace = 0.3)    \n",
    "pl.tight_layout()\n",
    "pl.show()"
   ]
  },
  {
   "cell_type": "code",
   "execution_count": 17,
   "id": "6d82b8c0",
   "metadata": {},
   "outputs": [
    {
     "name": "stdout",
     "output_type": "stream",
     "text": [
      "[1.18640619 1.17470567 1.07471076 1.02476892 0.99086524 0.95757957\n",
      " 0.93222188 0.88293079 0.7801069 ]\n",
      "[0.13176002 0.13046058 0.11935534 0.11380889 0.11004361 0.10634697\n",
      " 0.10353079 0.09805662 0.08663719]\n",
      "[49.85499947 49.60855155 47.45017438 46.33455387 45.56163612 44.78983377\n",
      " 44.19281442 43.00860394 40.42677275]\n"
     ]
    }
   ],
   "source": [
    "from sklearn.decomposition import PCA\n",
    "pca = PCA()\n",
    "pca = pca.fit(X_train_std)\n",
    "print(pca.explained_variance_)\n",
    "print(pca.explained_variance_ratio_)\n",
    "print(pca.singular_values_)"
   ]
  },
  {
   "cell_type": "markdown",
   "id": "45c30bc4",
   "metadata": {},
   "source": [
    "# Dimensionality Reduction"
   ]
  },
  {
   "cell_type": "code",
   "execution_count": 18,
   "id": "3bea9fe0",
   "metadata": {},
   "outputs": [
    {
     "data": {
      "image/png": "[encoded data removed]",
      "text/plain": [
       "<Figure size 216x216 with 1 Axes>"
      ]
     },
     "metadata": {},
     "output_type": "display_data"
    }
   ],
   "source": [
    "pca = PCA(n_components=2)\n",
    "X_transformed = pca.fit_transform(X_train_std)\n",
    "\n",
    "fig, ax1 = pl.subplots(nrows = 1, ncols = 1, figsize = (3,3))\n",
    "ax1.scatter(X_transformed[:,0],X_transformed[:,1],marker = '.')\n",
    "ax1.set_xlabel('PC1')\n",
    "ax1.set_ylabel('PC2')\n",
    "ax1.set_title('Water-PCA')\n",
    "\n",
    "\n",
    "pl.subplots_adjust(left = 0.125, right = 1.2, bottom = 0.1, top = 0.9, wspace = 0.2, hspace = 0.3)    \n",
    "pl.tight_layout()\n",
    "pl.show()"
   ]
  },
  {
   "cell_type": "code",
   "execution_count": 19,
   "id": "31048a1b",
   "metadata": {},
   "outputs": [
    {
     "name": "stderr",
     "output_type": "stream",
     "text": [
      "C:\\Users\\segor\\miniconda3\\envs\\ml4t\\lib\\site-packages\\sklearn\\decomposition\\_fastica.py:120: ConvergenceWarning: FastICA did not converge. Consider increasing tolerance or the maximum number of iterations.\n",
      "  ConvergenceWarning)\n",
      "C:\\Users\\segor\\miniconda3\\envs\\ml4t\\lib\\site-packages\\sklearn\\decomposition\\_fastica.py:120: ConvergenceWarning: FastICA did not converge. Consider increasing tolerance or the maximum number of iterations.\n",
      "  ConvergenceWarning)\n",
      "C:\\Users\\segor\\miniconda3\\envs\\ml4t\\lib\\site-packages\\sklearn\\decomposition\\_fastica.py:120: ConvergenceWarning: FastICA did not converge. Consider increasing tolerance or the maximum number of iterations.\n",
      "  ConvergenceWarning)\n"
     ]
    },
    {
     "data": {
      "image/png": "[encoded data removed]",
      "text/plain": [
       "<Figure size 216x216 with 1 Axes>"
      ]
     },
     "metadata": {},
     "output_type": "display_data"
    }
   ],
   "source": [
    "from sklearn.decomposition import FastICA\n",
    "from scipy.stats import kurtosis\n",
    "shape = X_train_std.shape[1]\n",
    "values = []\n",
    "K = range(1,shape+1)\n",
    "for i in K:\n",
    "    ica = FastICA(random_state=1, n_components=i)\n",
    "    x_transformed = ica.fit_transform(X_train_std)\n",
    "    kurt = (abs(kurtosis(x_transformed))).mean()\n",
    "    values.append(kurt)\n",
    "    \n",
    "fig, ax1 = pl.subplots(nrows = 1, ncols = 1, figsize = (3,3))\n",
    "ax1.plot(K ,values, 'bx-')\n",
    "ax1.set_xlabel('No of Components')\n",
    "ax1.set_ylabel('Mean of Abs(Kurtosis)')\n",
    "ax1.set_xlim(1,5)\n",
    "ax1.set_xticks(K)\n",
    "ax1.set_title('Water-ICA')\n",
    "\n",
    "pl.subplots_adjust(left = 0.125, right = 1.2, bottom = 0.1, top = 0.9, wspace = 0.2, hspace = 0.3)    \n",
    "pl.tight_layout()\n",
    "pl.show()"
   ]
  },
  {
   "cell_type": "code",
   "execution_count": 20,
   "id": "7a82f26f",
   "metadata": {},
   "outputs": [
    {
     "data": {
      "image/png": "[encoded data removed]",
      "text/plain": [
       "<Figure size 216x216 with 1 Axes>"
      ]
     },
     "metadata": {},
     "output_type": "display_data"
    }
   ],
   "source": [
    "from sklearn.random_projection import GaussianRandomProjection\n",
    "from scipy.linalg import pinv\n",
    "size = X_train_std.shape[1]\n",
    "A=X_train_std\n",
    "val = []\n",
    "K = range(1,size+1)\n",
    "for i in K:\n",
    "    RP = GaussianRandomProjection(random_state=1,n_components=i)\n",
    "    X = RP.fit_transform(X_train_std)\n",
    "    W = RP.components_\n",
    "\n",
    "    #numpy pinv\n",
    "    W_pinv=pinv(W).transpose()\n",
    "    B = np.dot(X, W_pinv)\n",
    "\n",
    "    #calc. dist. from original points\n",
    "    dist = np.linalg.norm(A-B)\n",
    "    val.append(dist)\n",
    "    \n",
    "fig, ax1 = pl.subplots(nrows = 1, ncols = 1, figsize = (3,3))\n",
    "ax1.plot(K ,val, 'bx-')\n",
    "ax1.set_xlabel('No of Components')\n",
    "ax1.set_ylabel('Reconstruction Error')\n",
    "#ax1.set_xlim(1,5)\n",
    "ax1.set_xticks(K)\n",
    "ax1.set_title('Water-RCA')\n",
    "\n",
    "pl.subplots_adjust(left = 0.125, right = 1.2, bottom = 0.1, top = 0.9, wspace = 0.2, hspace = 0.3)    \n",
    "pl.tight_layout()\n",
    "pl.show()"
   ]
  },
  {
   "cell_type": "code",
   "execution_count": 21,
   "id": "12f2ba39",
   "metadata": {},
   "outputs": [
    {
     "data": {
      "image/png": "[encoded data removed]",
      "text/plain": [
       "<Figure size 216x216 with 1 Axes>"
      ]
     },
     "metadata": {},
     "output_type": "display_data"
    }
   ],
   "source": [
    "from sklearn.cluster import FeatureAgglomeration\n",
    "from scipy.linalg import pinv\n",
    "size = X_train_std.shape[1]\n",
    "A=X_train_std\n",
    "val = []\n",
    "K = range(1,size+1)\n",
    "for i in K:\n",
    "    RP = FeatureAgglomeration(n_clusters=i)\n",
    "    X = RP.fit_transform(X_train_std)\n",
    "    Xinv = RP.inverse_transform(X)\n",
    "\n",
    "    #calc. dist. from original points\n",
    "    dist = np.linalg.norm(A-Xinv)\n",
    "    val.append(dist)\n",
    "    \n",
    "fig, ax1 = pl.subplots(nrows = 1, ncols = 1, figsize = (3,3))\n",
    "ax1.plot(K ,val, 'bx-')\n",
    "ax1.set_xlabel('No of Clusters')\n",
    "ax1.set_ylabel('Reconstruction Error')\n",
    "#ax1.set_xlim(1,5)\n",
    "ax1.set_xticks(K)\n",
    "ax1.set_title('Water-FA')\n",
    "\n",
    "pl.subplots_adjust(left = 0.125, right = 1.2, bottom = 0.1, top = 0.9, wspace = 0.2, hspace = 0.3)    \n",
    "pl.tight_layout()\n",
    "pl.show()"
   ]
  },
  {
   "cell_type": "markdown",
   "id": "8a031223",
   "metadata": {},
   "source": [
    "## Dimensionality Reduction + Clustering"
   ]
  },
  {
   "cell_type": "markdown",
   "id": "23c167d5",
   "metadata": {},
   "source": [
    "PCA+Kmeans"
   ]
  },
  {
   "cell_type": "code",
   "execution_count": 35,
   "id": "01a63010",
   "metadata": {},
   "outputs": [
    {
     "name": "stdout",
     "output_type": "stream",
     "text": [
      "elb 1 2 1058.3176866313881\n",
      "sil 1 2 0.07283467516081989\n",
      "elb 1 3 578.9075288235558\n",
      "elb 1 4 366.1128492353721\n",
      "elb 1 5 252.78357002727725\n",
      "elb 1 6 182.35111905728235\n",
      "elb 1 7 134.32122240514863\n",
      "elb 1 8 107.52473618318763\n",
      "elb 1 9 89.0292237492249\n",
      "elb 1 10 72.76254189897749\n",
      "elb 1 11 61.02737211802444\n",
      "elb 1 12 50.9264098256349\n",
      "elb 1 13 43.80838357952468\n",
      "elb 1 14 38.51733465283759\n",
      "elb 1 15 33.38863322294495\n",
      "elb 1 16 29.666562662959098\n",
      "elb 1 17 25.817504706348537\n",
      "elb 1 18 22.71865649321827\n",
      "elb 1 19 20.142457297652996\n",
      "elb 1 20 17.964385312730563\n",
      "elb 1 21 16.279107518750173\n",
      "elb 1 22 14.855630218620613\n",
      "elb 1 23 13.788498665520295\n",
      "elb 1 24 12.607952978264652\n",
      "elb 1 25 11.344870271072722\n",
      "elb 1 26 10.45481278361671\n",
      "elb 1 27 9.611416340961451\n",
      "elb 1 28 8.848298921979717\n",
      "elb 1 29 8.03186839842514\n",
      "sil 2 2 0.07791875752635288\n",
      "sil 3 2 0.08179009229496663\n",
      "sil 4 2 0.08248696908753024\n",
      "sil 9 21 0.08368695331606403\n"
     ]
    }
   ],
   "source": [
    "n_feat = X_train_std.shape[1]\n",
    "K1 = range(1,n_feat+1)\n",
    "elbow = 100000\n",
    "silhouette = -10000\n",
    "for i in K1:\n",
    "    pca = PCA(n_components=i,random_state=1)\n",
    "    X_transformed = pca.fit_transform(X_train_std)\n",
    "    K2 = range(2,30)\n",
    "    for k in K2:\n",
    "        km = KMeans(n_clusters=k,random_state=1)\n",
    "        km = km.fit(X_transformed)\n",
    "        pred = km.predict(X_transformed)\n",
    "        score = silhouette_score(X_train_std, pred)\n",
    "        candidate = km.inertia_\n",
    "        if candidate < elbow:\n",
    "            elbow = candidate\n",
    "            print('elb',i,k,elbow)\n",
    "        if score > silhouette:\n",
    "            silhouette = score\n",
    "            print('sil',i,k,silhouette)"
   ]
  },
  {
   "cell_type": "markdown",
   "id": "ee9a4316",
   "metadata": {},
   "source": [
    "PCA+GM"
   ]
  },
  {
   "cell_type": "code",
   "execution_count": 36,
   "id": "760d22da",
   "metadata": {},
   "outputs": [
    {
     "name": "stdout",
     "output_type": "stream",
     "text": [
      "sil 1 2 0.08668739495290817\n",
      "sil 2 2 0.10672086403148208\n"
     ]
    }
   ],
   "source": [
    "n_feat = X_train_std.shape[1]\n",
    "K1 = range(1,n_feat+1)\n",
    "elbow = 100000\n",
    "silhouette = -10000\n",
    "for i in K1:\n",
    "    pca = PCA(n_components=i,random_state=1)\n",
    "    X_transformed = pca.fit_transform(X_train_std)\n",
    "    K2 = range(2,30)\n",
    "    for k in K2:\n",
    "        GM = GaussianMixture(n_components=k,random_state=1)\n",
    "        GM = GM.fit(X_transformed)\n",
    "        pred = GM.predict(X_transformed)\n",
    "        score = silhouette_score(X_train_std, pred)\n",
    "        if score > silhouette:\n",
    "            silhouette = score\n",
    "            print('sil',i,k,silhouette)"
   ]
  },
  {
   "cell_type": "markdown",
   "id": "b513643c",
   "metadata": {},
   "source": [
    "ICA+Kmeans"
   ]
  },
  {
   "cell_type": "code",
   "execution_count": 29,
   "id": "58db509a",
   "metadata": {},
   "outputs": [
    {
     "name": "stdout",
     "output_type": "stream",
     "text": [
      "elb 1 2 0.4257931026509657\n",
      "sil 1 2 0.07283467516081989\n",
      "elb 1 3 0.23291194691300524\n",
      "elb 1 4 0.14729823375862244\n",
      "elb 1 5 0.1017024490289851\n",
      "elb 1 6 0.07336535119470144\n",
      "elb 1 7 0.05404147616752344\n",
      "elb 1 8 0.04326044212385141\n",
      "elb 1 9 0.03581914002349352\n",
      "elb 1 10 0.029274563643126195\n",
      "elb 1 11 0.024553151146399797\n",
      "elb 1 12 0.020489229576755613\n",
      "elb 1 13 0.017625433083162945\n",
      "elb 1 14 0.015496684629621562\n",
      "elb 1 15 0.013433253467136304\n",
      "elb 1 16 0.011935752298969331\n",
      "elb 1 17 0.010387160273785508\n",
      "elb 1 18 0.009140400239458654\n",
      "elb 1 19 0.008103917657353887\n",
      "sil 2 2 0.07795742114720121\n",
      "sil 3 2 0.07896449012420385\n"
     ]
    },
    {
     "name": "stderr",
     "output_type": "stream",
     "text": [
      "C:\\Users\\segor\\miniconda3\\envs\\ml4t\\lib\\site-packages\\sklearn\\decomposition\\_fastica.py:120: ConvergenceWarning: FastICA did not converge. Consider increasing tolerance or the maximum number of iterations.\n",
      "  ConvergenceWarning)\n",
      "C:\\Users\\segor\\miniconda3\\envs\\ml4t\\lib\\site-packages\\sklearn\\decomposition\\_fastica.py:120: ConvergenceWarning: FastICA did not converge. Consider increasing tolerance or the maximum number of iterations.\n",
      "  ConvergenceWarning)\n"
     ]
    },
    {
     "name": "stdout",
     "output_type": "stream",
     "text": [
      "sil 6 2 0.07997574537261243\n",
      "sil 8 2 0.08121117864778278\n"
     ]
    },
    {
     "name": "stderr",
     "output_type": "stream",
     "text": [
      "C:\\Users\\segor\\miniconda3\\envs\\ml4t\\lib\\site-packages\\sklearn\\decomposition\\_fastica.py:120: ConvergenceWarning: FastICA did not converge. Consider increasing tolerance or the maximum number of iterations.\n",
      "  ConvergenceWarning)\n"
     ]
    }
   ],
   "source": [
    "n_feat = X_train_std.shape[1]\n",
    "K1 = range(1,n_feat+1)\n",
    "elbow = 100000\n",
    "silhouette = -100000\n",
    "for i in K1:\n",
    "    ica = FastICA(random_state = 1, n_components=i)\n",
    "    X_transformed = ica.fit_transform(X_train_std)\n",
    "    K2 = range(2,20)\n",
    "    for k in K2:\n",
    "        km = KMeans(n_clusters=k,random_state=1)\n",
    "        km = km.fit(X_transformed)\n",
    "        pred = km.predict(X_transformed)\n",
    "        score = silhouette_score(X_train_std, pred)\n",
    "        candidate = km.inertia_\n",
    "        if candidate < elbow:\n",
    "            elbow = candidate\n",
    "            print('elb',i,k,elbow)\n",
    "        if score > silhouette:\n",
    "            silhouette = score\n",
    "            print('sil',i,k,silhouette)"
   ]
  },
  {
   "cell_type": "markdown",
   "id": "5784fa80",
   "metadata": {},
   "source": [
    "ICA+GM"
   ]
  },
  {
   "cell_type": "code",
   "execution_count": 39,
   "id": "ba1eda24",
   "metadata": {},
   "outputs": [
    {
     "name": "stdout",
     "output_type": "stream",
     "text": [
      "sil 1 2 0.08691934235035663\n",
      "sil 2 2 0.10144532143112847\n"
     ]
    },
    {
     "name": "stderr",
     "output_type": "stream",
     "text": [
      "C:\\Users\\segor\\miniconda3\\envs\\ml4t\\lib\\site-packages\\sklearn\\decomposition\\_fastica.py:120: ConvergenceWarning: FastICA did not converge. Consider increasing tolerance or the maximum number of iterations.\n",
      "  ConvergenceWarning)\n",
      "C:\\Users\\segor\\miniconda3\\envs\\ml4t\\lib\\site-packages\\sklearn\\decomposition\\_fastica.py:120: ConvergenceWarning: FastICA did not converge. Consider increasing tolerance or the maximum number of iterations.\n",
      "  ConvergenceWarning)\n",
      "C:\\Users\\segor\\miniconda3\\envs\\ml4t\\lib\\site-packages\\sklearn\\decomposition\\_fastica.py:120: ConvergenceWarning: FastICA did not converge. Consider increasing tolerance or the maximum number of iterations.\n",
      "  ConvergenceWarning)\n"
     ]
    }
   ],
   "source": [
    "n_feat = X_train_std.shape[1]\n",
    "K1 = range(1,n_feat+1)\n",
    "elbow = 100000\n",
    "silhouette = -10000\n",
    "for i in K1:\n",
    "    ica = FastICA(random_state = 1, n_components=i)\n",
    "    X_transformed = ica.fit_transform(X_train_std)\n",
    "    K2 = range(2,30)\n",
    "    for k in K2:\n",
    "        GM = GaussianMixture(n_components=k,random_state=1)\n",
    "        pred = GM.fit_predict(X_transformed)\n",
    "        score = silhouette_score(X_train_std, pred)\n",
    "        if score > silhouette:\n",
    "            silhouette = score\n",
    "            print('sil',i,k,silhouette)\n",
    "            "
   ]
  },
  {
   "cell_type": "markdown",
   "id": "750d1a4f",
   "metadata": {},
   "source": [
    "RP+Kmeans"
   ]
  },
  {
   "cell_type": "code",
   "execution_count": 30,
   "id": "c3680049",
   "metadata": {},
   "outputs": [
    {
     "name": "stdout",
     "output_type": "stream",
     "text": [
      "elb 1 2 11114.22506631486\n",
      "sil 1 2 0.07043872782425038\n",
      "elb 1 3 5890.321703394254\n",
      "elb 1 4 3659.5185324776403\n",
      "elb 1 5 2558.3722861917595\n",
      "elb 1 6 1858.0944751977854\n",
      "elb 1 7 1447.8690925748294\n",
      "elb 1 8 1125.2489532471452\n",
      "elb 1 9 921.225797057798\n",
      "elb 1 10 741.853239220702\n",
      "elb 1 11 613.2429461284199\n",
      "elb 1 12 518.8861849855169\n",
      "elb 1 13 438.4058799086563\n",
      "elb 1 14 374.7646453527094\n",
      "elb 1 15 329.17686405239346\n",
      "elb 1 16 294.7730043329557\n",
      "elb 1 17 261.66556749138306\n",
      "elb 1 18 232.77318155725328\n",
      "elb 1 19 210.87857342967663\n",
      "sil 5 2 0.07344606825035131\n",
      "sil 6 2 0.07405838777572013\n",
      "sil 7 2 0.07407688532337042\n"
     ]
    }
   ],
   "source": [
    "n_feat = X_train_std.shape[1]\n",
    "K1 = range(1,n_feat+1)\n",
    "elbow = 100000\n",
    "silhouette = -100000\n",
    "for i in K1:\n",
    "    RP = GaussianRandomProjection(random_state=1,n_components=i)\n",
    "    X_transformed = RP.fit_transform(X_train_std)\n",
    "    K2 = range(2,20)\n",
    "    for k in K2:\n",
    "        km = KMeans(n_clusters=k,random_state=1)\n",
    "        km = km.fit(X_transformed)\n",
    "        pred = km.predict(X_transformed)\n",
    "        score = silhouette_score(X_train_std, pred)\n",
    "        candidate = km.inertia_\n",
    "        if candidate < elbow:\n",
    "            elbow = candidate\n",
    "            print('elb',i,k,elbow)\n",
    "        if score > silhouette:\n",
    "            silhouette = score\n",
    "            print('sil',i,k,silhouette)"
   ]
  },
  {
   "cell_type": "markdown",
   "id": "613c031d",
   "metadata": {},
   "source": [
    "RP+GM"
   ]
  },
  {
   "cell_type": "code",
   "execution_count": 40,
   "id": "0ce0a4ec",
   "metadata": {},
   "outputs": [
    {
     "name": "stdout",
     "output_type": "stream",
     "text": [
      "sil 1 2 0.070592653371659\n",
      "sil 3 2 0.07073259551491111\n",
      "sil 4 2 0.07125409387409434\n",
      "sil 5 2 0.07367897418477312\n",
      "sil 6 2 0.08176232391777352\n",
      "sil 8 2 0.09349291289914649\n"
     ]
    }
   ],
   "source": [
    "n_feat = X_train_std.shape[1]\n",
    "K1 = range(1,n_feat+1)\n",
    "elbow = 100000\n",
    "silhouette = -10000\n",
    "for i in K1:\n",
    "    RP = GaussianRandomProjection(random_state=1,n_components=i)\n",
    "    X_transformed = RP.fit_transform(X_train_std)\n",
    "    K2 = range(2,30)\n",
    "    for k in K2:\n",
    "        GM = GaussianMixture(n_components=k,random_state=1)\n",
    "        pred = GM.fit_predict(X_transformed)\n",
    "        score = silhouette_score(X_train_std, pred)\n",
    "        if score > silhouette:\n",
    "            silhouette = score\n",
    "            print('sil',i,k,silhouette)"
   ]
  },
  {
   "cell_type": "markdown",
   "id": "49f7ba1f",
   "metadata": {},
   "source": [
    "FA+KMeans"
   ]
  },
  {
   "cell_type": "code",
   "execution_count": 41,
   "id": "6c12df21",
   "metadata": {},
   "outputs": [
    {
     "name": "stdout",
     "output_type": "stream",
     "text": [
      "elb 1 2 76.58359522068498\n",
      "sil 1 2 0.0648013160123746\n",
      "elb 1 3 38.86276335335414\n",
      "elb 1 4 24.165933412892997\n",
      "elb 1 5 16.329879984184412\n",
      "elb 1 6 12.195404365828336\n",
      "elb 1 7 9.016233167294903\n",
      "elb 1 8 7.135132101108915\n",
      "elb 1 9 5.872908450185349\n",
      "elb 1 10 4.852177540007067\n",
      "elb 1 11 4.063274716392678\n",
      "elb 1 12 3.4793304667762013\n",
      "elb 1 13 2.944186212450218\n",
      "elb 1 14 2.552832248743855\n",
      "elb 1 15 2.2261819769310414\n",
      "elb 1 16 1.974051305899352\n",
      "elb 1 17 1.751973969464909\n",
      "elb 1 18 1.585455179739142\n",
      "elb 1 19 1.382145538087142\n",
      "sil 2 2 0.07194312507732564\n",
      "sil 3 2 0.07498348633504281\n",
      "sil 4 2 0.07655657502899414\n",
      "sil 6 2 0.08039478606235534\n",
      "sil 8 2 0.0824331619217924\n"
     ]
    }
   ],
   "source": [
    "n_feat = X_train_std.shape[1]\n",
    "K1 = range(1,n_feat+1)\n",
    "elbow = 100000\n",
    "silhouette = -100000\n",
    "for i in K1:\n",
    "    RP = FeatureAgglomeration(n_clusters=i)\n",
    "    X_transformed = RP.fit_transform(X_train_std)\n",
    "    K2 = range(2,20)\n",
    "    for k in K2:\n",
    "        km = KMeans(n_clusters=k,random_state=1)\n",
    "        km = km.fit(X_transformed)\n",
    "        pred = km.predict(X_transformed)\n",
    "        score = silhouette_score(X_train_std, pred)\n",
    "        candidate = km.inertia_\n",
    "        if candidate < elbow:\n",
    "            elbow = candidate\n",
    "            print('elb',i,k,elbow)\n",
    "        if score > silhouette:\n",
    "            silhouette = score\n",
    "            print('sil',i,k,silhouette)"
   ]
  },
  {
   "cell_type": "markdown",
   "id": "68cff56d",
   "metadata": {},
   "source": [
    "FA+GM"
   ]
  },
  {
   "cell_type": "code",
   "execution_count": 42,
   "id": "46bfdad7",
   "metadata": {},
   "outputs": [
    {
     "name": "stdout",
     "output_type": "stream",
     "text": [
      "sil 1 2 0.06548864985184798\n",
      "sil 2 2 0.07262309827051339\n",
      "sil 3 2 0.07756274253204905\n",
      "sil 8 2 0.07900469998305787\n",
      "sil 9 2 0.08399034948811691\n"
     ]
    }
   ],
   "source": [
    "n_feat = X_train_std.shape[1]\n",
    "K1 = range(1,n_feat+1)\n",
    "elbow = 100000\n",
    "silhouette = -10000\n",
    "for i in K1:\n",
    "    RP = FeatureAgglomeration(n_clusters=i)\n",
    "    X_transformed = RP.fit_transform(X_train_std)\n",
    "    K2 = range(2,30)\n",
    "    for k in K2:\n",
    "        GM = GaussianMixture(n_components=k,random_state=1)\n",
    "        pred = GM.fit_predict(X_transformed)\n",
    "        score = silhouette_score(X_train_std, pred)\n",
    "        if score > silhouette:\n",
    "            silhouette = score\n",
    "            print('sil',i,k,silhouette)"
   ]
  },
  {
   "cell_type": "code",
   "execution_count": null,
   "id": "69cbc1c4",
   "metadata": {},
   "outputs": [],
   "source": []
  },
  {
   "cell_type": "code",
   "execution_count": null,
   "id": "43c36ee3",
   "metadata": {},
   "outputs": [],
   "source": []
  },
  {
   "cell_type": "code",
   "execution_count": null,
   "id": "595ac552",
   "metadata": {},
   "outputs": [],
   "source": []
  }
 ],
 "metadata": {
  "kernelspec": {
   "display_name": "Python 3",
   "language": "python",
   "name": "python3"
  },
  "language_info": {
   "codemirror_mode": {
    "name": "ipython",
    "version": 3
   },
   "file_extension": ".py",
   "mimetype": "text/x-python",
   "name": "python",
   "nbconvert_exporter": "python",
   "pygments_lexer": "ipython3",
   "version": "3.6.13"
  }
 },
 "nbformat": 4,
 "nbformat_minor": 5
}
